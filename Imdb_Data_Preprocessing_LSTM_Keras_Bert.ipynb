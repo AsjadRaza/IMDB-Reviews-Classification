{
  "nbformat": 4,
  "nbformat_minor": 0,
  "metadata": {
    "colab": {
      "name": "Copy_of_IMDB_with_multiple_models_handout_(3)_(1) (3).ipynb",
      "provenance": [],
      "collapsed_sections": [
        "9bDTvmyJ0cDy",
        "PRFQYUMkPZpa",
        "DNgb4L_OPTXW",
        "sK-_ky-IXaB0",
        "JLSB8X0Ezlaf",
        "bpez5Cti5l6I",
        "rye8FIZ7Pdf6",
        "91RhFrNzD9m0",
        "gzfW7WBCh9xp",
        "0dDFliMDt8su",
        "fywlphJGvW7q",
        "z2bq8QcQq4Hs",
        "XFYAB6GdgaTz",
        "_HbJSgqGw13z",
        "xzu3CVE61isk",
        "LLuNGGMsAlyL",
        "eLelh-TKUqIH",
        "4QFSGCX-UwoT",
        "TfHzDaW1U4Cv",
        "dEf1-hLnWw4a",
        "PT1c7E0C8juo",
        "POl-oCLvMhg9",
        "wlhwIVsGWKP1",
        "GqIYki0yWNeR"
      ]
    },
    "kernelspec": {
      "display_name": "Python 3",
      "language": "python",
      "name": "python3"
    },
    "language_info": {
      "codemirror_mode": {
        "name": "ipython",
        "version": 3
      },
      "file_extension": ".py",
      "mimetype": "text/x-python",
      "name": "python",
      "nbconvert_exporter": "python",
      "pygments_lexer": "ipython3",
      "version": "3.7.9"
    },
    "toc": {
      "base_numbering": 1,
      "nav_menu": {},
      "number_sections": true,
      "sideBar": true,
      "skip_h1_title": false,
      "title_cell": "Table of Contents",
      "title_sidebar": "Contents",
      "toc_cell": false,
      "toc_position": {},
      "toc_section_display": true,
      "toc_window_display": false
    },
    "varInspector": {
      "cols": {
        "lenName": 16,
        "lenType": 16,
        "lenVar": 40
      },
      "kernels_config": {
        "python": {
          "delete_cmd_postfix": "",
          "delete_cmd_prefix": "del ",
          "library": "var_list.py",
          "varRefreshCmd": "print(var_dic_list())"
        },
        "r": {
          "delete_cmd_postfix": ") ",
          "delete_cmd_prefix": "rm(",
          "library": "var_list.r",
          "varRefreshCmd": "cat(var_dic_list()) "
        }
      },
      "types_to_exclude": [
        "module",
        "function",
        "builtin_function_or_method",
        "instance",
        "_Feature"
      ],
      "window_display": false
    },
    "widgets": {
      "application/vnd.jupyter.widget-state+json": {
        "801f49aeb6a445a6bb921806ff38ca41": {
          "model_module": "@jupyter-widgets/controls",
          "model_name": "HBoxModel",
          "state": {
            "_view_name": "HBoxView",
            "_dom_classes": [],
            "_model_name": "HBoxModel",
            "_view_module": "@jupyter-widgets/controls",
            "_model_module_version": "1.5.0",
            "_view_count": null,
            "_view_module_version": "1.5.0",
            "box_style": "",
            "layout": "IPY_MODEL_8ca4e459538e49ac92f56872ac7c7dcd",
            "_model_module": "@jupyter-widgets/controls",
            "children": [
              "IPY_MODEL_d9dd78a199814477bf5ba94881f0ba93",
              "IPY_MODEL_5b4e382cb3a34d25aee101f96e5d8a8a"
            ]
          }
        },
        "8ca4e459538e49ac92f56872ac7c7dcd": {
          "model_module": "@jupyter-widgets/base",
          "model_name": "LayoutModel",
          "state": {
            "_view_name": "LayoutView",
            "grid_template_rows": null,
            "right": null,
            "justify_content": null,
            "_view_module": "@jupyter-widgets/base",
            "overflow": null,
            "_model_module_version": "1.2.0",
            "_view_count": null,
            "flex_flow": null,
            "width": null,
            "min_width": null,
            "border": null,
            "align_items": null,
            "bottom": null,
            "_model_module": "@jupyter-widgets/base",
            "top": null,
            "grid_column": null,
            "overflow_y": null,
            "overflow_x": null,
            "grid_auto_flow": null,
            "grid_area": null,
            "grid_template_columns": null,
            "flex": null,
            "_model_name": "LayoutModel",
            "justify_items": null,
            "grid_row": null,
            "max_height": null,
            "align_content": null,
            "visibility": null,
            "align_self": null,
            "height": null,
            "min_height": null,
            "padding": null,
            "grid_auto_rows": null,
            "grid_gap": null,
            "max_width": null,
            "order": null,
            "_view_module_version": "1.2.0",
            "grid_template_areas": null,
            "object_position": null,
            "object_fit": null,
            "grid_auto_columns": null,
            "margin": null,
            "display": null,
            "left": null
          }
        },
        "d9dd78a199814477bf5ba94881f0ba93": {
          "model_module": "@jupyter-widgets/controls",
          "model_name": "FloatProgressModel",
          "state": {
            "_view_name": "ProgressView",
            "style": "IPY_MODEL_7670955a59314c5f99e18d95f5b9dcae",
            "_dom_classes": [],
            "description": "Dl Completed...: 100%",
            "_model_name": "FloatProgressModel",
            "bar_style": "success",
            "max": 1,
            "_view_module": "@jupyter-widgets/controls",
            "_model_module_version": "1.5.0",
            "value": 1,
            "_view_count": null,
            "_view_module_version": "1.5.0",
            "orientation": "horizontal",
            "min": 0,
            "description_tooltip": null,
            "_model_module": "@jupyter-widgets/controls",
            "layout": "IPY_MODEL_09a00518c36c4a11815b96f004e6a8c1"
          }
        },
        "5b4e382cb3a34d25aee101f96e5d8a8a": {
          "model_module": "@jupyter-widgets/controls",
          "model_name": "HTMLModel",
          "state": {
            "_view_name": "HTMLView",
            "style": "IPY_MODEL_c93b15c6c53f4339b46d2bcfd27a1d70",
            "_dom_classes": [],
            "description": "",
            "_model_name": "HTMLModel",
            "placeholder": "​",
            "_view_module": "@jupyter-widgets/controls",
            "_model_module_version": "1.5.0",
            "value": " 1/1 [00:01&lt;00:00,  1.80s/ url]",
            "_view_count": null,
            "_view_module_version": "1.5.0",
            "description_tooltip": null,
            "_model_module": "@jupyter-widgets/controls",
            "layout": "IPY_MODEL_28cbdeb793d246b1b6ee8d8308df596b"
          }
        },
        "7670955a59314c5f99e18d95f5b9dcae": {
          "model_module": "@jupyter-widgets/controls",
          "model_name": "ProgressStyleModel",
          "state": {
            "_view_name": "StyleView",
            "_model_name": "ProgressStyleModel",
            "description_width": "initial",
            "_view_module": "@jupyter-widgets/base",
            "_model_module_version": "1.5.0",
            "_view_count": null,
            "_view_module_version": "1.2.0",
            "bar_color": null,
            "_model_module": "@jupyter-widgets/controls"
          }
        },
        "09a00518c36c4a11815b96f004e6a8c1": {
          "model_module": "@jupyter-widgets/base",
          "model_name": "LayoutModel",
          "state": {
            "_view_name": "LayoutView",
            "grid_template_rows": null,
            "right": null,
            "justify_content": null,
            "_view_module": "@jupyter-widgets/base",
            "overflow": null,
            "_model_module_version": "1.2.0",
            "_view_count": null,
            "flex_flow": null,
            "width": null,
            "min_width": null,
            "border": null,
            "align_items": null,
            "bottom": null,
            "_model_module": "@jupyter-widgets/base",
            "top": null,
            "grid_column": null,
            "overflow_y": null,
            "overflow_x": null,
            "grid_auto_flow": null,
            "grid_area": null,
            "grid_template_columns": null,
            "flex": null,
            "_model_name": "LayoutModel",
            "justify_items": null,
            "grid_row": null,
            "max_height": null,
            "align_content": null,
            "visibility": null,
            "align_self": null,
            "height": null,
            "min_height": null,
            "padding": null,
            "grid_auto_rows": null,
            "grid_gap": null,
            "max_width": null,
            "order": null,
            "_view_module_version": "1.2.0",
            "grid_template_areas": null,
            "object_position": null,
            "object_fit": null,
            "grid_auto_columns": null,
            "margin": null,
            "display": null,
            "left": null
          }
        },
        "c93b15c6c53f4339b46d2bcfd27a1d70": {
          "model_module": "@jupyter-widgets/controls",
          "model_name": "DescriptionStyleModel",
          "state": {
            "_view_name": "StyleView",
            "_model_name": "DescriptionStyleModel",
            "description_width": "",
            "_view_module": "@jupyter-widgets/base",
            "_model_module_version": "1.5.0",
            "_view_count": null,
            "_view_module_version": "1.2.0",
            "_model_module": "@jupyter-widgets/controls"
          }
        },
        "28cbdeb793d246b1b6ee8d8308df596b": {
          "model_module": "@jupyter-widgets/base",
          "model_name": "LayoutModel",
          "state": {
            "_view_name": "LayoutView",
            "grid_template_rows": null,
            "right": null,
            "justify_content": null,
            "_view_module": "@jupyter-widgets/base",
            "overflow": null,
            "_model_module_version": "1.2.0",
            "_view_count": null,
            "flex_flow": null,
            "width": null,
            "min_width": null,
            "border": null,
            "align_items": null,
            "bottom": null,
            "_model_module": "@jupyter-widgets/base",
            "top": null,
            "grid_column": null,
            "overflow_y": null,
            "overflow_x": null,
            "grid_auto_flow": null,
            "grid_area": null,
            "grid_template_columns": null,
            "flex": null,
            "_model_name": "LayoutModel",
            "justify_items": null,
            "grid_row": null,
            "max_height": null,
            "align_content": null,
            "visibility": null,
            "align_self": null,
            "height": null,
            "min_height": null,
            "padding": null,
            "grid_auto_rows": null,
            "grid_gap": null,
            "max_width": null,
            "order": null,
            "_view_module_version": "1.2.0",
            "grid_template_areas": null,
            "object_position": null,
            "object_fit": null,
            "grid_auto_columns": null,
            "margin": null,
            "display": null,
            "left": null
          }
        },
        "ec64393d9c8247d5aa900674d7b0a9e3": {
          "model_module": "@jupyter-widgets/controls",
          "model_name": "HBoxModel",
          "state": {
            "_view_name": "HBoxView",
            "_dom_classes": [],
            "_model_name": "HBoxModel",
            "_view_module": "@jupyter-widgets/controls",
            "_model_module_version": "1.5.0",
            "_view_count": null,
            "_view_module_version": "1.5.0",
            "box_style": "",
            "layout": "IPY_MODEL_a13f6051bb1c410a9ee302f22ac654b3",
            "_model_module": "@jupyter-widgets/controls",
            "children": [
              "IPY_MODEL_7e0f2362444841aea5204842f8cec4d4",
              "IPY_MODEL_b25444553fc946a1bfb837f6a6aa6961"
            ]
          }
        },
        "a13f6051bb1c410a9ee302f22ac654b3": {
          "model_module": "@jupyter-widgets/base",
          "model_name": "LayoutModel",
          "state": {
            "_view_name": "LayoutView",
            "grid_template_rows": null,
            "right": null,
            "justify_content": null,
            "_view_module": "@jupyter-widgets/base",
            "overflow": null,
            "_model_module_version": "1.2.0",
            "_view_count": null,
            "flex_flow": null,
            "width": null,
            "min_width": null,
            "border": null,
            "align_items": null,
            "bottom": null,
            "_model_module": "@jupyter-widgets/base",
            "top": null,
            "grid_column": null,
            "overflow_y": null,
            "overflow_x": null,
            "grid_auto_flow": null,
            "grid_area": null,
            "grid_template_columns": null,
            "flex": null,
            "_model_name": "LayoutModel",
            "justify_items": null,
            "grid_row": null,
            "max_height": null,
            "align_content": null,
            "visibility": null,
            "align_self": null,
            "height": null,
            "min_height": null,
            "padding": null,
            "grid_auto_rows": null,
            "grid_gap": null,
            "max_width": null,
            "order": null,
            "_view_module_version": "1.2.0",
            "grid_template_areas": null,
            "object_position": null,
            "object_fit": null,
            "grid_auto_columns": null,
            "margin": null,
            "display": null,
            "left": null
          }
        },
        "7e0f2362444841aea5204842f8cec4d4": {
          "model_module": "@jupyter-widgets/controls",
          "model_name": "FloatProgressModel",
          "state": {
            "_view_name": "ProgressView",
            "style": "IPY_MODEL_38db9a8c31114e9d822a5b5b8cdc4ac2",
            "_dom_classes": [],
            "description": "Dl Size...: 100%",
            "_model_name": "FloatProgressModel",
            "bar_style": "success",
            "max": 1,
            "_view_module": "@jupyter-widgets/controls",
            "_model_module_version": "1.5.0",
            "value": 1,
            "_view_count": null,
            "_view_module_version": "1.5.0",
            "orientation": "horizontal",
            "min": 0,
            "description_tooltip": null,
            "_model_module": "@jupyter-widgets/controls",
            "layout": "IPY_MODEL_28a51f7092c849dc92d4ae0b3d6c68c0"
          }
        },
        "b25444553fc946a1bfb837f6a6aa6961": {
          "model_module": "@jupyter-widgets/controls",
          "model_name": "HTMLModel",
          "state": {
            "_view_name": "HTMLView",
            "style": "IPY_MODEL_102a2d7c3e334ff58bf862166f7493bd",
            "_dom_classes": [],
            "description": "",
            "_model_name": "HTMLModel",
            "placeholder": "​",
            "_view_module": "@jupyter-widgets/controls",
            "_model_module_version": "1.5.0",
            "value": " 80/80 [00:01&lt;00:00, 45.10 MiB/s]",
            "_view_count": null,
            "_view_module_version": "1.5.0",
            "description_tooltip": null,
            "_model_module": "@jupyter-widgets/controls",
            "layout": "IPY_MODEL_20192b5118a2485ca2c4854aee7ae62e"
          }
        },
        "38db9a8c31114e9d822a5b5b8cdc4ac2": {
          "model_module": "@jupyter-widgets/controls",
          "model_name": "ProgressStyleModel",
          "state": {
            "_view_name": "StyleView",
            "_model_name": "ProgressStyleModel",
            "description_width": "initial",
            "_view_module": "@jupyter-widgets/base",
            "_model_module_version": "1.5.0",
            "_view_count": null,
            "_view_module_version": "1.2.0",
            "bar_color": null,
            "_model_module": "@jupyter-widgets/controls"
          }
        },
        "28a51f7092c849dc92d4ae0b3d6c68c0": {
          "model_module": "@jupyter-widgets/base",
          "model_name": "LayoutModel",
          "state": {
            "_view_name": "LayoutView",
            "grid_template_rows": null,
            "right": null,
            "justify_content": null,
            "_view_module": "@jupyter-widgets/base",
            "overflow": null,
            "_model_module_version": "1.2.0",
            "_view_count": null,
            "flex_flow": null,
            "width": null,
            "min_width": null,
            "border": null,
            "align_items": null,
            "bottom": null,
            "_model_module": "@jupyter-widgets/base",
            "top": null,
            "grid_column": null,
            "overflow_y": null,
            "overflow_x": null,
            "grid_auto_flow": null,
            "grid_area": null,
            "grid_template_columns": null,
            "flex": null,
            "_model_name": "LayoutModel",
            "justify_items": null,
            "grid_row": null,
            "max_height": null,
            "align_content": null,
            "visibility": null,
            "align_self": null,
            "height": null,
            "min_height": null,
            "padding": null,
            "grid_auto_rows": null,
            "grid_gap": null,
            "max_width": null,
            "order": null,
            "_view_module_version": "1.2.0",
            "grid_template_areas": null,
            "object_position": null,
            "object_fit": null,
            "grid_auto_columns": null,
            "margin": null,
            "display": null,
            "left": null
          }
        },
        "102a2d7c3e334ff58bf862166f7493bd": {
          "model_module": "@jupyter-widgets/controls",
          "model_name": "DescriptionStyleModel",
          "state": {
            "_view_name": "StyleView",
            "_model_name": "DescriptionStyleModel",
            "description_width": "",
            "_view_module": "@jupyter-widgets/base",
            "_model_module_version": "1.5.0",
            "_view_count": null,
            "_view_module_version": "1.2.0",
            "_model_module": "@jupyter-widgets/controls"
          }
        },
        "20192b5118a2485ca2c4854aee7ae62e": {
          "model_module": "@jupyter-widgets/base",
          "model_name": "LayoutModel",
          "state": {
            "_view_name": "LayoutView",
            "grid_template_rows": null,
            "right": null,
            "justify_content": null,
            "_view_module": "@jupyter-widgets/base",
            "overflow": null,
            "_model_module_version": "1.2.0",
            "_view_count": null,
            "flex_flow": null,
            "width": null,
            "min_width": null,
            "border": null,
            "align_items": null,
            "bottom": null,
            "_model_module": "@jupyter-widgets/base",
            "top": null,
            "grid_column": null,
            "overflow_y": null,
            "overflow_x": null,
            "grid_auto_flow": null,
            "grid_area": null,
            "grid_template_columns": null,
            "flex": null,
            "_model_name": "LayoutModel",
            "justify_items": null,
            "grid_row": null,
            "max_height": null,
            "align_content": null,
            "visibility": null,
            "align_self": null,
            "height": null,
            "min_height": null,
            "padding": null,
            "grid_auto_rows": null,
            "grid_gap": null,
            "max_width": null,
            "order": null,
            "_view_module_version": "1.2.0",
            "grid_template_areas": null,
            "object_position": null,
            "object_fit": null,
            "grid_auto_columns": null,
            "margin": null,
            "display": null,
            "left": null
          }
        },
        "bc57f4b03f8f4f06be1ab9c6f5beade7": {
          "model_module": "@jupyter-widgets/controls",
          "model_name": "HBoxModel",
          "state": {
            "_view_name": "HBoxView",
            "_dom_classes": [],
            "_model_name": "HBoxModel",
            "_view_module": "@jupyter-widgets/controls",
            "_model_module_version": "1.5.0",
            "_view_count": null,
            "_view_module_version": "1.5.0",
            "box_style": "",
            "layout": "IPY_MODEL_514499133c3c4f7899f71695c8f90220",
            "_model_module": "@jupyter-widgets/controls",
            "children": [
              "IPY_MODEL_6a5ce5a65daf473dbc09191d83e3bc27",
              "IPY_MODEL_1fbfff75b4a445568e0d6a4c5452c401"
            ]
          }
        },
        "514499133c3c4f7899f71695c8f90220": {
          "model_module": "@jupyter-widgets/base",
          "model_name": "LayoutModel",
          "state": {
            "_view_name": "LayoutView",
            "grid_template_rows": null,
            "right": null,
            "justify_content": null,
            "_view_module": "@jupyter-widgets/base",
            "overflow": null,
            "_model_module_version": "1.2.0",
            "_view_count": null,
            "flex_flow": null,
            "width": null,
            "min_width": null,
            "border": null,
            "align_items": null,
            "bottom": null,
            "_model_module": "@jupyter-widgets/base",
            "top": null,
            "grid_column": null,
            "overflow_y": null,
            "overflow_x": null,
            "grid_auto_flow": null,
            "grid_area": null,
            "grid_template_columns": null,
            "flex": null,
            "_model_name": "LayoutModel",
            "justify_items": null,
            "grid_row": null,
            "max_height": null,
            "align_content": null,
            "visibility": null,
            "align_self": null,
            "height": null,
            "min_height": null,
            "padding": null,
            "grid_auto_rows": null,
            "grid_gap": null,
            "max_width": null,
            "order": null,
            "_view_module_version": "1.2.0",
            "grid_template_areas": null,
            "object_position": null,
            "object_fit": null,
            "grid_auto_columns": null,
            "margin": null,
            "display": null,
            "left": null
          }
        },
        "6a5ce5a65daf473dbc09191d83e3bc27": {
          "model_module": "@jupyter-widgets/controls",
          "model_name": "FloatProgressModel",
          "state": {
            "_view_name": "ProgressView",
            "style": "IPY_MODEL_c46cf8635dcd40a789cc4869888accdd",
            "_dom_classes": [],
            "description": "",
            "_model_name": "FloatProgressModel",
            "bar_style": "info",
            "max": 1,
            "_view_module": "@jupyter-widgets/controls",
            "_model_module_version": "1.5.0",
            "value": 1,
            "_view_count": null,
            "_view_module_version": "1.5.0",
            "orientation": "horizontal",
            "min": 0,
            "description_tooltip": null,
            "_model_module": "@jupyter-widgets/controls",
            "layout": "IPY_MODEL_76a174dcbb4a43a2accd92b029949b16"
          }
        },
        "1fbfff75b4a445568e0d6a4c5452c401": {
          "model_module": "@jupyter-widgets/controls",
          "model_name": "HTMLModel",
          "state": {
            "_view_name": "HTMLView",
            "style": "IPY_MODEL_3e1d406b4c31449db7497eb756eef5fb",
            "_dom_classes": [],
            "description": "",
            "_model_name": "HTMLModel",
            "placeholder": "​",
            "_view_module": "@jupyter-widgets/controls",
            "_model_module_version": "1.5.0",
            "value": " 25000/0 [00:13&lt;00:00, 3344.64 examples/s]",
            "_view_count": null,
            "_view_module_version": "1.5.0",
            "description_tooltip": null,
            "_model_module": "@jupyter-widgets/controls",
            "layout": "IPY_MODEL_739606cbcd504824a784df89d025519f"
          }
        },
        "c46cf8635dcd40a789cc4869888accdd": {
          "model_module": "@jupyter-widgets/controls",
          "model_name": "ProgressStyleModel",
          "state": {
            "_view_name": "StyleView",
            "_model_name": "ProgressStyleModel",
            "description_width": "initial",
            "_view_module": "@jupyter-widgets/base",
            "_model_module_version": "1.5.0",
            "_view_count": null,
            "_view_module_version": "1.2.0",
            "bar_color": null,
            "_model_module": "@jupyter-widgets/controls"
          }
        },
        "76a174dcbb4a43a2accd92b029949b16": {
          "model_module": "@jupyter-widgets/base",
          "model_name": "LayoutModel",
          "state": {
            "_view_name": "LayoutView",
            "grid_template_rows": null,
            "right": null,
            "justify_content": null,
            "_view_module": "@jupyter-widgets/base",
            "overflow": null,
            "_model_module_version": "1.2.0",
            "_view_count": null,
            "flex_flow": null,
            "width": null,
            "min_width": null,
            "border": null,
            "align_items": null,
            "bottom": null,
            "_model_module": "@jupyter-widgets/base",
            "top": null,
            "grid_column": null,
            "overflow_y": null,
            "overflow_x": null,
            "grid_auto_flow": null,
            "grid_area": null,
            "grid_template_columns": null,
            "flex": null,
            "_model_name": "LayoutModel",
            "justify_items": null,
            "grid_row": null,
            "max_height": null,
            "align_content": null,
            "visibility": null,
            "align_self": null,
            "height": null,
            "min_height": null,
            "padding": null,
            "grid_auto_rows": null,
            "grid_gap": null,
            "max_width": null,
            "order": null,
            "_view_module_version": "1.2.0",
            "grid_template_areas": null,
            "object_position": null,
            "object_fit": null,
            "grid_auto_columns": null,
            "margin": null,
            "display": null,
            "left": null
          }
        },
        "3e1d406b4c31449db7497eb756eef5fb": {
          "model_module": "@jupyter-widgets/controls",
          "model_name": "DescriptionStyleModel",
          "state": {
            "_view_name": "StyleView",
            "_model_name": "DescriptionStyleModel",
            "description_width": "",
            "_view_module": "@jupyter-widgets/base",
            "_model_module_version": "1.5.0",
            "_view_count": null,
            "_view_module_version": "1.2.0",
            "_model_module": "@jupyter-widgets/controls"
          }
        },
        "739606cbcd504824a784df89d025519f": {
          "model_module": "@jupyter-widgets/base",
          "model_name": "LayoutModel",
          "state": {
            "_view_name": "LayoutView",
            "grid_template_rows": null,
            "right": null,
            "justify_content": null,
            "_view_module": "@jupyter-widgets/base",
            "overflow": null,
            "_model_module_version": "1.2.0",
            "_view_count": null,
            "flex_flow": null,
            "width": null,
            "min_width": null,
            "border": null,
            "align_items": null,
            "bottom": null,
            "_model_module": "@jupyter-widgets/base",
            "top": null,
            "grid_column": null,
            "overflow_y": null,
            "overflow_x": null,
            "grid_auto_flow": null,
            "grid_area": null,
            "grid_template_columns": null,
            "flex": null,
            "_model_name": "LayoutModel",
            "justify_items": null,
            "grid_row": null,
            "max_height": null,
            "align_content": null,
            "visibility": null,
            "align_self": null,
            "height": null,
            "min_height": null,
            "padding": null,
            "grid_auto_rows": null,
            "grid_gap": null,
            "max_width": null,
            "order": null,
            "_view_module_version": "1.2.0",
            "grid_template_areas": null,
            "object_position": null,
            "object_fit": null,
            "grid_auto_columns": null,
            "margin": null,
            "display": null,
            "left": null
          }
        },
        "d0400f40e1594d6fb24cd564c6c302d6": {
          "model_module": "@jupyter-widgets/controls",
          "model_name": "HBoxModel",
          "state": {
            "_view_name": "HBoxView",
            "_dom_classes": [],
            "_model_name": "HBoxModel",
            "_view_module": "@jupyter-widgets/controls",
            "_model_module_version": "1.5.0",
            "_view_count": null,
            "_view_module_version": "1.5.0",
            "box_style": "",
            "layout": "IPY_MODEL_5984649bad7c46a18efbbd170faeb5e0",
            "_model_module": "@jupyter-widgets/controls",
            "children": [
              "IPY_MODEL_4df2fcf2404d46e78fbb81adc3c395f7",
              "IPY_MODEL_2b845a734a614f72b7c454964ee3c659"
            ]
          }
        },
        "5984649bad7c46a18efbbd170faeb5e0": {
          "model_module": "@jupyter-widgets/base",
          "model_name": "LayoutModel",
          "state": {
            "_view_name": "LayoutView",
            "grid_template_rows": null,
            "right": null,
            "justify_content": null,
            "_view_module": "@jupyter-widgets/base",
            "overflow": null,
            "_model_module_version": "1.2.0",
            "_view_count": null,
            "flex_flow": null,
            "width": null,
            "min_width": null,
            "border": null,
            "align_items": null,
            "bottom": null,
            "_model_module": "@jupyter-widgets/base",
            "top": null,
            "grid_column": null,
            "overflow_y": null,
            "overflow_x": null,
            "grid_auto_flow": null,
            "grid_area": null,
            "grid_template_columns": null,
            "flex": null,
            "_model_name": "LayoutModel",
            "justify_items": null,
            "grid_row": null,
            "max_height": null,
            "align_content": null,
            "visibility": null,
            "align_self": null,
            "height": null,
            "min_height": null,
            "padding": null,
            "grid_auto_rows": null,
            "grid_gap": null,
            "max_width": null,
            "order": null,
            "_view_module_version": "1.2.0",
            "grid_template_areas": null,
            "object_position": null,
            "object_fit": null,
            "grid_auto_columns": null,
            "margin": null,
            "display": null,
            "left": null
          }
        },
        "4df2fcf2404d46e78fbb81adc3c395f7": {
          "model_module": "@jupyter-widgets/controls",
          "model_name": "FloatProgressModel",
          "state": {
            "_view_name": "ProgressView",
            "style": "IPY_MODEL_98f2850c8cb14c7b99ed4264c8964d4f",
            "_dom_classes": [],
            "description": " 56%",
            "_model_name": "FloatProgressModel",
            "bar_style": "danger",
            "max": 25000,
            "_view_module": "@jupyter-widgets/controls",
            "_model_module_version": "1.5.0",
            "value": 13938,
            "_view_count": null,
            "_view_module_version": "1.5.0",
            "orientation": "horizontal",
            "min": 0,
            "description_tooltip": null,
            "_model_module": "@jupyter-widgets/controls",
            "layout": "IPY_MODEL_f861e321410947f9a33fe337d9db0fa4"
          }
        },
        "2b845a734a614f72b7c454964ee3c659": {
          "model_module": "@jupyter-widgets/controls",
          "model_name": "HTMLModel",
          "state": {
            "_view_name": "HTMLView",
            "style": "IPY_MODEL_50d038ab0a594e38ac1826bac88c4413",
            "_dom_classes": [],
            "description": "",
            "_model_name": "HTMLModel",
            "placeholder": "​",
            "_view_module": "@jupyter-widgets/controls",
            "_model_module_version": "1.5.0",
            "value": " 13938/25000 [00:00&lt;00:00, 139376.48 examples/s]",
            "_view_count": null,
            "_view_module_version": "1.5.0",
            "description_tooltip": null,
            "_model_module": "@jupyter-widgets/controls",
            "layout": "IPY_MODEL_b522708937b74ee7b5be2c1d384d3406"
          }
        },
        "98f2850c8cb14c7b99ed4264c8964d4f": {
          "model_module": "@jupyter-widgets/controls",
          "model_name": "ProgressStyleModel",
          "state": {
            "_view_name": "StyleView",
            "_model_name": "ProgressStyleModel",
            "description_width": "initial",
            "_view_module": "@jupyter-widgets/base",
            "_model_module_version": "1.5.0",
            "_view_count": null,
            "_view_module_version": "1.2.0",
            "bar_color": null,
            "_model_module": "@jupyter-widgets/controls"
          }
        },
        "f861e321410947f9a33fe337d9db0fa4": {
          "model_module": "@jupyter-widgets/base",
          "model_name": "LayoutModel",
          "state": {
            "_view_name": "LayoutView",
            "grid_template_rows": null,
            "right": null,
            "justify_content": null,
            "_view_module": "@jupyter-widgets/base",
            "overflow": null,
            "_model_module_version": "1.2.0",
            "_view_count": null,
            "flex_flow": null,
            "width": null,
            "min_width": null,
            "border": null,
            "align_items": null,
            "bottom": null,
            "_model_module": "@jupyter-widgets/base",
            "top": null,
            "grid_column": null,
            "overflow_y": null,
            "overflow_x": null,
            "grid_auto_flow": null,
            "grid_area": null,
            "grid_template_columns": null,
            "flex": null,
            "_model_name": "LayoutModel",
            "justify_items": null,
            "grid_row": null,
            "max_height": null,
            "align_content": null,
            "visibility": null,
            "align_self": null,
            "height": null,
            "min_height": null,
            "padding": null,
            "grid_auto_rows": null,
            "grid_gap": null,
            "max_width": null,
            "order": null,
            "_view_module_version": "1.2.0",
            "grid_template_areas": null,
            "object_position": null,
            "object_fit": null,
            "grid_auto_columns": null,
            "margin": null,
            "display": null,
            "left": null
          }
        },
        "50d038ab0a594e38ac1826bac88c4413": {
          "model_module": "@jupyter-widgets/controls",
          "model_name": "DescriptionStyleModel",
          "state": {
            "_view_name": "StyleView",
            "_model_name": "DescriptionStyleModel",
            "description_width": "",
            "_view_module": "@jupyter-widgets/base",
            "_model_module_version": "1.5.0",
            "_view_count": null,
            "_view_module_version": "1.2.0",
            "_model_module": "@jupyter-widgets/controls"
          }
        },
        "b522708937b74ee7b5be2c1d384d3406": {
          "model_module": "@jupyter-widgets/base",
          "model_name": "LayoutModel",
          "state": {
            "_view_name": "LayoutView",
            "grid_template_rows": null,
            "right": null,
            "justify_content": null,
            "_view_module": "@jupyter-widgets/base",
            "overflow": null,
            "_model_module_version": "1.2.0",
            "_view_count": null,
            "flex_flow": null,
            "width": null,
            "min_width": null,
            "border": null,
            "align_items": null,
            "bottom": null,
            "_model_module": "@jupyter-widgets/base",
            "top": null,
            "grid_column": null,
            "overflow_y": null,
            "overflow_x": null,
            "grid_auto_flow": null,
            "grid_area": null,
            "grid_template_columns": null,
            "flex": null,
            "_model_name": "LayoutModel",
            "justify_items": null,
            "grid_row": null,
            "max_height": null,
            "align_content": null,
            "visibility": null,
            "align_self": null,
            "height": null,
            "min_height": null,
            "padding": null,
            "grid_auto_rows": null,
            "grid_gap": null,
            "max_width": null,
            "order": null,
            "_view_module_version": "1.2.0",
            "grid_template_areas": null,
            "object_position": null,
            "object_fit": null,
            "grid_auto_columns": null,
            "margin": null,
            "display": null,
            "left": null
          }
        },
        "bfc2caef32d740edb60d719c6ad4b1b4": {
          "model_module": "@jupyter-widgets/controls",
          "model_name": "HBoxModel",
          "state": {
            "_view_name": "HBoxView",
            "_dom_classes": [],
            "_model_name": "HBoxModel",
            "_view_module": "@jupyter-widgets/controls",
            "_model_module_version": "1.5.0",
            "_view_count": null,
            "_view_module_version": "1.5.0",
            "box_style": "",
            "layout": "IPY_MODEL_46c69f80ec304e55ba547ee463a41a25",
            "_model_module": "@jupyter-widgets/controls",
            "children": [
              "IPY_MODEL_955c7eaefe104268bb56182c28b873ae",
              "IPY_MODEL_a7da8060809e4207a9d4b2fac34fcd89"
            ]
          }
        },
        "46c69f80ec304e55ba547ee463a41a25": {
          "model_module": "@jupyter-widgets/base",
          "model_name": "LayoutModel",
          "state": {
            "_view_name": "LayoutView",
            "grid_template_rows": null,
            "right": null,
            "justify_content": null,
            "_view_module": "@jupyter-widgets/base",
            "overflow": null,
            "_model_module_version": "1.2.0",
            "_view_count": null,
            "flex_flow": null,
            "width": null,
            "min_width": null,
            "border": null,
            "align_items": null,
            "bottom": null,
            "_model_module": "@jupyter-widgets/base",
            "top": null,
            "grid_column": null,
            "overflow_y": null,
            "overflow_x": null,
            "grid_auto_flow": null,
            "grid_area": null,
            "grid_template_columns": null,
            "flex": null,
            "_model_name": "LayoutModel",
            "justify_items": null,
            "grid_row": null,
            "max_height": null,
            "align_content": null,
            "visibility": null,
            "align_self": null,
            "height": null,
            "min_height": null,
            "padding": null,
            "grid_auto_rows": null,
            "grid_gap": null,
            "max_width": null,
            "order": null,
            "_view_module_version": "1.2.0",
            "grid_template_areas": null,
            "object_position": null,
            "object_fit": null,
            "grid_auto_columns": null,
            "margin": null,
            "display": null,
            "left": null
          }
        },
        "955c7eaefe104268bb56182c28b873ae": {
          "model_module": "@jupyter-widgets/controls",
          "model_name": "FloatProgressModel",
          "state": {
            "_view_name": "ProgressView",
            "style": "IPY_MODEL_ce8ca2aaee1d48dfa3a268d30b8293bd",
            "_dom_classes": [],
            "description": "",
            "_model_name": "FloatProgressModel",
            "bar_style": "info",
            "max": 1,
            "_view_module": "@jupyter-widgets/controls",
            "_model_module_version": "1.5.0",
            "value": 1,
            "_view_count": null,
            "_view_module_version": "1.5.0",
            "orientation": "horizontal",
            "min": 0,
            "description_tooltip": null,
            "_model_module": "@jupyter-widgets/controls",
            "layout": "IPY_MODEL_a85a9958b319495eaa2c149861beec5f"
          }
        },
        "a7da8060809e4207a9d4b2fac34fcd89": {
          "model_module": "@jupyter-widgets/controls",
          "model_name": "HTMLModel",
          "state": {
            "_view_name": "HTMLView",
            "style": "IPY_MODEL_61cc7dfa4c0f495fb64e4c2578ac3376",
            "_dom_classes": [],
            "description": "",
            "_model_name": "HTMLModel",
            "placeholder": "​",
            "_view_module": "@jupyter-widgets/controls",
            "_model_module_version": "1.5.0",
            "value": " 25000/0 [00:12&lt;00:00, 3494.70 examples/s]",
            "_view_count": null,
            "_view_module_version": "1.5.0",
            "description_tooltip": null,
            "_model_module": "@jupyter-widgets/controls",
            "layout": "IPY_MODEL_0cffaba63fdd4ca8be63d71d71a70d7c"
          }
        },
        "ce8ca2aaee1d48dfa3a268d30b8293bd": {
          "model_module": "@jupyter-widgets/controls",
          "model_name": "ProgressStyleModel",
          "state": {
            "_view_name": "StyleView",
            "_model_name": "ProgressStyleModel",
            "description_width": "initial",
            "_view_module": "@jupyter-widgets/base",
            "_model_module_version": "1.5.0",
            "_view_count": null,
            "_view_module_version": "1.2.0",
            "bar_color": null,
            "_model_module": "@jupyter-widgets/controls"
          }
        },
        "a85a9958b319495eaa2c149861beec5f": {
          "model_module": "@jupyter-widgets/base",
          "model_name": "LayoutModel",
          "state": {
            "_view_name": "LayoutView",
            "grid_template_rows": null,
            "right": null,
            "justify_content": null,
            "_view_module": "@jupyter-widgets/base",
            "overflow": null,
            "_model_module_version": "1.2.0",
            "_view_count": null,
            "flex_flow": null,
            "width": null,
            "min_width": null,
            "border": null,
            "align_items": null,
            "bottom": null,
            "_model_module": "@jupyter-widgets/base",
            "top": null,
            "grid_column": null,
            "overflow_y": null,
            "overflow_x": null,
            "grid_auto_flow": null,
            "grid_area": null,
            "grid_template_columns": null,
            "flex": null,
            "_model_name": "LayoutModel",
            "justify_items": null,
            "grid_row": null,
            "max_height": null,
            "align_content": null,
            "visibility": null,
            "align_self": null,
            "height": null,
            "min_height": null,
            "padding": null,
            "grid_auto_rows": null,
            "grid_gap": null,
            "max_width": null,
            "order": null,
            "_view_module_version": "1.2.0",
            "grid_template_areas": null,
            "object_position": null,
            "object_fit": null,
            "grid_auto_columns": null,
            "margin": null,
            "display": null,
            "left": null
          }
        },
        "61cc7dfa4c0f495fb64e4c2578ac3376": {
          "model_module": "@jupyter-widgets/controls",
          "model_name": "DescriptionStyleModel",
          "state": {
            "_view_name": "StyleView",
            "_model_name": "DescriptionStyleModel",
            "description_width": "",
            "_view_module": "@jupyter-widgets/base",
            "_model_module_version": "1.5.0",
            "_view_count": null,
            "_view_module_version": "1.2.0",
            "_model_module": "@jupyter-widgets/controls"
          }
        },
        "0cffaba63fdd4ca8be63d71d71a70d7c": {
          "model_module": "@jupyter-widgets/base",
          "model_name": "LayoutModel",
          "state": {
            "_view_name": "LayoutView",
            "grid_template_rows": null,
            "right": null,
            "justify_content": null,
            "_view_module": "@jupyter-widgets/base",
            "overflow": null,
            "_model_module_version": "1.2.0",
            "_view_count": null,
            "flex_flow": null,
            "width": null,
            "min_width": null,
            "border": null,
            "align_items": null,
            "bottom": null,
            "_model_module": "@jupyter-widgets/base",
            "top": null,
            "grid_column": null,
            "overflow_y": null,
            "overflow_x": null,
            "grid_auto_flow": null,
            "grid_area": null,
            "grid_template_columns": null,
            "flex": null,
            "_model_name": "LayoutModel",
            "justify_items": null,
            "grid_row": null,
            "max_height": null,
            "align_content": null,
            "visibility": null,
            "align_self": null,
            "height": null,
            "min_height": null,
            "padding": null,
            "grid_auto_rows": null,
            "grid_gap": null,
            "max_width": null,
            "order": null,
            "_view_module_version": "1.2.0",
            "grid_template_areas": null,
            "object_position": null,
            "object_fit": null,
            "grid_auto_columns": null,
            "margin": null,
            "display": null,
            "left": null
          }
        },
        "6ac59868099343228efabe96b255d0e6": {
          "model_module": "@jupyter-widgets/controls",
          "model_name": "HBoxModel",
          "state": {
            "_view_name": "HBoxView",
            "_dom_classes": [],
            "_model_name": "HBoxModel",
            "_view_module": "@jupyter-widgets/controls",
            "_model_module_version": "1.5.0",
            "_view_count": null,
            "_view_module_version": "1.5.0",
            "box_style": "",
            "layout": "IPY_MODEL_23a7da24b61b46daa77cbc51b6c770a2",
            "_model_module": "@jupyter-widgets/controls",
            "children": [
              "IPY_MODEL_ae751ec3a7e64b0786f289a19184619b",
              "IPY_MODEL_876848d2d269416085dfcbe9b4509a62"
            ]
          }
        },
        "23a7da24b61b46daa77cbc51b6c770a2": {
          "model_module": "@jupyter-widgets/base",
          "model_name": "LayoutModel",
          "state": {
            "_view_name": "LayoutView",
            "grid_template_rows": null,
            "right": null,
            "justify_content": null,
            "_view_module": "@jupyter-widgets/base",
            "overflow": null,
            "_model_module_version": "1.2.0",
            "_view_count": null,
            "flex_flow": null,
            "width": null,
            "min_width": null,
            "border": null,
            "align_items": null,
            "bottom": null,
            "_model_module": "@jupyter-widgets/base",
            "top": null,
            "grid_column": null,
            "overflow_y": null,
            "overflow_x": null,
            "grid_auto_flow": null,
            "grid_area": null,
            "grid_template_columns": null,
            "flex": null,
            "_model_name": "LayoutModel",
            "justify_items": null,
            "grid_row": null,
            "max_height": null,
            "align_content": null,
            "visibility": null,
            "align_self": null,
            "height": null,
            "min_height": null,
            "padding": null,
            "grid_auto_rows": null,
            "grid_gap": null,
            "max_width": null,
            "order": null,
            "_view_module_version": "1.2.0",
            "grid_template_areas": null,
            "object_position": null,
            "object_fit": null,
            "grid_auto_columns": null,
            "margin": null,
            "display": null,
            "left": null
          }
        },
        "ae751ec3a7e64b0786f289a19184619b": {
          "model_module": "@jupyter-widgets/controls",
          "model_name": "FloatProgressModel",
          "state": {
            "_view_name": "ProgressView",
            "style": "IPY_MODEL_422467bc0d454cd0abd9e130a05dccc7",
            "_dom_classes": [],
            "description": " 54%",
            "_model_name": "FloatProgressModel",
            "bar_style": "danger",
            "max": 25000,
            "_view_module": "@jupyter-widgets/controls",
            "_model_module_version": "1.5.0",
            "value": 13489,
            "_view_count": null,
            "_view_module_version": "1.5.0",
            "orientation": "horizontal",
            "min": 0,
            "description_tooltip": null,
            "_model_module": "@jupyter-widgets/controls",
            "layout": "IPY_MODEL_1f322ee9a3264e4b896ae8704dcc2125"
          }
        },
        "876848d2d269416085dfcbe9b4509a62": {
          "model_module": "@jupyter-widgets/controls",
          "model_name": "HTMLModel",
          "state": {
            "_view_name": "HTMLView",
            "style": "IPY_MODEL_b545b11a0a4f47a9a36e2e06740618c9",
            "_dom_classes": [],
            "description": "",
            "_model_name": "HTMLModel",
            "placeholder": "​",
            "_view_module": "@jupyter-widgets/controls",
            "_model_module_version": "1.5.0",
            "value": " 13489/25000 [00:00&lt;00:00, 134889.16 examples/s]",
            "_view_count": null,
            "_view_module_version": "1.5.0",
            "description_tooltip": null,
            "_model_module": "@jupyter-widgets/controls",
            "layout": "IPY_MODEL_b27d8744fd2a434ca307badd93612911"
          }
        },
        "422467bc0d454cd0abd9e130a05dccc7": {
          "model_module": "@jupyter-widgets/controls",
          "model_name": "ProgressStyleModel",
          "state": {
            "_view_name": "StyleView",
            "_model_name": "ProgressStyleModel",
            "description_width": "initial",
            "_view_module": "@jupyter-widgets/base",
            "_model_module_version": "1.5.0",
            "_view_count": null,
            "_view_module_version": "1.2.0",
            "bar_color": null,
            "_model_module": "@jupyter-widgets/controls"
          }
        },
        "1f322ee9a3264e4b896ae8704dcc2125": {
          "model_module": "@jupyter-widgets/base",
          "model_name": "LayoutModel",
          "state": {
            "_view_name": "LayoutView",
            "grid_template_rows": null,
            "right": null,
            "justify_content": null,
            "_view_module": "@jupyter-widgets/base",
            "overflow": null,
            "_model_module_version": "1.2.0",
            "_view_count": null,
            "flex_flow": null,
            "width": null,
            "min_width": null,
            "border": null,
            "align_items": null,
            "bottom": null,
            "_model_module": "@jupyter-widgets/base",
            "top": null,
            "grid_column": null,
            "overflow_y": null,
            "overflow_x": null,
            "grid_auto_flow": null,
            "grid_area": null,
            "grid_template_columns": null,
            "flex": null,
            "_model_name": "LayoutModel",
            "justify_items": null,
            "grid_row": null,
            "max_height": null,
            "align_content": null,
            "visibility": null,
            "align_self": null,
            "height": null,
            "min_height": null,
            "padding": null,
            "grid_auto_rows": null,
            "grid_gap": null,
            "max_width": null,
            "order": null,
            "_view_module_version": "1.2.0",
            "grid_template_areas": null,
            "object_position": null,
            "object_fit": null,
            "grid_auto_columns": null,
            "margin": null,
            "display": null,
            "left": null
          }
        },
        "b545b11a0a4f47a9a36e2e06740618c9": {
          "model_module": "@jupyter-widgets/controls",
          "model_name": "DescriptionStyleModel",
          "state": {
            "_view_name": "StyleView",
            "_model_name": "DescriptionStyleModel",
            "description_width": "",
            "_view_module": "@jupyter-widgets/base",
            "_model_module_version": "1.5.0",
            "_view_count": null,
            "_view_module_version": "1.2.0",
            "_model_module": "@jupyter-widgets/controls"
          }
        },
        "b27d8744fd2a434ca307badd93612911": {
          "model_module": "@jupyter-widgets/base",
          "model_name": "LayoutModel",
          "state": {
            "_view_name": "LayoutView",
            "grid_template_rows": null,
            "right": null,
            "justify_content": null,
            "_view_module": "@jupyter-widgets/base",
            "overflow": null,
            "_model_module_version": "1.2.0",
            "_view_count": null,
            "flex_flow": null,
            "width": null,
            "min_width": null,
            "border": null,
            "align_items": null,
            "bottom": null,
            "_model_module": "@jupyter-widgets/base",
            "top": null,
            "grid_column": null,
            "overflow_y": null,
            "overflow_x": null,
            "grid_auto_flow": null,
            "grid_area": null,
            "grid_template_columns": null,
            "flex": null,
            "_model_name": "LayoutModel",
            "justify_items": null,
            "grid_row": null,
            "max_height": null,
            "align_content": null,
            "visibility": null,
            "align_self": null,
            "height": null,
            "min_height": null,
            "padding": null,
            "grid_auto_rows": null,
            "grid_gap": null,
            "max_width": null,
            "order": null,
            "_view_module_version": "1.2.0",
            "grid_template_areas": null,
            "object_position": null,
            "object_fit": null,
            "grid_auto_columns": null,
            "margin": null,
            "display": null,
            "left": null
          }
        },
        "3cf1e41b6d7a40a1a78b93b7c6f1a032": {
          "model_module": "@jupyter-widgets/controls",
          "model_name": "HBoxModel",
          "state": {
            "_view_name": "HBoxView",
            "_dom_classes": [],
            "_model_name": "HBoxModel",
            "_view_module": "@jupyter-widgets/controls",
            "_model_module_version": "1.5.0",
            "_view_count": null,
            "_view_module_version": "1.5.0",
            "box_style": "",
            "layout": "IPY_MODEL_2ffd3613b4ea4849847281dd5f5e0756",
            "_model_module": "@jupyter-widgets/controls",
            "children": [
              "IPY_MODEL_7bb0978af2ab4f2499b03471771bd775",
              "IPY_MODEL_51764e89291d45ec917cc6c56e929f54"
            ]
          }
        },
        "2ffd3613b4ea4849847281dd5f5e0756": {
          "model_module": "@jupyter-widgets/base",
          "model_name": "LayoutModel",
          "state": {
            "_view_name": "LayoutView",
            "grid_template_rows": null,
            "right": null,
            "justify_content": null,
            "_view_module": "@jupyter-widgets/base",
            "overflow": null,
            "_model_module_version": "1.2.0",
            "_view_count": null,
            "flex_flow": null,
            "width": null,
            "min_width": null,
            "border": null,
            "align_items": null,
            "bottom": null,
            "_model_module": "@jupyter-widgets/base",
            "top": null,
            "grid_column": null,
            "overflow_y": null,
            "overflow_x": null,
            "grid_auto_flow": null,
            "grid_area": null,
            "grid_template_columns": null,
            "flex": null,
            "_model_name": "LayoutModel",
            "justify_items": null,
            "grid_row": null,
            "max_height": null,
            "align_content": null,
            "visibility": null,
            "align_self": null,
            "height": null,
            "min_height": null,
            "padding": null,
            "grid_auto_rows": null,
            "grid_gap": null,
            "max_width": null,
            "order": null,
            "_view_module_version": "1.2.0",
            "grid_template_areas": null,
            "object_position": null,
            "object_fit": null,
            "grid_auto_columns": null,
            "margin": null,
            "display": null,
            "left": null
          }
        },
        "7bb0978af2ab4f2499b03471771bd775": {
          "model_module": "@jupyter-widgets/controls",
          "model_name": "FloatProgressModel",
          "state": {
            "_view_name": "ProgressView",
            "style": "IPY_MODEL_17ef0114178c4404949fba665ef792a6",
            "_dom_classes": [],
            "description": "",
            "_model_name": "FloatProgressModel",
            "bar_style": "info",
            "max": 1,
            "_view_module": "@jupyter-widgets/controls",
            "_model_module_version": "1.5.0",
            "value": 1,
            "_view_count": null,
            "_view_module_version": "1.5.0",
            "orientation": "horizontal",
            "min": 0,
            "description_tooltip": null,
            "_model_module": "@jupyter-widgets/controls",
            "layout": "IPY_MODEL_0f01078317704d22ad1723b4cfecc6d1"
          }
        },
        "51764e89291d45ec917cc6c56e929f54": {
          "model_module": "@jupyter-widgets/controls",
          "model_name": "HTMLModel",
          "state": {
            "_view_name": "HTMLView",
            "style": "IPY_MODEL_fc9680fe82eb42f98b9c80f4ec8787cf",
            "_dom_classes": [],
            "description": "",
            "_model_name": "HTMLModel",
            "placeholder": "​",
            "_view_module": "@jupyter-widgets/controls",
            "_model_module_version": "1.5.0",
            "value": " 50000/0 [00:17&lt;00:00, 3565.18 examples/s]",
            "_view_count": null,
            "_view_module_version": "1.5.0",
            "description_tooltip": null,
            "_model_module": "@jupyter-widgets/controls",
            "layout": "IPY_MODEL_ba857033115e48b28cd305655a086ce5"
          }
        },
        "17ef0114178c4404949fba665ef792a6": {
          "model_module": "@jupyter-widgets/controls",
          "model_name": "ProgressStyleModel",
          "state": {
            "_view_name": "StyleView",
            "_model_name": "ProgressStyleModel",
            "description_width": "initial",
            "_view_module": "@jupyter-widgets/base",
            "_model_module_version": "1.5.0",
            "_view_count": null,
            "_view_module_version": "1.2.0",
            "bar_color": null,
            "_model_module": "@jupyter-widgets/controls"
          }
        },
        "0f01078317704d22ad1723b4cfecc6d1": {
          "model_module": "@jupyter-widgets/base",
          "model_name": "LayoutModel",
          "state": {
            "_view_name": "LayoutView",
            "grid_template_rows": null,
            "right": null,
            "justify_content": null,
            "_view_module": "@jupyter-widgets/base",
            "overflow": null,
            "_model_module_version": "1.2.0",
            "_view_count": null,
            "flex_flow": null,
            "width": null,
            "min_width": null,
            "border": null,
            "align_items": null,
            "bottom": null,
            "_model_module": "@jupyter-widgets/base",
            "top": null,
            "grid_column": null,
            "overflow_y": null,
            "overflow_x": null,
            "grid_auto_flow": null,
            "grid_area": null,
            "grid_template_columns": null,
            "flex": null,
            "_model_name": "LayoutModel",
            "justify_items": null,
            "grid_row": null,
            "max_height": null,
            "align_content": null,
            "visibility": null,
            "align_self": null,
            "height": null,
            "min_height": null,
            "padding": null,
            "grid_auto_rows": null,
            "grid_gap": null,
            "max_width": null,
            "order": null,
            "_view_module_version": "1.2.0",
            "grid_template_areas": null,
            "object_position": null,
            "object_fit": null,
            "grid_auto_columns": null,
            "margin": null,
            "display": null,
            "left": null
          }
        },
        "fc9680fe82eb42f98b9c80f4ec8787cf": {
          "model_module": "@jupyter-widgets/controls",
          "model_name": "DescriptionStyleModel",
          "state": {
            "_view_name": "StyleView",
            "_model_name": "DescriptionStyleModel",
            "description_width": "",
            "_view_module": "@jupyter-widgets/base",
            "_model_module_version": "1.5.0",
            "_view_count": null,
            "_view_module_version": "1.2.0",
            "_model_module": "@jupyter-widgets/controls"
          }
        },
        "ba857033115e48b28cd305655a086ce5": {
          "model_module": "@jupyter-widgets/base",
          "model_name": "LayoutModel",
          "state": {
            "_view_name": "LayoutView",
            "grid_template_rows": null,
            "right": null,
            "justify_content": null,
            "_view_module": "@jupyter-widgets/base",
            "overflow": null,
            "_model_module_version": "1.2.0",
            "_view_count": null,
            "flex_flow": null,
            "width": null,
            "min_width": null,
            "border": null,
            "align_items": null,
            "bottom": null,
            "_model_module": "@jupyter-widgets/base",
            "top": null,
            "grid_column": null,
            "overflow_y": null,
            "overflow_x": null,
            "grid_auto_flow": null,
            "grid_area": null,
            "grid_template_columns": null,
            "flex": null,
            "_model_name": "LayoutModel",
            "justify_items": null,
            "grid_row": null,
            "max_height": null,
            "align_content": null,
            "visibility": null,
            "align_self": null,
            "height": null,
            "min_height": null,
            "padding": null,
            "grid_auto_rows": null,
            "grid_gap": null,
            "max_width": null,
            "order": null,
            "_view_module_version": "1.2.0",
            "grid_template_areas": null,
            "object_position": null,
            "object_fit": null,
            "grid_auto_columns": null,
            "margin": null,
            "display": null,
            "left": null
          }
        },
        "8fa2b7cd0be34161b1880a0ac9a72167": {
          "model_module": "@jupyter-widgets/controls",
          "model_name": "HBoxModel",
          "state": {
            "_view_name": "HBoxView",
            "_dom_classes": [],
            "_model_name": "HBoxModel",
            "_view_module": "@jupyter-widgets/controls",
            "_model_module_version": "1.5.0",
            "_view_count": null,
            "_view_module_version": "1.5.0",
            "box_style": "",
            "layout": "IPY_MODEL_acead3cdeda34575ac1cf10f510a7689",
            "_model_module": "@jupyter-widgets/controls",
            "children": [
              "IPY_MODEL_6fda2a7837ca4f01beff6eaa8ce5bdd0",
              "IPY_MODEL_eea293db211a4494b1fff97fe85e5c16"
            ]
          }
        },
        "acead3cdeda34575ac1cf10f510a7689": {
          "model_module": "@jupyter-widgets/base",
          "model_name": "LayoutModel",
          "state": {
            "_view_name": "LayoutView",
            "grid_template_rows": null,
            "right": null,
            "justify_content": null,
            "_view_module": "@jupyter-widgets/base",
            "overflow": null,
            "_model_module_version": "1.2.0",
            "_view_count": null,
            "flex_flow": null,
            "width": null,
            "min_width": null,
            "border": null,
            "align_items": null,
            "bottom": null,
            "_model_module": "@jupyter-widgets/base",
            "top": null,
            "grid_column": null,
            "overflow_y": null,
            "overflow_x": null,
            "grid_auto_flow": null,
            "grid_area": null,
            "grid_template_columns": null,
            "flex": null,
            "_model_name": "LayoutModel",
            "justify_items": null,
            "grid_row": null,
            "max_height": null,
            "align_content": null,
            "visibility": null,
            "align_self": null,
            "height": null,
            "min_height": null,
            "padding": null,
            "grid_auto_rows": null,
            "grid_gap": null,
            "max_width": null,
            "order": null,
            "_view_module_version": "1.2.0",
            "grid_template_areas": null,
            "object_position": null,
            "object_fit": null,
            "grid_auto_columns": null,
            "margin": null,
            "display": null,
            "left": null
          }
        },
        "6fda2a7837ca4f01beff6eaa8ce5bdd0": {
          "model_module": "@jupyter-widgets/controls",
          "model_name": "FloatProgressModel",
          "state": {
            "_view_name": "ProgressView",
            "style": "IPY_MODEL_19ec52b946844a50817633b9f01ac384",
            "_dom_classes": [],
            "description": " 65%",
            "_model_name": "FloatProgressModel",
            "bar_style": "danger",
            "max": 50000,
            "_view_module": "@jupyter-widgets/controls",
            "_model_module_version": "1.5.0",
            "value": 32562,
            "_view_count": null,
            "_view_module_version": "1.5.0",
            "orientation": "horizontal",
            "min": 0,
            "description_tooltip": null,
            "_model_module": "@jupyter-widgets/controls",
            "layout": "IPY_MODEL_2bbd919874c446539a9f84e22fd6e52a"
          }
        },
        "eea293db211a4494b1fff97fe85e5c16": {
          "model_module": "@jupyter-widgets/controls",
          "model_name": "HTMLModel",
          "state": {
            "_view_name": "HTMLView",
            "style": "IPY_MODEL_49f51556801547a791a89477d713f28e",
            "_dom_classes": [],
            "description": "",
            "_model_name": "HTMLModel",
            "placeholder": "​",
            "_view_module": "@jupyter-widgets/controls",
            "_model_module_version": "1.5.0",
            "value": " 32562/50000 [00:04&lt;00:00, 75036.88 examples/s]",
            "_view_count": null,
            "_view_module_version": "1.5.0",
            "description_tooltip": null,
            "_model_module": "@jupyter-widgets/controls",
            "layout": "IPY_MODEL_7e5b451fb0f140879d548cb9f319a93c"
          }
        },
        "19ec52b946844a50817633b9f01ac384": {
          "model_module": "@jupyter-widgets/controls",
          "model_name": "ProgressStyleModel",
          "state": {
            "_view_name": "StyleView",
            "_model_name": "ProgressStyleModel",
            "description_width": "initial",
            "_view_module": "@jupyter-widgets/base",
            "_model_module_version": "1.5.0",
            "_view_count": null,
            "_view_module_version": "1.2.0",
            "bar_color": null,
            "_model_module": "@jupyter-widgets/controls"
          }
        },
        "2bbd919874c446539a9f84e22fd6e52a": {
          "model_module": "@jupyter-widgets/base",
          "model_name": "LayoutModel",
          "state": {
            "_view_name": "LayoutView",
            "grid_template_rows": null,
            "right": null,
            "justify_content": null,
            "_view_module": "@jupyter-widgets/base",
            "overflow": null,
            "_model_module_version": "1.2.0",
            "_view_count": null,
            "flex_flow": null,
            "width": null,
            "min_width": null,
            "border": null,
            "align_items": null,
            "bottom": null,
            "_model_module": "@jupyter-widgets/base",
            "top": null,
            "grid_column": null,
            "overflow_y": null,
            "overflow_x": null,
            "grid_auto_flow": null,
            "grid_area": null,
            "grid_template_columns": null,
            "flex": null,
            "_model_name": "LayoutModel",
            "justify_items": null,
            "grid_row": null,
            "max_height": null,
            "align_content": null,
            "visibility": null,
            "align_self": null,
            "height": null,
            "min_height": null,
            "padding": null,
            "grid_auto_rows": null,
            "grid_gap": null,
            "max_width": null,
            "order": null,
            "_view_module_version": "1.2.0",
            "grid_template_areas": null,
            "object_position": null,
            "object_fit": null,
            "grid_auto_columns": null,
            "margin": null,
            "display": null,
            "left": null
          }
        },
        "49f51556801547a791a89477d713f28e": {
          "model_module": "@jupyter-widgets/controls",
          "model_name": "DescriptionStyleModel",
          "state": {
            "_view_name": "StyleView",
            "_model_name": "DescriptionStyleModel",
            "description_width": "",
            "_view_module": "@jupyter-widgets/base",
            "_model_module_version": "1.5.0",
            "_view_count": null,
            "_view_module_version": "1.2.0",
            "_model_module": "@jupyter-widgets/controls"
          }
        },
        "7e5b451fb0f140879d548cb9f319a93c": {
          "model_module": "@jupyter-widgets/base",
          "model_name": "LayoutModel",
          "state": {
            "_view_name": "LayoutView",
            "grid_template_rows": null,
            "right": null,
            "justify_content": null,
            "_view_module": "@jupyter-widgets/base",
            "overflow": null,
            "_model_module_version": "1.2.0",
            "_view_count": null,
            "flex_flow": null,
            "width": null,
            "min_width": null,
            "border": null,
            "align_items": null,
            "bottom": null,
            "_model_module": "@jupyter-widgets/base",
            "top": null,
            "grid_column": null,
            "overflow_y": null,
            "overflow_x": null,
            "grid_auto_flow": null,
            "grid_area": null,
            "grid_template_columns": null,
            "flex": null,
            "_model_name": "LayoutModel",
            "justify_items": null,
            "grid_row": null,
            "max_height": null,
            "align_content": null,
            "visibility": null,
            "align_self": null,
            "height": null,
            "min_height": null,
            "padding": null,
            "grid_auto_rows": null,
            "grid_gap": null,
            "max_width": null,
            "order": null,
            "_view_module_version": "1.2.0",
            "grid_template_areas": null,
            "object_position": null,
            "object_fit": null,
            "grid_auto_columns": null,
            "margin": null,
            "display": null,
            "left": null
          }
        }
      }
    },
    "accelerator": "GPU"
  },
  "cells": [
    {
      "cell_type": "markdown",
      "metadata": {
        "id": "g_wM75MwAoEn"
      },
      "source": [
        "# Sentiment classification - close to the state of the art\n",
        "\n",
        "Submitted By: Shaikh Muhammad Asjad Raza\n",
        "\n",
        "\n",
        "\n",
        "\n",
        "\n"
      ]
    },
    {
      "cell_type": "markdown",
      "metadata": {
        "id": "bPfMusTDjC17"
      },
      "source": [
        "Note: I have used 50% train and 50% test split. I did not change spliting criteria. \n",
        "\n",
        "I recieved the announcement form professor regarding updated splitting thresholds for train/ valid/ test but i had already trained the models at that time."
      ]
    },
    {
      "cell_type": "markdown",
      "metadata": {
        "id": "34BhswaYk3L7"
      },
      "source": [
        "This Notebook contains:\n",
        "1. Data Preprocessing\n",
        "2. LSTM with trainable Keras Embedding\n",
        "3. BERT without Ktrain \n",
        "4. BERT with Ktrain"
      ]
    },
    {
      "cell_type": "code",
      "metadata": {
        "colab": {
          "base_uri": "https://localhost:8080/"
        },
        "id": "OrbuT4C59TPx",
        "outputId": "1f8bca10-c3b8-42f0-d36d-b12811a6488d"
      },
      "source": [
        "# Mount the drive\n",
        "from google.colab import drive\n",
        "drive.mount('/content/drive')"
      ],
      "execution_count": null,
      "outputs": [
        {
          "output_type": "stream",
          "text": [
            "Mounted at /content/drive\n"
          ],
          "name": "stdout"
        }
      ]
    },
    {
      "cell_type": "code",
      "metadata": {
        "id": "4sBDINbwKkUa"
      },
      "source": [
        "# Import necessary libraries for preprocessing\n",
        "import numpy as np\n",
        "import pandas as pd\n",
        "import spacy\n",
        "from spacy.lang.en.stop_words import STOP_WORDS\n",
        "nlp = spacy.load('en_core_web_sm', disable=['tagger', 'parser', 'ner'])\n",
        "import re"
      ],
      "execution_count": null,
      "outputs": []
    },
    {
      "cell_type": "markdown",
      "metadata": {
        "id": "QpCsyyH2AoEu"
      },
      "source": [
        "# Data download"
      ]
    },
    {
      "cell_type": "code",
      "metadata": {
        "id": "gEwjTzd8rqjR",
        "colab": {
          "base_uri": "https://localhost:8080/"
        },
        "outputId": "c2b37159-c354-4d8a-c1e8-1e1d360f7588"
      },
      "source": [
        "!wget https://ai.stanford.edu/~amaas/data/sentiment/aclImdb_v1.tar.gz\n",
        "!tar -xzf aclImdb_v1.tar.gz\n",
        "!ls"
      ],
      "execution_count": null,
      "outputs": [
        {
          "output_type": "stream",
          "text": [
            "--2020-12-04 10:15:01--  https://ai.stanford.edu/~amaas/data/sentiment/aclImdb_v1.tar.gz\n",
            "Resolving ai.stanford.edu (ai.stanford.edu)... 171.64.68.10\n",
            "Connecting to ai.stanford.edu (ai.stanford.edu)|171.64.68.10|:443... connected.\n",
            "HTTP request sent, awaiting response... 200 OK\n",
            "Length: 84125825 (80M) [application/x-gzip]\n",
            "Saving to: ‘aclImdb_v1.tar.gz’\n",
            "\n",
            "aclImdb_v1.tar.gz   100%[===================>]  80.23M  52.5MB/s    in 1.5s    \n",
            "\n",
            "2020-12-04 10:15:02 (52.5 MB/s) - ‘aclImdb_v1.tar.gz’ saved [84125825/84125825]\n",
            "\n",
            "aclImdb  aclImdb_v1.tar.gz  drive  sample_data\n"
          ],
          "name": "stdout"
        }
      ]
    },
    {
      "cell_type": "markdown",
      "metadata": {
        "id": "x1yn618mAoFH"
      },
      "source": [
        "# Alternative with tf.datasets"
      ]
    },
    {
      "cell_type": "code",
      "metadata": {
        "ExecuteTime": {
          "end_time": "2020-10-11T12:12:20.884627Z",
          "start_time": "2020-10-11T12:12:17.747311Z"
        },
        "id": "UXx_Pj_7AoFJ"
      },
      "source": [
        "!pip install tensorflow-datasets > /dev/null"
      ],
      "execution_count": null,
      "outputs": []
    },
    {
      "cell_type": "code",
      "metadata": {
        "ExecuteTime": {
          "end_time": "2020-10-11T12:12:25.800798Z",
          "start_time": "2020-10-11T12:12:24.009095Z"
        },
        "id": "bhG1CnaSAoFU"
      },
      "source": [
        "import tensorflow_datasets as tfds"
      ],
      "execution_count": null,
      "outputs": []
    },
    {
      "cell_type": "code",
      "metadata": {
        "ExecuteTime": {
          "end_time": "2020-10-11T13:25:00.555522Z",
          "start_time": "2020-10-11T13:22:43.089107Z"
        },
        "id": "oFk-Bh1xAoFc",
        "colab": {
          "base_uri": "https://localhost:8080/",
          "height": 365,
          "referenced_widgets": [
            "801f49aeb6a445a6bb921806ff38ca41",
            "8ca4e459538e49ac92f56872ac7c7dcd",
            "d9dd78a199814477bf5ba94881f0ba93",
            "5b4e382cb3a34d25aee101f96e5d8a8a",
            "7670955a59314c5f99e18d95f5b9dcae",
            "09a00518c36c4a11815b96f004e6a8c1",
            "c93b15c6c53f4339b46d2bcfd27a1d70",
            "28cbdeb793d246b1b6ee8d8308df596b",
            "ec64393d9c8247d5aa900674d7b0a9e3",
            "a13f6051bb1c410a9ee302f22ac654b3",
            "7e0f2362444841aea5204842f8cec4d4",
            "b25444553fc946a1bfb837f6a6aa6961",
            "38db9a8c31114e9d822a5b5b8cdc4ac2",
            "28a51f7092c849dc92d4ae0b3d6c68c0",
            "102a2d7c3e334ff58bf862166f7493bd",
            "20192b5118a2485ca2c4854aee7ae62e",
            "bc57f4b03f8f4f06be1ab9c6f5beade7",
            "514499133c3c4f7899f71695c8f90220",
            "6a5ce5a65daf473dbc09191d83e3bc27",
            "1fbfff75b4a445568e0d6a4c5452c401",
            "c46cf8635dcd40a789cc4869888accdd",
            "76a174dcbb4a43a2accd92b029949b16",
            "3e1d406b4c31449db7497eb756eef5fb",
            "739606cbcd504824a784df89d025519f",
            "d0400f40e1594d6fb24cd564c6c302d6",
            "5984649bad7c46a18efbbd170faeb5e0",
            "4df2fcf2404d46e78fbb81adc3c395f7",
            "2b845a734a614f72b7c454964ee3c659",
            "98f2850c8cb14c7b99ed4264c8964d4f",
            "f861e321410947f9a33fe337d9db0fa4",
            "50d038ab0a594e38ac1826bac88c4413",
            "b522708937b74ee7b5be2c1d384d3406",
            "bfc2caef32d740edb60d719c6ad4b1b4",
            "46c69f80ec304e55ba547ee463a41a25",
            "955c7eaefe104268bb56182c28b873ae",
            "a7da8060809e4207a9d4b2fac34fcd89",
            "ce8ca2aaee1d48dfa3a268d30b8293bd",
            "a85a9958b319495eaa2c149861beec5f",
            "61cc7dfa4c0f495fb64e4c2578ac3376",
            "0cffaba63fdd4ca8be63d71d71a70d7c",
            "6ac59868099343228efabe96b255d0e6",
            "23a7da24b61b46daa77cbc51b6c770a2",
            "ae751ec3a7e64b0786f289a19184619b",
            "876848d2d269416085dfcbe9b4509a62",
            "422467bc0d454cd0abd9e130a05dccc7",
            "1f322ee9a3264e4b896ae8704dcc2125",
            "b545b11a0a4f47a9a36e2e06740618c9",
            "b27d8744fd2a434ca307badd93612911",
            "3cf1e41b6d7a40a1a78b93b7c6f1a032",
            "2ffd3613b4ea4849847281dd5f5e0756",
            "7bb0978af2ab4f2499b03471771bd775",
            "51764e89291d45ec917cc6c56e929f54",
            "17ef0114178c4404949fba665ef792a6",
            "0f01078317704d22ad1723b4cfecc6d1",
            "fc9680fe82eb42f98b9c80f4ec8787cf",
            "ba857033115e48b28cd305655a086ce5",
            "8fa2b7cd0be34161b1880a0ac9a72167",
            "acead3cdeda34575ac1cf10f510a7689",
            "6fda2a7837ca4f01beff6eaa8ce5bdd0",
            "eea293db211a4494b1fff97fe85e5c16",
            "19ec52b946844a50817633b9f01ac384",
            "2bbd919874c446539a9f84e22fd6e52a",
            "49f51556801547a791a89477d713f28e",
            "7e5b451fb0f140879d548cb9f319a93c"
          ]
        },
        "outputId": "ba8d023a-c9c1-47c2-b7b9-bffd7849d937"
      },
      "source": [
        "(ds_train,ds_test),ds_info = tfds.load(\n",
        "    name=\"imdb_reviews\",\n",
        "    split=[\"train\",\"test\"],\n",
        "    shuffle_files=True,\n",
        "    as_supervised=True,\n",
        "    with_info=True\n",
        ")"
      ],
      "execution_count": null,
      "outputs": [
        {
          "output_type": "stream",
          "text": [
            "\u001b[1mDownloading and preparing dataset imdb_reviews/plain_text/1.0.0 (download: 80.23 MiB, generated: Unknown size, total: 80.23 MiB) to /root/tensorflow_datasets/imdb_reviews/plain_text/1.0.0...\u001b[0m\n"
          ],
          "name": "stdout"
        },
        {
          "output_type": "display_data",
          "data": {
            "application/vnd.jupyter.widget-view+json": {
              "model_id": "801f49aeb6a445a6bb921806ff38ca41",
              "version_minor": 0,
              "version_major": 2
            },
            "text/plain": [
              "HBox(children=(FloatProgress(value=1.0, bar_style='info', description='Dl Completed...', max=1.0, style=Progre…"
            ]
          },
          "metadata": {
            "tags": []
          }
        },
        {
          "output_type": "display_data",
          "data": {
            "application/vnd.jupyter.widget-view+json": {
              "model_id": "ec64393d9c8247d5aa900674d7b0a9e3",
              "version_minor": 0,
              "version_major": 2
            },
            "text/plain": [
              "HBox(children=(FloatProgress(value=1.0, bar_style='info', description='Dl Size...', max=1.0, style=ProgressSty…"
            ]
          },
          "metadata": {
            "tags": []
          }
        },
        {
          "output_type": "stream",
          "text": [
            "\n",
            "\n",
            "\n",
            "\n"
          ],
          "name": "stdout"
        },
        {
          "output_type": "display_data",
          "data": {
            "application/vnd.jupyter.widget-view+json": {
              "model_id": "bc57f4b03f8f4f06be1ab9c6f5beade7",
              "version_minor": 0,
              "version_major": 2
            },
            "text/plain": [
              "HBox(children=(FloatProgress(value=1.0, bar_style='info', max=1.0), HTML(value='')))"
            ]
          },
          "metadata": {
            "tags": []
          }
        },
        {
          "output_type": "stream",
          "text": [
            "\rShuffling and writing examples to /root/tensorflow_datasets/imdb_reviews/plain_text/1.0.0.incomplete2UZNEV/imdb_reviews-train.tfrecord\n"
          ],
          "name": "stdout"
        },
        {
          "output_type": "display_data",
          "data": {
            "application/vnd.jupyter.widget-view+json": {
              "model_id": "d0400f40e1594d6fb24cd564c6c302d6",
              "version_minor": 0,
              "version_major": 2
            },
            "text/plain": [
              "HBox(children=(FloatProgress(value=0.0, max=25000.0), HTML(value='')))"
            ]
          },
          "metadata": {
            "tags": []
          }
        },
        {
          "output_type": "stream",
          "text": [
            "\r"
          ],
          "name": "stdout"
        },
        {
          "output_type": "display_data",
          "data": {
            "application/vnd.jupyter.widget-view+json": {
              "model_id": "bfc2caef32d740edb60d719c6ad4b1b4",
              "version_minor": 0,
              "version_major": 2
            },
            "text/plain": [
              "HBox(children=(FloatProgress(value=1.0, bar_style='info', max=1.0), HTML(value='')))"
            ]
          },
          "metadata": {
            "tags": []
          }
        },
        {
          "output_type": "stream",
          "text": [
            "\rShuffling and writing examples to /root/tensorflow_datasets/imdb_reviews/plain_text/1.0.0.incomplete2UZNEV/imdb_reviews-test.tfrecord\n"
          ],
          "name": "stdout"
        },
        {
          "output_type": "display_data",
          "data": {
            "application/vnd.jupyter.widget-view+json": {
              "model_id": "6ac59868099343228efabe96b255d0e6",
              "version_minor": 0,
              "version_major": 2
            },
            "text/plain": [
              "HBox(children=(FloatProgress(value=0.0, max=25000.0), HTML(value='')))"
            ]
          },
          "metadata": {
            "tags": []
          }
        },
        {
          "output_type": "stream",
          "text": [
            "\r"
          ],
          "name": "stdout"
        },
        {
          "output_type": "display_data",
          "data": {
            "application/vnd.jupyter.widget-view+json": {
              "model_id": "3cf1e41b6d7a40a1a78b93b7c6f1a032",
              "version_minor": 0,
              "version_major": 2
            },
            "text/plain": [
              "HBox(children=(FloatProgress(value=1.0, bar_style='info', max=1.0), HTML(value='')))"
            ]
          },
          "metadata": {
            "tags": []
          }
        },
        {
          "output_type": "stream",
          "text": [
            "\rShuffling and writing examples to /root/tensorflow_datasets/imdb_reviews/plain_text/1.0.0.incomplete2UZNEV/imdb_reviews-unsupervised.tfrecord\n"
          ],
          "name": "stdout"
        },
        {
          "output_type": "display_data",
          "data": {
            "application/vnd.jupyter.widget-view+json": {
              "model_id": "8fa2b7cd0be34161b1880a0ac9a72167",
              "version_minor": 0,
              "version_major": 2
            },
            "text/plain": [
              "HBox(children=(FloatProgress(value=0.0, max=50000.0), HTML(value='')))"
            ]
          },
          "metadata": {
            "tags": []
          }
        },
        {
          "output_type": "stream",
          "text": [
            "WARNING:absl:Dataset is using deprecated text encoder API which will be removed soon. Please use the plain_text version of the dataset and migrate to `tensorflow_text`.\n"
          ],
          "name": "stderr"
        },
        {
          "output_type": "stream",
          "text": [
            "\u001b[1mDataset imdb_reviews downloaded and prepared to /root/tensorflow_datasets/imdb_reviews/plain_text/1.0.0. Subsequent calls will reuse this data.\u001b[0m\n"
          ],
          "name": "stdout"
        }
      ]
    },
    {
      "cell_type": "code",
      "metadata": {
        "ExecuteTime": {
          "end_time": "2020-10-11T13:26:27.027262Z",
          "start_time": "2020-10-11T13:26:27.020258Z"
        },
        "scrolled": true,
        "id": "apTjqy8VAoFo",
        "colab": {
          "base_uri": "https://localhost:8080/"
        },
        "outputId": "b48fa8c8-9f6e-4c53-89c0-a75204765b24"
      },
      "source": [
        "ds_info"
      ],
      "execution_count": null,
      "outputs": [
        {
          "output_type": "execute_result",
          "data": {
            "text/plain": [
              "tfds.core.DatasetInfo(\n",
              "    name='imdb_reviews',\n",
              "    version=1.0.0,\n",
              "    description='Large Movie Review Dataset.\n",
              "This is a dataset for binary sentiment classification containing substantially more data than previous benchmark datasets. We provide a set of 25,000 highly polar movie reviews for training, and 25,000 for testing. There is additional unlabeled data for use as well.',\n",
              "    homepage='http://ai.stanford.edu/~amaas/data/sentiment/',\n",
              "    features=FeaturesDict({\n",
              "        'label': ClassLabel(shape=(), dtype=tf.int64, num_classes=2),\n",
              "        'text': Text(shape=(), dtype=tf.string),\n",
              "    }),\n",
              "    total_num_examples=100000,\n",
              "    splits={\n",
              "        'test': 25000,\n",
              "        'train': 25000,\n",
              "        'unsupervised': 50000,\n",
              "    },\n",
              "    supervised_keys=('text', 'label'),\n",
              "    citation=\"\"\"@InProceedings{maas-EtAl:2011:ACL-HLT2011,\n",
              "      author    = {Maas, Andrew L.  and  Daly, Raymond E.  and  Pham, Peter T.  and  Huang, Dan  and  Ng, Andrew Y.  and  Potts, Christopher},\n",
              "      title     = {Learning Word Vectors for Sentiment Analysis},\n",
              "      booktitle = {Proceedings of the 49th Annual Meeting of the Association for Computational Linguistics: Human Language Technologies},\n",
              "      month     = {June},\n",
              "      year      = {2011},\n",
              "      address   = {Portland, Oregon, USA},\n",
              "      publisher = {Association for Computational Linguistics},\n",
              "      pages     = {142--150},\n",
              "      url       = {http://www.aclweb.org/anthology/P11-1015}\n",
              "    }\"\"\",\n",
              "    redistribution_info=,\n",
              ")"
            ]
          },
          "metadata": {
            "tags": []
          },
          "execution_count": 8
        }
      ]
    },
    {
      "cell_type": "code",
      "metadata": {
        "id": "IULh5J-IOb_J",
        "colab": {
          "base_uri": "https://localhost:8080/"
        },
        "outputId": "2b6fd34b-546b-490c-d041-41c6b7ae93e4"
      },
      "source": [
        "# print and see a few examples to get familiar with the data\n",
        "train_examples_batch, train_labels_batch = next(iter(ds_train.batch(20)))\n",
        "train_examples_batch, train_labels_batch"
      ],
      "execution_count": null,
      "outputs": [
        {
          "output_type": "execute_result",
          "data": {
            "text/plain": [
              "(<tf.Tensor: shape=(20,), dtype=string, numpy=\n",
              " array([b'I have been known to fall asleep during films, but this is usually due to a combination of things including, really tired, being warm and comfortable on the sette and having just eaten a lot. However on this occasion I fell asleep because the film was rubbish. The plot development was constant. Constantly slow and boring. Things seemed to happen, but with no explanation of what was causing them or why. I admit, I may have missed part of the film, but i watched the majority of it and everything just seemed to happen of its own accord without any real concern for anything else. I cant recommend this film at all.',\n",
              "        b'Mann photographs the Alberta Rocky Mountains in a superb fashion, and Jimmy Stewart and Walter Brennan give enjoyable performances as they always seem to do. <br /><br />But come on Hollywood - a Mountie telling the people of Dawson City, Yukon to elect themselves a marshal (yes a marshal!) and to enforce the law themselves, then gunfighters battling it out on the streets for control of the town? <br /><br />Nothing even remotely resembling that happened on the Canadian side of the border during the Klondike gold rush. Mr. Mann and company appear to have mistaken Dawson City for Deadwood, the Canadian North for the American Wild West.<br /><br />Canadian viewers be prepared for a Reefer Madness type of enjoyable howl with this ludicrous plot, or, to shake your head in disgust.',\n",
              "        b'This is the kind of film for a snowy Sunday afternoon when the rest of the world can go ahead with its own business as you descend into a big arm-chair and mellow for a couple of hours. Wonderful performances from Cher and Nicolas Cage (as always) gently row the plot along. There are no rapids to cross, no dangerous waters, just a warm and witty paddle through New York life at its best. A family film in every sense and one that deserves the praise it received.',\n",
              "        b'As others have mentioned, all the women that go nude in this film are mostly absolutely gorgeous. The plot very ably shows the hypocrisy of the female libido. When men are around they want to be pursued, but when no \"men\" are around, they become the pursuers of a 14 year old boy. And the boy becomes a man really fast (we should all be so lucky at this age!). He then gets up the courage to pursue his true love.',\n",
              "        b\"This was an absolutely terrible movie. Don't be lured in by Christopher Walken or Michael Ironside. Both are great actors, but this must simply be their worst role in history. Even their great acting could not redeem this movie's ridiculous storyline. This movie is an early nineties US propaganda piece. The most pathetic scenes were those when the Columbian rebels were making their cases for revolutions. Maria Conchita Alonso appeared phony, and her pseudo-love affair with Walken was nothing but a pathetic emotional plug in a movie that was devoid of any real meaning. I am disappointed that there are movies like this, ruining actor's like Christopher Walken's good name. I could barely sit through it.\",\n",
              "        b\"This is a film which should be seen by anybody interested in, effected by, or suffering from an eating disorder. It is an amazingly accurate and sensitive portrayal of bulimia in a teenage girl, its causes and its symptoms. The girl is played by one of the most brilliant young actresses working in cinema today, Alison Lohman, who was later so spectacular in 'Where the Truth Lies'. I would recommend that this film be shown in all schools, as you will never see a better on this subject. Alison Lohman is absolutely outstanding, and one marvels at her ability to convey the anguish of a girl suffering from this compulsive disorder. If barometers tell us the air pressure, Alison Lohman tells us the emotional pressure with the same degree of accuracy. Her emotional range is so precise, each scene could be measured microscopically for its gradations of trauma, on a scale of rising hysteria and desperation which reaches unbearable intensity. Mare Winningham is the perfect choice to play her mother, and does so with immense sympathy and a range of emotions just as finely tuned as Lohman's. Together, they make a pair of sensitive emotional oscillators vibrating in resonance with one another. This film is really an astonishing achievement, and director Katt Shea should be proud of it. The only reason for not seeing it is if you are not interested in people. But even if you like nature films best, this is after all animal behaviour at the sharp edge. Bulimia is an extreme version of how a tormented soul can destroy her own body in a frenzy of despair. And if we don't sympathise with people suffering from the depths of despair, then we are dead inside.\",\n",
              "        b'Okay, you have:<br /><br />Penelope Keith as Miss Herringbone-Tweed, B.B.E. (Backbone of England.) She\\'s killed off in the first scene - that\\'s right, folks; this show has no backbone!<br /><br />Peter O\\'Toole as Ol\\' Colonel Cricket from The First War and now the emblazered Lord of the Manor.<br /><br />Joanna Lumley as the ensweatered Lady of the Manor, 20 years younger than the colonel and 20 years past her own prime but still glamourous (Brit spelling, not mine) enough to have a toy-boy on the side. It\\'s alright, they have Col. Cricket\\'s full knowledge and consent (they guy even comes \\'round for Christmas!) Still, she\\'s considerate of the colonel enough to have said toy-boy her own age (what a gal!)<br /><br />David McCallum as said toy-boy, equally as pointlessly glamourous as his squeeze. Pilcher couldn\\'t come up with any cover for him within the story, so she gave him a hush-hush job at the Circus.<br /><br />and finally:<br /><br />Susan Hampshire as Miss Polonia Teacups, Venerable Headmistress of the Venerable Girls\\' Boarding-School, serving tea in her office with a dash of deep, poignant advice for life in the outside world just before graduation. Her best bit of advice: \"I\\'ve only been to Nancherrow (the local Stately Home of England) once. I thought it was very beautiful but, somehow, not part of the real world.\" Well, we can\\'t say they didn\\'t warn us.<br /><br />Ah, Susan - time was, your character would have been running the whole show. They don\\'t write \\'em like that any more. Our loss, not yours.<br /><br />So - with a cast and setting like this, you have the re-makings of \"Brideshead Revisited,\" right?<br /><br />Wrong! They took these 1-dimensional supporting roles because they paid so well. After all, acting is one of the oldest temp-jobs there is (YOU name another!)<br /><br />First warning sign: lots and lots of backlighting. They get around it by shooting outdoors - \"hey, it\\'s just the sunlight!\"<br /><br />Second warning sign: Leading Lady cries a lot. When not crying, her eyes are moist. That\\'s the law of romance novels: Leading Lady is \"dewy-eyed.\"<br /><br />Henceforth, Leading Lady shall be known as L.L.<br /><br />Third warning sign: L.L. actually has stars in her eyes when she\\'s in love. Still, I\\'ll give Emily Mortimer an award just for having to act with that spotlight in her eyes (I wonder . did they use contacts?)<br /><br />And lastly, fourth warning sign: no on-screen female character is \"Mrs.\" She\\'s either \"Miss\" or \"Lady.\"<br /><br />When all was said and done, I still couldn\\'t tell you who was pursuing whom and why. I couldn\\'t even tell you what was said and done.<br /><br />To sum up: they all live through World War II without anything happening to them at all.<br /><br />OK, at the end, L.L. finds she\\'s lost her parents to the Japanese prison camps and baby sis comes home catatonic. Meanwhile (there\\'s always a \"meanwhile,\") some young guy L.L. had a crush on (when, I don\\'t know) comes home from some wartime tough spot and is found living on the street by Lady of the Manor (must be some street if SHE\\'s going to find him there.) Both war casualties are whisked away to recover at Nancherrow (SOMEBODY has to be \"whisked away\" SOMEWHERE in these romance stories!)<br /><br />Great drama.',\n",
              "        b'The film is based on a genuine 1950s novel.<br /><br />Journalist Colin McInnes wrote a set of three \"London novels\": \"Absolute Beginners\", \"City of Spades\" and \"Mr Love and Justice\". I have read all three. The first two are excellent. The last, perhaps an experiment that did not come off. But McInnes\\'s work is highly acclaimed; and rightly so. This musical is the novelist\\'s ultimate nightmare - to see the fruits of one\\'s mind being turned into a glitzy, badly-acted, soporific one-dimensional apology of a film that says it captures the spirit of 1950s London, and does nothing of the sort.<br /><br />Thank goodness Colin McInnes wasn\\'t alive to witness it.',\n",
              "        b'I really love the sexy action and sci-fi films of the sixties and its because of the actress\\'s that appeared in them. They found the sexiest women to be in these films and it didn\\'t matter if they could act (Remember \"Candy\"?). The reason I was disappointed by this film was because it wasn\\'t nostalgic enough. The story here has a European sci-fi film called \"Dragonfly\" being made and the director is fired. So the producers decide to let a young aspiring filmmaker (Jeremy Davies) to complete the picture. They\\'re is one real beautiful woman in the film who plays Dragonfly but she\\'s barely in it. Film is written and directed by Roman Coppola who uses some of his fathers exploits from his early days and puts it into the script. I wish the film could have been an homage to those early films. They could have lots of cameos by actors who appeared in them. There is one actor in this film who was popular from the sixties and its John Phillip Law (Barbarella). Gerard Depardieu, Giancarlo Giannini and Dean Stockwell appear as well. I guess I\\'m going to have to continue waiting for a director to make a good homage to the films of the sixties. If any are reading this, \"Make it as sexy as you can\"! I\\'ll be waiting!',\n",
              "        b'Sure, this one isn\\'t really a blockbuster, nor does it target such a position. \"Dieter\" is the first name of a quite popular German musician, who is either loved or hated for his kind of acting and thats exactly what this movie is about. It is based on the autobiography \"Dieter Bohlen\" wrote a few years ago but isn\\'t meant to be accurate on that. The movie is filled with some sexual offensive content (at least for American standard) which is either amusing (not for the other \"actors\" of course) or dumb - it depends on your individual kind of humor or on you being a \"Bohlen\"-Fan or not. Technically speaking there isn\\'t much to criticize. Speaking of me I find this movie to be an OK-movie.',\n",
              "        b'During a sleepless night, I was switching through the channels & found this embarrassment of a movie. What were they thinking?<br /><br />If this is life after \"Remote Control\" for Kari (Wuhrer) Salin, no wonder she\\'s gone nowhere.<br /><br />And why did David Keith take this role? It\\'s pathetic!<br /><br />Anyway, I turned on the movie near the end, so I didn\\'t get much of the plot. But this must\\'ve been the best part. This nerdy college kid brings home this dominatrix-ish girl...this scene is straight out of the comic books -- or the cheap porn movies. She calls the mother anal retentive and kisses the father \"Oh, I didn\\'t expect tongue!\" Great lines!<br /><br />After this, I had to see how it ended..<br /><br />Well, of course, this bitch from hell has a helluva past, so the SWAT team is upstairs. And yes...they surround her! And YES YES! The kid blows her brains out!!!! AHAHHAHAHAHA!!<br /><br />This is must-see TV. <br /><br />',\n",
              "        b'Cute film about three lively sisters from Switzerland (often seen running about in matching outfits) who want to get their parents back together (seems mom is still carrying the torch for dad) - so they sail off to New York to stop the dad from marrying a blonde gold-digger he calls \"Precious\". Dad hasn\\'t seen his daughters in ten years, they (oddly enough) don\\'t seem to mind and think he\\'s wonderful, and meanwhile Precious seems to lead a life mainly run by her overbearing mother (Alice Brady), a woman who just wants to see to it her daughter marries a rich man. The sisters get the idea of pushing Precious into the path of a drunken Hungarian count, tricking the two gold-digging women into thinking he is one of the richest men in Europe. But a case of mistaken identity makes the girls think the count is good-looking Ray Milland, who goes along with the scheme \\'cause he has a crush on sister Kay.<br /><br />This film is enjoyable, light fare. Barbara Read as Kay comes across as sweet and pretty, Ray Milland looks oh so young and handsome here (though, unfortunately, is given little to do), Alice Brady is quite good as the scheming mother - but it is Deanna Durbin, a real charmer and cute as a button playing youngest sister Penny, who pretty much steals the show. With absolutely beautiful vocals, she sings several songs throughout the film, though I actually would have liked to have seen them feature her even more in this. The plot in this film is a bit silly, but nevertheless, I found the film to be entertaining and fun.',\n",
              "        b\"This 1984 version of the Dickens' classic `A Christmas Carol,' directed by Clive Donner, stars George C. Scott as Ebenezer Scrooge. By this time around, the challenge for the filmmaker was to take such familiar material and make it seem fresh and new again; and, happily to say, with this film Donner not only met the challenge but surpassed any expectations anyone might have had for it. He tells the story with precision and an eye to detail, and extracts performances from his actors that are nothing less than superlative, especially Scott. One could argue that the definitive portrayal of Scrooge-- one of the best known characters in literary fiction, ever-- was created by Alastair Sim in the 1951 film; but I think with his performance here, Scott has now achieved that distinction. There is such a purity and honesty in his Scrooge that it becomes difficult to even consider anyone else in the role once you've seen Scott do it; simply put, he IS Scrooge. And what a tribute it is to such a gifted actor; to be able to take such a well known figure and make it so uniquely his own is quite miraculous. It is truly a joy to see an actor ply his trade so well, to be able to make a character so real, from every word he utters down to the finest expression of his face, and to make it all ring so true. It's a study in perfection.<br /><br />The other members of the cast are splendid as well, but then again they have to be in order to maintain the integrity of Scott's performance; and they do. Frank Finlay is the Ghost of Jacob Marley; a notable turn, though not as memorable, perhaps, as the one by Alec Guinness (as Marley) in the film, `Scrooge.' Angela Pleasence is a welcome visage as the Spirit of Christmas Past; Edward Woodward, grand and boisterous, and altogether convincing as the Spirit of Christmas Present; and Michael Carter, grim and menacing as the Spirit of Christmas Yet To Come.<br /><br />David Warner hits just the right mark with his Bob Cratchit, bringing a sincerity to the role that measures up well to the standard of quality set by Scott's Scrooge, and Susannah York fares just as well as Mrs. Cratchit. The real gem to be found here, though, is the performance of young Anthony Walters as Tiny Tim; it's heartfelt without ever becoming maudlin, and simply one of the best interpretations-- and the most real-- ever presented on film.<br /><br />The excellent supporting cast includes Roger Rees (Fred Holywell, and also the narrator of the film), Caroline Langrishe (Janet Holywell), Lucy Gutteridge (Belle), Michael Gough (Mr. Poole) and Joanne Whalley (Fan). A flawless presentation, this version of `A Christmas Carol' sets the standard against which all others must be gauged; no matter how many versions you may have seen, watching this one is like seeing it for the first time ever. And forever after, whenever you think of Scrooge, the image your mind will conjure up will be that of George C. Scott. A thoroughly entertaining and satisfying experience, this film demands a place in the annual schedule of the holiday festivities of every home. I rate this one 10/10.\",\n",
              "        b'Put the blame on executive producer Wes Craven and financiers the Weinsteins for this big-budget debacle: a thrash-metal updating of \"Dracula\", with a condescending verbal jab at Bram Stoker (who probably wouldn\\'t want his name on this thing anyway) and nothing much for the rest of us except slasher-styled jolts and gore. Christopher Plummer looks winded as Van Helsing in the modern-day--not just a descendant of Van Helsing but the real thing; he keeps himself going with leeches obtained from Count Dracula\\'s corpse, which is exhumed from its coffin after being stolen from Van Helsing\\'s vault and flown to New Orleans. This is just what New Orleans needs in the 21st Century! The film, well-produced but without a single original idea (except for multi-racial victims), is both repulsive and lazy, and after about an hour starts repeating itself. * from ****',\n",
              "        b'It was disgusting and painful. What a waste of a cast! I swear, the audience (1/2 full) laughed TWICE in 90 minutes. This is not a lie. Do not even rent it.<br /><br />Zeta Jones was just too mean to be believable.<br /><br />Cusack was OK. Just OK. I felt sorry for him (the actor) in case people remember this mess.<br /><br />Roberts was the same as she always is. Charming and sweet, but with no purpose. The \"romance\" with John was completely unbelievable.',\n",
              "        b'Hilarious, evocative, confusing, brilliant film. Reminds me of Bunuel\\'s L\\'Age D\\'Or or Jodorowsky\\'s Holy Mountain-- lots of strange characters mucking about and looking for..... what is it? I laughed almost the whole way through, all the while keeping a peripheral eye on the bewildered and occasionally horrified reactions of the audience that surrounded me in the theatre. Entertaining through and through, from the beginning to the guts and poisoned entrails all the way to the end, if it was an end. I only wish i could remember every detail. It haunts me sometimes.<br /><br />Honestly, though, i have only the most positive recollections of this film. As it doesn\\'t seem to be available to take home and watch, i suppose i\\'ll have to wait a few more years until Crispin Glover comes my way again with his Big Slide Show (and subsequent \"What is it?\" screening)... I saw this film in Atlanta almost directly after being involved in a rather devastating car crash, so i was slightly dazed at the time, which was perhaps a very good state of mind to watch the prophetic talking arthropods and the retards in the superhero costumes and godlike Glover in his appropriate burly-Q setting, scantily clad girlies rising out of the floor like a magnificent DADAist wet dream.<br /><br />Is it a statement on Life As We Know It? Of course everyone EXPECTS art to be just that. I rather think that the truth is more evident in the absences and in the negative space. What you don\\'t tell us is what we must deduce, but is far more valid than the lies that other people feed us day in and day out. Rather one \"WHAT IS IT?\" than 5000 movies like \"Titanic\" or \"Sleepless in Seattle\" (shudder, gag, groan).<br /><br />Thank you, Mr. Glover (additionally a fun man to watch on screen or at his Big Slide Show-- smart, funny, quirky, and outrageously hot). Make more films, write more books, keep the nightmare alive.',\n",
              "        b'This is a straight-to-video movie, so it should go without saying that it\\'s not going to rival the first Lion King, but that said, this was downright good.<br /><br />My kids loved this, but that\\'s a given, they love anything that\\'s a cartoon. The big shock was that *I* liked it too, it was laugh out loud funny at some parts (even the fart jokes*), had lots of rather creative tie-ins with the first movie, and even some jokes that you had to be older to understand (but without being risqu\\xc3\\xa9 like in Shrek [\"do you think he\\'s compensating for something?\"]).<br /><br />A special note on the fart jokes, I was surprised to find that none of the jokes were just toilet noises (in fact there were almost no noises/imagery at all, the references were actually rather subtle), they actually had a setup/punchline/etc, and were almost in good taste. I\\'d like my kids to think that there\\'s more to humor than going to the bathroom, and this movie is fine in those regards.<br /><br />Hmm what else? The music was so-so, not nearly as creative as in the first or second movie, but plenty of fun for the kids. No painfully corny moments, which was a blessing for me. A little action but nothing too scary (the Secret of NIMH gave my kids nightmares, not sure a G rating was appropriate for that one...)<br /><br />All in all I\\'d say this is a great movie for kids of any age, one that\\'s 100% safe to let them watch (I try not to be overly sensitive but I\\'ve had to jump up and turn off the TV during a few movies that were less kid-appropriate than expected) - but you\\'re safe to leave the room during this one. I\\'d say stick around anyway though, you might find that you enjoy it too :)',\n",
              "        b'Finally, Timon and Pumbaa in their own film...<br /><br />\\'The Lion King 1 1/2: Hakuna Matata\\' is an irreverent new take on a classic tale. Which classic tale, you ask? Why, \\'The Lion King\\' of course!<br /><br />Yep, if there\\'s one thing that Disney is never short of, it\\'s narcissism.<br /><br />But that doesn\\'t mean that this isn\\'t a good film. It\\'s basically the events of \\'The Lion King\\' as told from Timon and Pumbaa\\'s perspective. And it\\'s because of this that you\\'ll have to know the story of \\'The Lion King\\' by heart to see where they\\'re coming from.<br /><br />Anyway, at one level I was watching this and thinking \"Oh my god this is so lame...\" and on another level I was having a ball. Much of the humour is predictable - I mean, when Pumbaa makes up two beds, a big one for himself and a small one for Timon, within the first nanosecond we all know that Timon is going to take the big one. But that doesn\\'t stop it from being hilarious, which, IMO, is \\'Hakuna Matata\\' in a nutshell. It\\'s not what happens, it\\'s how.<br /><br />And a note of warning: there are also some fart jokes. Seriously, did you expect anything else in a film where Pumbaa takes centre stage? But as fart jokes go, these are especially good, and should satisfy even the most particular connoisseur.<br /><br />The returning voice talent is great. I\\'m kinda surprised that some of the actors were willing to return, what with most of them only having two or three lines (if they\\'re lucky). Whoopi Goldberg is particularly welcome.<br /><br />The music is also great. From \\'Digga Tunnah\\' at the start to \\'That\\'s all I need\\', an adaption of \\'Warthog Rhapsody\\' (a song that was cut from \\'The Lion King\\' and is frankly much improved in this incarnation), the music leaves me with nothing to complain about whatsoever.<br /><br />In the end, Timon and Pumbaa are awesome characters, and while it may be argued that \\'Hakuna Matata\\' is simply an excuse to see them in various fun and assorted compromising situations then so be it. It\\'s rare to find characters that you just want to spend time with.<br /><br />Am I starting to sound creepy?<br /><br />Either way, \\'The Lion King 1 1/2\\' is great if you\\'ve seen \\'The Lion King\\' far too many times. Especially if you are right now thinking \"Don\\'t be silly, there\\'s no such thing as seeing \\'The Lion King\\' too many times!\"',\n",
              "        b'Indian Directors have it tough, They have to compete with movies like \"Laggan\" where 11 henpecked,Castrated males defend their village and half of them are certifiable idiots. \"Devdas\", a hapless, fedar- festooned foreign return drinking to oblivion, with characters running in endless corridors oblivious to any one\\'s feelings or sentiments-alas they live in an ornate squalor of red tapestry and pageantry. But to make a good movie, you have to tight-rope walk to appease the frontbenchers who are the quentessential gapers who are mesmerized with Split skirts and Dishum-Dishum fights preferably involving a nitwit \"Bollywood\" leading actor who is marginally handsome. So you can connect with a director who wants to tell a tale of Leonine village head who in own words \"defending his Village\" this is considered a violent movie or too masculine for a male audience. There are very few actors who can convey the anger and pathos like Nana Patekar (Narasimhan). Nana Patekar lets you in his courtyard and watch him beret and mock the Politician when his loyal admirers burst in laughter with every word of satire thrown at him, meanwhile his daughter is bathing his Grandson.This is as authentic a scene you can get in rural India. Nana Patekar is the essential actor who belongs to the old school of acting which is a disappearing breed in Hindi Films. The violence depicted is an intricate part of storytelling with Song&Dances thrown in for the gawkers without whom movies won\\'t sell, a sad but true state of affairs. Faster this changes better for \"Bollywood\". All said and done this is one good Movie.',\n",
              "        b\"Nathan Detroit runs illegal craps games for high rollers in NYC, but the heat is on and he can't find a secure location. He bets chronic gambler Sky Masterson that Sky can't make a prim missionary, Sarah Brown, go out to dinner with him. Sky takes up the challenge, but both men have some surprises in store \\xc2\\x85<br /><br />This is one of those expensive fifties MGM musicals in splashy colour, with big sets, loud music, larger-than-life roles and performances to match; Broadway photographed for the big screen if you like that sort of thing, which I don't. My main problem with these type of movies is simply the music. I like all kinds of music, from Albinoni to ZZ Top, but Broadway show tunes in swing time with never-ending pah-pah-tah-dah trumpet flourishes at the end of every fourth bar aren't my cup of tea. This was written by the tag team of Frank Loesser, Mankiewicz, Jo Swerling and Abe Burrows (based on a couple of Damon Runyon stories), and while the plot is quite affable the songs are weak. Blaine's two numbers for example are identical, unnecessary, don't advance the plot and grate on the ears (and are also flagrantly misogynistic if that sort of thing bothers you). There are only two memorable tunes, Luck Be A Lady (sung by Brando, not Sinatra as you might expect) and Sit Down, You're Rockin' The Boat (nicely performed by Kaye) but you have to sit through two hours to get to them. The movie's trump card is a young Brando giving a thoughtful, laid-back performance; he also sings quite well and even dances a little, and is evenly matched with the always interesting Simmons. The sequence where the two of them escape to Havana for the night is a welcome respite from all the noise, bustle and vowel-murdering of Noo Yawk. Fans of musicals may dig this, but in my view a musical has to do something more than just film the stage show.\"],\n",
              "       dtype=object)>,\n",
              " <tf.Tensor: shape=(20,), dtype=int64, numpy=array([0, 0, 1, 1, 0, 1, 0, 0, 0, 0, 0, 1, 1, 0, 0, 1, 1, 1, 1, 0])>)"
            ]
          },
          "metadata": {
            "tags": []
          },
          "execution_count": 9
        }
      ]
    },
    {
      "cell_type": "code",
      "metadata": {
        "id": "bhzQhn22VOP_"
      },
      "source": [
        "# converting raw data into DataFrame as i am more comfortable with\n",
        "# Pandas DataFrames\n",
        "\n",
        "df_train = pd.DataFrame()\n",
        "df_valid = pd.DataFrame()\n",
        "\n",
        "for i in ds_train.as_numpy_iterator():\n",
        "      new_row = {'reviews':i[0], 'label':int(i[1])}\n",
        "      df_train = df_train.append(new_row, ignore_index=True)\n",
        "df_train['reviews'] = df_train['reviews'].astype(str).str[1:]\n",
        "\n",
        "for i in ds_test.as_numpy_iterator():\n",
        "      new_row = {'reviews':i[0], 'label':int(i[1])}\n",
        "      df_valid = df_valid.append(new_row, ignore_index=True)\n",
        "df_valid['reviews'] = df_valid['reviews'].astype(str).str[1:]\n"
      ],
      "execution_count": null,
      "outputs": []
    },
    {
      "cell_type": "code",
      "metadata": {
        "id": "G4h8vF_rvH3X"
      },
      "source": [
        "# save for future use\n",
        "df_train.to_pickle('/content/drive/MyDrive/data/df_train')\n",
        "df_valid.to_pickle('/content/drive/MyDrive/data/df_valid')"
      ],
      "execution_count": null,
      "outputs": []
    },
    {
      "cell_type": "markdown",
      "metadata": {
        "id": "9bDTvmyJ0cDy"
      },
      "source": [
        "# **Load saved train and valid dataframes**"
      ]
    },
    {
      "cell_type": "code",
      "metadata": {
        "id": "krPYKA_30baS"
      },
      "source": [
        "# loading data\n",
        "df_train = pd.read_pickle('/content/drive/MyDrive/data/df_train')\n",
        "df_valid = pd.read_pickle('/content/drive/MyDrive/data/df_valid')"
      ],
      "execution_count": null,
      "outputs": []
    },
    {
      "cell_type": "code",
      "metadata": {
        "colab": {
          "base_uri": "https://localhost:8080/"
        },
        "id": "mL33ZaSUOycQ",
        "outputId": "8ab4fbc7-1cda-4cc9-a242-5bfdcdaddcb1"
      },
      "source": [
        "print(df_train.shape, df_valid.shape)"
      ],
      "execution_count": null,
      "outputs": [
        {
          "output_type": "stream",
          "text": [
            "(25000, 2) (25000, 2)\n"
          ],
          "name": "stdout"
        }
      ]
    },
    {
      "cell_type": "markdown",
      "metadata": {
        "id": "p3C1Xmc-2Rz2"
      },
      "source": [
        "# **Data Cleaning**"
      ]
    },
    {
      "cell_type": "markdown",
      "metadata": {
        "id": "XTcHXn9X29OO"
      },
      "source": [
        "First Concatinate train and valid dataframes and then: \n",
        "1. Lower casing\n",
        "2. Remove Backslash\n",
        "3. Removal of URLs\n",
        "4. Removal of HTML tags\n",
        "5. Removal of Punctuations \n",
        "6. Removal of Stopwords\n",
        "7. Lemmatization\n",
        "8. Remove digits\n",
        "6. Spelling Correction\n",
        "7. Remove repeating words\n",
        "\n"
      ]
    },
    {
      "cell_type": "markdown",
      "metadata": {
        "id": "PRFQYUMkPZpa"
      },
      "source": [
        "#### **Concatination**"
      ]
    },
    {
      "cell_type": "code",
      "metadata": {
        "colab": {
          "base_uri": "https://localhost:8080/"
        },
        "id": "BetodHHU2jRy",
        "outputId": "c6f3e4e1-e813-427f-de03-ceb042b38d16"
      },
      "source": [
        "# Concatinate train and valid dataframes\n",
        "# Data cleaning is to be done on both train and valid dataframes\n",
        "data = pd.concat([df_train, df_valid])\n",
        "data.shape"
      ],
      "execution_count": null,
      "outputs": [
        {
          "output_type": "execute_result",
          "data": {
            "text/plain": [
              "(50000, 2)"
            ]
          },
          "metadata": {
            "tags": []
          },
          "execution_count": 116
        }
      ]
    },
    {
      "cell_type": "markdown",
      "metadata": {
        "id": "DNgb4L_OPTXW"
      },
      "source": [
        "#### **Lower Casing**"
      ]
    },
    {
      "cell_type": "markdown",
      "metadata": {
        "id": "um-AxYkqXq_j"
      },
      "source": [
        "Lower casing so that two words \"Like\" and \"like\" are not treated differently."
      ]
    },
    {
      "cell_type": "code",
      "metadata": {
        "colab": {
          "base_uri": "https://localhost:8080/"
        },
        "id": "5QTLsXaPJT4c",
        "outputId": "92d51e95-9b83-4cf2-9eac-8742e15348d0"
      },
      "source": [
        "data[\"reviews_lowercased\"] = data[\"reviews\"].str.lower()\n",
        "data.head()"
      ],
      "execution_count": null,
      "outputs": [
        {
          "output_type": "execute_result",
          "data": {
            "text/html": [
              "<div>\n",
              "<style scoped>\n",
              "    .dataframe tbody tr th:only-of-type {\n",
              "        vertical-align: middle;\n",
              "    }\n",
              "\n",
              "    .dataframe tbody tr th {\n",
              "        vertical-align: top;\n",
              "    }\n",
              "\n",
              "    .dataframe thead th {\n",
              "        text-align: right;\n",
              "    }\n",
              "</style>\n",
              "<table border=\"1\" class=\"dataframe\">\n",
              "  <thead>\n",
              "    <tr style=\"text-align: right;\">\n",
              "      <th></th>\n",
              "      <th>label</th>\n",
              "      <th>reviews</th>\n",
              "      <th>reviews_lowercased</th>\n",
              "    </tr>\n",
              "  </thead>\n",
              "  <tbody>\n",
              "    <tr>\n",
              "      <th>0</th>\n",
              "      <td>0.0</td>\n",
              "      <td>\"This was an absolutely terrible movie. Don't ...</td>\n",
              "      <td>\"this was an absolutely terrible movie. don't ...</td>\n",
              "    </tr>\n",
              "    <tr>\n",
              "      <th>1</th>\n",
              "      <td>0.0</td>\n",
              "      <td>'I have been known to fall asleep during films...</td>\n",
              "      <td>'i have been known to fall asleep during films...</td>\n",
              "    </tr>\n",
              "    <tr>\n",
              "      <th>2</th>\n",
              "      <td>0.0</td>\n",
              "      <td>'Mann photographs the Alberta Rocky Mountains ...</td>\n",
              "      <td>'mann photographs the alberta rocky mountains ...</td>\n",
              "    </tr>\n",
              "    <tr>\n",
              "      <th>3</th>\n",
              "      <td>1.0</td>\n",
              "      <td>'This is the kind of film for a snowy Sunday a...</td>\n",
              "      <td>'this is the kind of film for a snowy sunday a...</td>\n",
              "    </tr>\n",
              "    <tr>\n",
              "      <th>4</th>\n",
              "      <td>1.0</td>\n",
              "      <td>'As others have mentioned, all the women that ...</td>\n",
              "      <td>'as others have mentioned, all the women that ...</td>\n",
              "    </tr>\n",
              "  </tbody>\n",
              "</table>\n",
              "</div>"
            ],
            "text/plain": [
              "   label  ...                                 reviews_lowercased\n",
              "0    0.0  ...  \"this was an absolutely terrible movie. don't ...\n",
              "1    0.0  ...  'i have been known to fall asleep during films...\n",
              "2    0.0  ...  'mann photographs the alberta rocky mountains ...\n",
              "3    1.0  ...  'this is the kind of film for a snowy sunday a...\n",
              "4    1.0  ...  'as others have mentioned, all the women that ...\n",
              "\n",
              "[5 rows x 3 columns]"
            ]
          },
          "metadata": {
            "tags": []
          },
          "execution_count": 117
        }
      ]
    },
    {
      "cell_type": "code",
      "metadata": {
        "colab": {
          "base_uri": "https://localhost:8080/"
        },
        "id": "D6-NyAESLHMU",
        "outputId": "23a4602c-aa55-4899-ecf1-52a3df7c2d69"
      },
      "source": [
        "data.drop('reviews', inplace=True, axis=1)\n",
        "data.rename(columns={\"reviews_lowercased\": \"reviews\"}, inplace=True)\n",
        "data.head()"
      ],
      "execution_count": null,
      "outputs": [
        {
          "output_type": "execute_result",
          "data": {
            "text/html": [
              "<div>\n",
              "<style scoped>\n",
              "    .dataframe tbody tr th:only-of-type {\n",
              "        vertical-align: middle;\n",
              "    }\n",
              "\n",
              "    .dataframe tbody tr th {\n",
              "        vertical-align: top;\n",
              "    }\n",
              "\n",
              "    .dataframe thead th {\n",
              "        text-align: right;\n",
              "    }\n",
              "</style>\n",
              "<table border=\"1\" class=\"dataframe\">\n",
              "  <thead>\n",
              "    <tr style=\"text-align: right;\">\n",
              "      <th></th>\n",
              "      <th>label</th>\n",
              "      <th>reviews</th>\n",
              "    </tr>\n",
              "  </thead>\n",
              "  <tbody>\n",
              "    <tr>\n",
              "      <th>0</th>\n",
              "      <td>0.0</td>\n",
              "      <td>\"this was an absolutely terrible movie. don't ...</td>\n",
              "    </tr>\n",
              "    <tr>\n",
              "      <th>1</th>\n",
              "      <td>0.0</td>\n",
              "      <td>'i have been known to fall asleep during films...</td>\n",
              "    </tr>\n",
              "    <tr>\n",
              "      <th>2</th>\n",
              "      <td>0.0</td>\n",
              "      <td>'mann photographs the alberta rocky mountains ...</td>\n",
              "    </tr>\n",
              "    <tr>\n",
              "      <th>3</th>\n",
              "      <td>1.0</td>\n",
              "      <td>'this is the kind of film for a snowy sunday a...</td>\n",
              "    </tr>\n",
              "    <tr>\n",
              "      <th>4</th>\n",
              "      <td>1.0</td>\n",
              "      <td>'as others have mentioned, all the women that ...</td>\n",
              "    </tr>\n",
              "  </tbody>\n",
              "</table>\n",
              "</div>"
            ],
            "text/plain": [
              "   label                                            reviews\n",
              "0    0.0  \"this was an absolutely terrible movie. don't ...\n",
              "1    0.0  'i have been known to fall asleep during films...\n",
              "2    0.0  'mann photographs the alberta rocky mountains ...\n",
              "3    1.0  'this is the kind of film for a snowy sunday a...\n",
              "4    1.0  'as others have mentioned, all the women that ..."
            ]
          },
          "metadata": {
            "tags": []
          },
          "execution_count": 118
        }
      ]
    },
    {
      "cell_type": "markdown",
      "metadata": {
        "id": "sK-_ky-IXaB0"
      },
      "source": [
        "#### **Remove backslash**"
      ]
    },
    {
      "cell_type": "markdown",
      "metadata": {
        "id": "aJYByUTeYAc_"
      },
      "source": [
        "I saw many backslashes in the data which won't help in prediction so i will remove them also. "
      ]
    },
    {
      "cell_type": "code",
      "metadata": {
        "id": "jO2HUffdXZTs"
      },
      "source": [
        "def remove_backslash(text):\n",
        "  r = [i.replace('\\\\', \"\") for i in text] \n",
        "  return (''.join(r))\n",
        "\n",
        "data[\"reviews_w/o_backslash\"] = data[\"reviews\"].apply(remove_backslash)"
      ],
      "execution_count": null,
      "outputs": []
    },
    {
      "cell_type": "code",
      "metadata": {
        "colab": {
          "base_uri": "https://localhost:8080/"
        },
        "id": "cSACO5MsY7xi",
        "outputId": "1349b137-3d71-4b1c-93b4-6973732ab2ff"
      },
      "source": [
        "data.head()"
      ],
      "execution_count": null,
      "outputs": [
        {
          "output_type": "execute_result",
          "data": {
            "text/html": [
              "<div>\n",
              "<style scoped>\n",
              "    .dataframe tbody tr th:only-of-type {\n",
              "        vertical-align: middle;\n",
              "    }\n",
              "\n",
              "    .dataframe tbody tr th {\n",
              "        vertical-align: top;\n",
              "    }\n",
              "\n",
              "    .dataframe thead th {\n",
              "        text-align: right;\n",
              "    }\n",
              "</style>\n",
              "<table border=\"1\" class=\"dataframe\">\n",
              "  <thead>\n",
              "    <tr style=\"text-align: right;\">\n",
              "      <th></th>\n",
              "      <th>label</th>\n",
              "      <th>reviews</th>\n",
              "      <th>reviews_w/o_backslash</th>\n",
              "    </tr>\n",
              "  </thead>\n",
              "  <tbody>\n",
              "    <tr>\n",
              "      <th>0</th>\n",
              "      <td>0.0</td>\n",
              "      <td>\"this was an absolutely terrible movie. don't ...</td>\n",
              "      <td>\"this was an absolutely terrible movie. don't ...</td>\n",
              "    </tr>\n",
              "    <tr>\n",
              "      <th>1</th>\n",
              "      <td>0.0</td>\n",
              "      <td>'i have been known to fall asleep during films...</td>\n",
              "      <td>'i have been known to fall asleep during films...</td>\n",
              "    </tr>\n",
              "    <tr>\n",
              "      <th>2</th>\n",
              "      <td>0.0</td>\n",
              "      <td>'mann photographs the alberta rocky mountains ...</td>\n",
              "      <td>'mann photographs the alberta rocky mountains ...</td>\n",
              "    </tr>\n",
              "    <tr>\n",
              "      <th>3</th>\n",
              "      <td>1.0</td>\n",
              "      <td>'this is the kind of film for a snowy sunday a...</td>\n",
              "      <td>'this is the kind of film for a snowy sunday a...</td>\n",
              "    </tr>\n",
              "    <tr>\n",
              "      <th>4</th>\n",
              "      <td>1.0</td>\n",
              "      <td>'as others have mentioned, all the women that ...</td>\n",
              "      <td>'as others have mentioned, all the women that ...</td>\n",
              "    </tr>\n",
              "  </tbody>\n",
              "</table>\n",
              "</div>"
            ],
            "text/plain": [
              "   label  ...                              reviews_w/o_backslash\n",
              "0    0.0  ...  \"this was an absolutely terrible movie. don't ...\n",
              "1    0.0  ...  'i have been known to fall asleep during films...\n",
              "2    0.0  ...  'mann photographs the alberta rocky mountains ...\n",
              "3    1.0  ...  'this is the kind of film for a snowy sunday a...\n",
              "4    1.0  ...  'as others have mentioned, all the women that ...\n",
              "\n",
              "[5 rows x 3 columns]"
            ]
          },
          "metadata": {
            "tags": []
          },
          "execution_count": 120
        }
      ]
    },
    {
      "cell_type": "code",
      "metadata": {
        "id": "7fXqTkc9Y8lV"
      },
      "source": [
        "data.drop('reviews', inplace=True, axis=1)\n",
        "data.rename(columns={\"reviews_w/o_backslash\": \"reviews\"}, inplace=True)"
      ],
      "execution_count": null,
      "outputs": []
    },
    {
      "cell_type": "markdown",
      "metadata": {
        "id": "JLSB8X0Ezlaf"
      },
      "source": [
        "#### **Removal of URLs**"
      ]
    },
    {
      "cell_type": "markdown",
      "metadata": {
        "id": "-Ok_ZFnxYTY2"
      },
      "source": [
        "There were a few URLs in the data that caught my eye so i am avoiding URLS as they won't help in prediction."
      ]
    },
    {
      "cell_type": "code",
      "metadata": {
        "id": "6IsA2_rQT51x"
      },
      "source": [
        "def remove_url(text):\n",
        "    url_pattern = re.compile(r'https?://\\S+|www\\.\\S+')\n",
        "    return url_pattern.sub(r'', text)\n",
        "\n",
        "data[\"reviews_w/o_URL\"] = data[\"reviews\"].apply(remove_url)"
      ],
      "execution_count": null,
      "outputs": []
    },
    {
      "cell_type": "code",
      "metadata": {
        "colab": {
          "base_uri": "https://localhost:8080/"
        },
        "id": "TLJgfWnQ1fAX",
        "outputId": "7f7c4bd5-bd63-4c5d-b788-653863002e83"
      },
      "source": [
        "data.head()"
      ],
      "execution_count": null,
      "outputs": [
        {
          "output_type": "execute_result",
          "data": {
            "text/html": [
              "<div>\n",
              "<style scoped>\n",
              "    .dataframe tbody tr th:only-of-type {\n",
              "        vertical-align: middle;\n",
              "    }\n",
              "\n",
              "    .dataframe tbody tr th {\n",
              "        vertical-align: top;\n",
              "    }\n",
              "\n",
              "    .dataframe thead th {\n",
              "        text-align: right;\n",
              "    }\n",
              "</style>\n",
              "<table border=\"1\" class=\"dataframe\">\n",
              "  <thead>\n",
              "    <tr style=\"text-align: right;\">\n",
              "      <th></th>\n",
              "      <th>label</th>\n",
              "      <th>reviews</th>\n",
              "      <th>reviews_w/o_URL</th>\n",
              "    </tr>\n",
              "  </thead>\n",
              "  <tbody>\n",
              "    <tr>\n",
              "      <th>0</th>\n",
              "      <td>0.0</td>\n",
              "      <td>\"this was an absolutely terrible movie. don't ...</td>\n",
              "      <td>\"this was an absolutely terrible movie. don't ...</td>\n",
              "    </tr>\n",
              "    <tr>\n",
              "      <th>1</th>\n",
              "      <td>0.0</td>\n",
              "      <td>'i have been known to fall asleep during films...</td>\n",
              "      <td>'i have been known to fall asleep during films...</td>\n",
              "    </tr>\n",
              "    <tr>\n",
              "      <th>2</th>\n",
              "      <td>0.0</td>\n",
              "      <td>'mann photographs the alberta rocky mountains ...</td>\n",
              "      <td>'mann photographs the alberta rocky mountains ...</td>\n",
              "    </tr>\n",
              "    <tr>\n",
              "      <th>3</th>\n",
              "      <td>1.0</td>\n",
              "      <td>'this is the kind of film for a snowy sunday a...</td>\n",
              "      <td>'this is the kind of film for a snowy sunday a...</td>\n",
              "    </tr>\n",
              "    <tr>\n",
              "      <th>4</th>\n",
              "      <td>1.0</td>\n",
              "      <td>'as others have mentioned, all the women that ...</td>\n",
              "      <td>'as others have mentioned, all the women that ...</td>\n",
              "    </tr>\n",
              "  </tbody>\n",
              "</table>\n",
              "</div>"
            ],
            "text/plain": [
              "   label  ...                                    reviews_w/o_URL\n",
              "0    0.0  ...  \"this was an absolutely terrible movie. don't ...\n",
              "1    0.0  ...  'i have been known to fall asleep during films...\n",
              "2    0.0  ...  'mann photographs the alberta rocky mountains ...\n",
              "3    1.0  ...  'this is the kind of film for a snowy sunday a...\n",
              "4    1.0  ...  'as others have mentioned, all the women that ...\n",
              "\n",
              "[5 rows x 3 columns]"
            ]
          },
          "metadata": {
            "tags": []
          },
          "execution_count": 123
        }
      ]
    },
    {
      "cell_type": "code",
      "metadata": {
        "id": "2Mtypo6KBHCE"
      },
      "source": [
        "data.drop('reviews', inplace=True, axis=1)\n",
        "data.rename(columns={\"reviews_w/o_URL\": \"reviews\"}, inplace=True)"
      ],
      "execution_count": null,
      "outputs": []
    },
    {
      "cell_type": "markdown",
      "metadata": {
        "id": "bpez5Cti5l6I"
      },
      "source": [
        "#### **Remove HTML tags**"
      ]
    },
    {
      "cell_type": "markdown",
      "metadata": {
        "id": "pxYvYKcvYoTS"
      },
      "source": [
        "There were many HTML tags in the data. I will remove them also as they are useless for predictions.  "
      ]
    },
    {
      "cell_type": "code",
      "metadata": {
        "id": "igKI9snj5l6I"
      },
      "source": [
        "data['reviews'] = data['reviews'].replace({'<.*?>': ''}, regex = True, inplace=False)"
      ],
      "execution_count": null,
      "outputs": []
    },
    {
      "cell_type": "code",
      "metadata": {
        "colab": {
          "base_uri": "https://localhost:8080/"
        },
        "id": "wchjDBnk5l6J",
        "outputId": "8221078c-ee31-4f1c-92c6-5ec38696cd62"
      },
      "source": [
        "data['reviews'].iloc[200]"
      ],
      "execution_count": null,
      "outputs": [
        {
          "output_type": "execute_result",
          "data": {
            "application/vnd.google.colaboratory.intrinsic+json": {
              "type": "string"
            },
            "text/plain": [
              "'\"this movie was bad to say the least!!! the plethora of superb cars are disgraced to have have been showcased in this lame movie. it starts off with a race from l.a. to las vegas to be completed in 1hr 45min...in a ferrari f430. i did that in 1hr 50min in a tiny 4cylinder 140hp 1993 honda accord. seriously...this movie does not do justice to these cars. obviously these writers are just that and probably drive under the speed limit with their hands @ 10 & 2 o\\'clock. i remember seeing on the news how eddie griffin crashed a 1.5 million dollar ferrari enzo going 30-40mph>>> youtube.com/watch?v=cnvrmzx2kms and...the director andy cheng is the biggest sellout!!! he brings shame to his own race. i wonder just how many people he orally pleased just to break into hollywood. he partook in a movie that portrays asian americans in such a negative and false way. asian women>>cheap money grubbing whores. asian men>>losing compulsive gamblers & thugs that get beat all the time . what the heck is all the fear about asians?? why the need to always portray them in such a negative connotation?? i am so sick of the way hollywood always portrays asians in such a negative and false pretext.\"'"
            ]
          },
          "metadata": {
            "tags": []
          },
          "execution_count": 126
        }
      ]
    },
    {
      "cell_type": "markdown",
      "metadata": {
        "id": "rye8FIZ7Pdf6"
      },
      "source": [
        "#### **Removal of Puntuations**"
      ]
    },
    {
      "cell_type": "markdown",
      "metadata": {
        "id": "3E6WYWQMZB7S"
      },
      "source": [
        "Full stops, commas etc. are being removed."
      ]
    },
    {
      "cell_type": "code",
      "metadata": {
        "id": "shw3gAQLPiVD"
      },
      "source": [
        "# prevent punctuations in words like \"doesn't\" not to be removed\n",
        "# They are important for predictions\n",
        "nlp.tokenizer.rules = {key: value for key, value in nlp.tokenizer.rules.items() if \"'\" not in key and \"’\" not in key and \"‘\" not in key}"
      ],
      "execution_count": null,
      "outputs": []
    },
    {
      "cell_type": "code",
      "metadata": {
        "id": "StloQtg0obTF"
      },
      "source": [
        "# Using Spacy for this task\n",
        "def remove_punct(text):\n",
        "  doc = nlp(text)\n",
        "  token_list = [token.text for token in doc if token.is_punct != True and token.text != \"'s\"]\n",
        "  joint_text = ' '.join(token_list)\n",
        "  final_removal = \"\".join(u for u in joint_text if u not in (\"?\", \".\", \";\", \":\", \"!\", \"-\", '\"', ')', '(', '+'))\n",
        "  return (final_removal)\n",
        "\n",
        "data[\"reviews_w/o_punct\"] = data[\"reviews\"].apply(remove_punct)"
      ],
      "execution_count": null,
      "outputs": []
    },
    {
      "cell_type": "code",
      "metadata": {
        "colab": {
          "base_uri": "https://localhost:8080/"
        },
        "id": "vfV7cUbKy55u",
        "outputId": "95f66771-c6ab-4fb2-ecc9-ef9e7387197e"
      },
      "source": [
        "data.head()"
      ],
      "execution_count": null,
      "outputs": [
        {
          "output_type": "execute_result",
          "data": {
            "text/html": [
              "<div>\n",
              "<style scoped>\n",
              "    .dataframe tbody tr th:only-of-type {\n",
              "        vertical-align: middle;\n",
              "    }\n",
              "\n",
              "    .dataframe tbody tr th {\n",
              "        vertical-align: top;\n",
              "    }\n",
              "\n",
              "    .dataframe thead th {\n",
              "        text-align: right;\n",
              "    }\n",
              "</style>\n",
              "<table border=\"1\" class=\"dataframe\">\n",
              "  <thead>\n",
              "    <tr style=\"text-align: right;\">\n",
              "      <th></th>\n",
              "      <th>label</th>\n",
              "      <th>reviews</th>\n",
              "      <th>reviews_w/o_punct</th>\n",
              "    </tr>\n",
              "  </thead>\n",
              "  <tbody>\n",
              "    <tr>\n",
              "      <th>0</th>\n",
              "      <td>0.0</td>\n",
              "      <td>\"this was an absolutely terrible movie. don't ...</td>\n",
              "      <td>this was an absolutely terrible movie don't be...</td>\n",
              "    </tr>\n",
              "    <tr>\n",
              "      <th>1</th>\n",
              "      <td>0.0</td>\n",
              "      <td>'i have been known to fall asleep during films...</td>\n",
              "      <td>i have been known to fall asleep during films ...</td>\n",
              "    </tr>\n",
              "    <tr>\n",
              "      <th>2</th>\n",
              "      <td>0.0</td>\n",
              "      <td>'mann photographs the alberta rocky mountains ...</td>\n",
              "      <td>mann photographs the alberta rocky mountains i...</td>\n",
              "    </tr>\n",
              "    <tr>\n",
              "      <th>3</th>\n",
              "      <td>1.0</td>\n",
              "      <td>'this is the kind of film for a snowy sunday a...</td>\n",
              "      <td>this is the kind of film for a snowy sunday af...</td>\n",
              "    </tr>\n",
              "    <tr>\n",
              "      <th>4</th>\n",
              "      <td>1.0</td>\n",
              "      <td>'as others have mentioned, all the women that ...</td>\n",
              "      <td>as others have mentioned all the women that go...</td>\n",
              "    </tr>\n",
              "  </tbody>\n",
              "</table>\n",
              "</div>"
            ],
            "text/plain": [
              "   label  ...                                  reviews_w/o_punct\n",
              "0    0.0  ...  this was an absolutely terrible movie don't be...\n",
              "1    0.0  ...  i have been known to fall asleep during films ...\n",
              "2    0.0  ...  mann photographs the alberta rocky mountains i...\n",
              "3    1.0  ...  this is the kind of film for a snowy sunday af...\n",
              "4    1.0  ...  as others have mentioned all the women that go...\n",
              "\n",
              "[5 rows x 3 columns]"
            ]
          },
          "metadata": {
            "tags": []
          },
          "execution_count": 129
        }
      ]
    },
    {
      "cell_type": "code",
      "metadata": {
        "id": "mlgh_rwXDZZY"
      },
      "source": [
        "data.drop('reviews', inplace=True, axis=1)\n",
        "data.rename(columns={\"reviews_w/o_punct\": \"reviews\"}, inplace=True)"
      ],
      "execution_count": null,
      "outputs": []
    },
    {
      "cell_type": "code",
      "metadata": {
        "colab": {
          "base_uri": "https://localhost:8080/"
        },
        "id": "pQM-LxTWQa8n",
        "outputId": "0527ef95-09b7-4e81-f78b-d9b5fd0cb8e8"
      },
      "source": [
        "print(data['reviews'].iloc[6])"
      ],
      "execution_count": null,
      "outputs": [
        {
          "output_type": "stream",
          "text": [
            "okay you have penelope keith as miss herringbone tweed bbe backbone of england she killed off in the first scene that right folks this show has no backbonepeter o'toole as ol colonel cricket from the first war and now the emblazered lord of the manorjoanna lumley as the ensweatered lady of the manor 20 years younger than the colonel and 20 years past her own prime but still glamourous brit spelling not mine enough to have a toy boy on the side it alright they have col cricket full knowledge and consent they guy even comes round for christmas still she considerate of the colonel enough to have said toy boy her own age what a galdavid mccallum as said toy boy equally as pointlessly glamourous as his squeeze pilcher couldn't come up with any cover for him within the story so she gave him a hush hush job at the circusand finally susan hampshire as miss polonia teacups venerable headmistress of the venerable girls boarding school serving tea in her office with a dash of deep poignant advice for life in the outside world just before graduation her best bit of advice i've only been to nancherrow the local stately home of england once i thought it was very beautiful but somehow not part of the real world well we can't say they didn't warn usah susan time was your character would have been running the whole show they don't write em like that any more our loss not yoursso with a cast and setting like this you have the re makings of brideshead revisited rightwrong they took these 1dimensional supporting roles because they paid so well after all acting is one of the oldest temp jobs there is you name anotherfirst warning sign lots and lots of backlighting they get around it by shooting outdoors hey it just the sunlightsecond warning sign leading lady cries a lot when not crying her eyes are moist that the law of romance novels leading lady is dewy eyed henceforth leading lady shall be known as llthird warning sign ll actually has stars in her eyes when she in love still i'll give emily mortimer an award just for having to act with that spotlight in her eyes i wonder did they use contactsand lastly fourth warning sign no on screen female character is mrs she either miss or lady when all was said and done i still couldn't tell you who was pursuing whom and why i couldn't even tell you what was said and doneto sum up they all live through world war ii without anything happening to them at allok at the end ll finds she lost her parents to the japanese prison camps and baby sis comes home catatonic meanwhile there always a meanwhile some young guy ll had a crush on when i don't know comes home from some wartime tough spot and is found living on the street by lady of the manor must be some street if she going to find him there both war casualties are whisked away to recover at nancherrow somebody has to be whisked away somewhere in these romance storiesgreat drama\n"
          ],
          "name": "stdout"
        }
      ]
    },
    {
      "cell_type": "markdown",
      "metadata": {
        "id": "91RhFrNzD9m0"
      },
      "source": [
        "#### **Removal of stopwords**"
      ]
    },
    {
      "cell_type": "markdown",
      "metadata": {
        "id": "zwZGA9w-Znjc"
      },
      "source": [
        "Stopwords have to be removed as they create noise in the data."
      ]
    },
    {
      "cell_type": "code",
      "metadata": {
        "id": "pijI-PXcIneI"
      },
      "source": [
        "# Using Spacy for this task\n",
        "def remove_stopwords(text):\n",
        "  doc = nlp(text)\n",
        "  token_list = [token.text for token in doc if token.is_stop != True]\n",
        "  return (' '.join(token_list))\n",
        "\n",
        "data[\"reviews_w/o_stopwords\"] = data[\"reviews\"].apply(remove_stopwords)"
      ],
      "execution_count": null,
      "outputs": []
    },
    {
      "cell_type": "code",
      "metadata": {
        "colab": {
          "base_uri": "https://localhost:8080/",
          "height": 195
        },
        "id": "F_v8oUS1KARF",
        "outputId": "66fa8f7c-44f8-4bef-e02b-7cdb95ecc26c"
      },
      "source": [
        "data.head(5)"
      ],
      "execution_count": null,
      "outputs": [
        {
          "output_type": "execute_result",
          "data": {
            "text/html": [
              "<div>\n",
              "<style scoped>\n",
              "    .dataframe tbody tr th:only-of-type {\n",
              "        vertical-align: middle;\n",
              "    }\n",
              "\n",
              "    .dataframe tbody tr th {\n",
              "        vertical-align: top;\n",
              "    }\n",
              "\n",
              "    .dataframe thead th {\n",
              "        text-align: right;\n",
              "    }\n",
              "</style>\n",
              "<table border=\"1\" class=\"dataframe\">\n",
              "  <thead>\n",
              "    <tr style=\"text-align: right;\">\n",
              "      <th></th>\n",
              "      <th>label</th>\n",
              "      <th>reviews</th>\n",
              "      <th>reviews_w/o_stopwords</th>\n",
              "    </tr>\n",
              "  </thead>\n",
              "  <tbody>\n",
              "    <tr>\n",
              "      <th>0</th>\n",
              "      <td>0.0</td>\n",
              "      <td>this was an absolutely terrible movie don't be...</td>\n",
              "      <td>absolutely terrible movie don't lured christop...</td>\n",
              "    </tr>\n",
              "    <tr>\n",
              "      <th>1</th>\n",
              "      <td>0.0</td>\n",
              "      <td>i have been known to fall asleep during films ...</td>\n",
              "      <td>known fall asleep films usually combination th...</td>\n",
              "    </tr>\n",
              "    <tr>\n",
              "      <th>2</th>\n",
              "      <td>0.0</td>\n",
              "      <td>mann photographs the alberta rocky mountains i...</td>\n",
              "      <td>mann photographs alberta rocky mountains super...</td>\n",
              "    </tr>\n",
              "    <tr>\n",
              "      <th>3</th>\n",
              "      <td>1.0</td>\n",
              "      <td>this is the kind of film for a snowy sunday af...</td>\n",
              "      <td>kind film snowy sunday afternoon rest world ah...</td>\n",
              "    </tr>\n",
              "    <tr>\n",
              "      <th>4</th>\n",
              "      <td>1.0</td>\n",
              "      <td>as others have mentioned all the women that go...</td>\n",
              "      <td>mentioned women nude film absolutely gorgeous ...</td>\n",
              "    </tr>\n",
              "  </tbody>\n",
              "</table>\n",
              "</div>"
            ],
            "text/plain": [
              "   label  ...                              reviews_w/o_stopwords\n",
              "0    0.0  ...  absolutely terrible movie don't lured christop...\n",
              "1    0.0  ...  known fall asleep films usually combination th...\n",
              "2    0.0  ...  mann photographs alberta rocky mountains super...\n",
              "3    1.0  ...  kind film snowy sunday afternoon rest world ah...\n",
              "4    1.0  ...  mentioned women nude film absolutely gorgeous ...\n",
              "\n",
              "[5 rows x 3 columns]"
            ]
          },
          "metadata": {
            "tags": []
          },
          "execution_count": 134
        }
      ]
    },
    {
      "cell_type": "code",
      "metadata": {
        "id": "wFOLVLEmKaah"
      },
      "source": [
        "data.drop('reviews', inplace=True, axis=1)\n",
        "data.rename(columns={\"reviews_w/o_stopwords\": \"reviews\"}, inplace=True)"
      ],
      "execution_count": null,
      "outputs": []
    },
    {
      "cell_type": "code",
      "metadata": {
        "colab": {
          "base_uri": "https://localhost:8080/"
        },
        "id": "_wpyX4e2Kgll",
        "outputId": "46bebc25-422e-459a-e448-cab3cf03c230"
      },
      "source": [
        "print(data['reviews'].iloc[1])"
      ],
      "execution_count": null,
      "outputs": [
        {
          "output_type": "stream",
          "text": [
            "known fall asleep films usually combination things including tired warm comfortable sette having eaten lot occasion fell asleep film rubbish plot development constant constantly slow boring things happen explanation causing admit missed film watched majority happen accord real concern nt recommend film\n"
          ],
          "name": "stdout"
        }
      ]
    },
    {
      "cell_type": "markdown",
      "metadata": {
        "id": "gzfW7WBCh9xp"
      },
      "source": [
        "#### **Lemmatization**"
      ]
    },
    {
      "cell_type": "markdown",
      "metadata": {
        "id": "u-J2paW8Z5uD"
      },
      "source": [
        "Doing this so that words like \"running\" and \"run\" and not treated differently. \n",
        "This will convert all the words to their lemmas. "
      ]
    },
    {
      "cell_type": "code",
      "metadata": {
        "id": "6VmaljGDiDSX"
      },
      "source": [
        "# Using Spacy for this task\n",
        "def lemmatize(text):\n",
        "  doc = nlp(text)\n",
        "  token_list = [token.lemma_ for token in doc]\n",
        "  return (' '.join(token_list))\n",
        "\n",
        "data[\"reviews_lemmatized\"] = data[\"reviews\"].apply(lemmatize)"
      ],
      "execution_count": null,
      "outputs": []
    },
    {
      "cell_type": "code",
      "metadata": {
        "colab": {
          "base_uri": "https://localhost:8080/"
        },
        "id": "vTFUikYYiFNM",
        "outputId": "59924c16-363d-4226-e1bc-17f8f140e903"
      },
      "source": [
        "data.head(5)"
      ],
      "execution_count": null,
      "outputs": [
        {
          "output_type": "execute_result",
          "data": {
            "text/html": [
              "<div>\n",
              "<style scoped>\n",
              "    .dataframe tbody tr th:only-of-type {\n",
              "        vertical-align: middle;\n",
              "    }\n",
              "\n",
              "    .dataframe tbody tr th {\n",
              "        vertical-align: top;\n",
              "    }\n",
              "\n",
              "    .dataframe thead th {\n",
              "        text-align: right;\n",
              "    }\n",
              "</style>\n",
              "<table border=\"1\" class=\"dataframe\">\n",
              "  <thead>\n",
              "    <tr style=\"text-align: right;\">\n",
              "      <th></th>\n",
              "      <th>label</th>\n",
              "      <th>reviews</th>\n",
              "      <th>reviews_lemmatized</th>\n",
              "    </tr>\n",
              "  </thead>\n",
              "  <tbody>\n",
              "    <tr>\n",
              "      <th>0</th>\n",
              "      <td>0.0</td>\n",
              "      <td>absolutely terrible movie don't lured christop...</td>\n",
              "      <td>absolutely terrible movie don't lure christoph...</td>\n",
              "    </tr>\n",
              "    <tr>\n",
              "      <th>1</th>\n",
              "      <td>0.0</td>\n",
              "      <td>known fall asleep films usually combination th...</td>\n",
              "      <td>know fall asleep film usually combination thin...</td>\n",
              "    </tr>\n",
              "    <tr>\n",
              "      <th>2</th>\n",
              "      <td>0.0</td>\n",
              "      <td>mann photographs alberta rocky mountains super...</td>\n",
              "      <td>mann photograph alberta rocky mountain superb ...</td>\n",
              "    </tr>\n",
              "    <tr>\n",
              "      <th>3</th>\n",
              "      <td>1.0</td>\n",
              "      <td>kind film snowy sunday afternoon rest world ah...</td>\n",
              "      <td>kind film snowy sunday afternoon rest world ah...</td>\n",
              "    </tr>\n",
              "    <tr>\n",
              "      <th>4</th>\n",
              "      <td>1.0</td>\n",
              "      <td>mentioned women nude film absolutely gorgeous ...</td>\n",
              "      <td>mention woman nude film absolutely gorgeous pl...</td>\n",
              "    </tr>\n",
              "  </tbody>\n",
              "</table>\n",
              "</div>"
            ],
            "text/plain": [
              "   label  ...                                 reviews_lemmatized\n",
              "0    0.0  ...  absolutely terrible movie don't lure christoph...\n",
              "1    0.0  ...  know fall asleep film usually combination thin...\n",
              "2    0.0  ...  mann photograph alberta rocky mountain superb ...\n",
              "3    1.0  ...  kind film snowy sunday afternoon rest world ah...\n",
              "4    1.0  ...  mention woman nude film absolutely gorgeous pl...\n",
              "\n",
              "[5 rows x 3 columns]"
            ]
          },
          "metadata": {
            "tags": []
          },
          "execution_count": 138
        }
      ]
    },
    {
      "cell_type": "code",
      "metadata": {
        "id": "q0JkseauiH6F"
      },
      "source": [
        "data.drop('reviews', inplace=True, axis=1)\n",
        "data.rename(columns={\"reviews_lemmatized\": \"reviews\"}, inplace=True)"
      ],
      "execution_count": null,
      "outputs": []
    },
    {
      "cell_type": "code",
      "metadata": {
        "colab": {
          "base_uri": "https://localhost:8080/"
        },
        "id": "Fp0QXpTTiJcS",
        "outputId": "95b2399f-c03e-4d71-9019-9b8a3765e503"
      },
      "source": [
        "data['reviews'].iloc[2000]"
      ],
      "execution_count": null,
      "outputs": [
        {
          "output_type": "execute_result",
          "data": {
            "application/vnd.google.colaboratory.intrinsic+json": {
              "type": "string"
            },
            "text/plain": [
              "\"love showevery time watch episode repeat line remind good huge sci fi fan ground important science fiction history film tv theory universe start religion amaze season season get well betteri've fan macgyver 5 19 find ironic 2 favorite tv show time star richard dean anderson interest character practically opposite otherback see stargate movie instantly like consider favorite sci fi flick hear tv spin get excite didn't showtime till 5 season overthough i'm disappoint hear roland emmerich dean devlin want trilogy movie studio option series instead have turn fine maybe betterthis amaze hope die atlantis come\""
            ]
          },
          "metadata": {
            "tags": []
          },
          "execution_count": 140
        }
      ]
    },
    {
      "cell_type": "markdown",
      "metadata": {
        "id": "0dDFliMDt8su"
      },
      "source": [
        "#### **Remove Digits**"
      ]
    },
    {
      "cell_type": "markdown",
      "metadata": {
        "id": "IcTxggmNb9Ko"
      },
      "source": [
        "In my opinion having digits in reviews might not help in prediction. "
      ]
    },
    {
      "cell_type": "code",
      "metadata": {
        "id": "baZxiTsVt_Zm"
      },
      "source": [
        "# Using spacy for this task\n",
        "def remove_digits(text):\n",
        "  doc = nlp(text)\n",
        "  token_list = [token.text for token in doc if token.is_digit != True]\n",
        "  return (' '.join(token_list))\n",
        "\n",
        "data[\"reviews_w/o_digits\"] = data[\"reviews\"].apply(remove_digits)"
      ],
      "execution_count": null,
      "outputs": []
    },
    {
      "cell_type": "code",
      "metadata": {
        "id": "ksO4woe_uvHf"
      },
      "source": [
        "data.drop('reviews', inplace=True, axis=1)\n",
        "data.rename(columns={\"reviews_w/o_digits\": \"reviews\"}, inplace=True)"
      ],
      "execution_count": null,
      "outputs": []
    },
    {
      "cell_type": "code",
      "metadata": {
        "colab": {
          "base_uri": "https://localhost:8080/"
        },
        "id": "3MTv1BUCuVtg",
        "outputId": "51e0bbcf-7bf4-4e9e-db33-a7f068289936"
      },
      "source": [
        "print(data['reviews'].iloc[102])"
      ],
      "execution_count": null,
      "outputs": [
        {
          "output_type": "stream",
          "text": [
            "dutch language film paul verhoeven go mainstream hollywood film basic instinct robocop total recall set stage open story black widow spider catch prey web meet gerard reve annoy self center writer morbid imagination gerard invite guest speaker literary club meet sea town hour amsterdam verhoeven let glimpse gerard imagination twist reality ask writer bite close insanity admit read newspaper say boom read doom say flood read blood say red dead tell story time begin believe lie truth accept offer overnight guest club treasurer beautiful wealthy salon owner get know learn husband die begin imagine black widow reality twist murderess psychological drama recount old film stick memory figure favorite gender look body work paul verhoeven master make question understand reality nice change pace usual hollywood fare see film stick\n"
          ],
          "name": "stdout"
        }
      ]
    },
    {
      "cell_type": "markdown",
      "metadata": {
        "id": "fywlphJGvW7q"
      },
      "source": [
        "#### **Spelling correction**"
      ]
    },
    {
      "cell_type": "markdown",
      "metadata": {
        "id": "zWnxe2KMcSm1"
      },
      "source": [
        "Correct any spelling mistakes so that same words with wrong spellings are not treated differently."
      ]
    },
    {
      "cell_type": "code",
      "metadata": {
        "id": "7hVgAoeSyfX-"
      },
      "source": [
        "#!pip install pyspellchecker"
      ],
      "execution_count": null,
      "outputs": []
    },
    {
      "cell_type": "code",
      "metadata": {
        "id": "DGsXAM1WgKt6"
      },
      "source": [
        "# using spellchecker library for this task\n",
        "from spellchecker import SpellChecker\n",
        "\n",
        "spell = SpellChecker()\n",
        "\n",
        "# Don't correct the following words\n",
        "spell.word_frequency.load_words([\"doesn't\", \"isn't\", \"won't\"])\n",
        "\n",
        "def correct_spellings(text):\n",
        "    corrected_text = []\n",
        "    misspelled_words = spell.unknown(text.split())\n",
        "    for word in text.split():\n",
        "        if word in misspelled_words:\n",
        "          pass\n",
        "        else:\n",
        "            corrected_text.append(word)\n",
        "    return \" \".join(corrected_text)\n",
        "        \n",
        "data[\"reviews_w_correct_spellings\"] = data[\"reviews\"].apply(correct_spellings)"
      ],
      "execution_count": null,
      "outputs": []
    },
    {
      "cell_type": "code",
      "metadata": {
        "id": "NpO5Jzn3gYGr"
      },
      "source": [
        "data.drop('reviews', inplace=True, axis=1)\n",
        "data.rename(columns={\"reviews_w_correct_spellings\": \"reviews\"}, inplace=True)"
      ],
      "execution_count": null,
      "outputs": []
    },
    {
      "cell_type": "markdown",
      "metadata": {
        "id": "z2bq8QcQq4Hs"
      },
      "source": [
        "#### **Remove repeating words**"
      ]
    },
    {
      "cell_type": "markdown",
      "metadata": {
        "id": "umOeRp6gc7tl"
      },
      "source": [
        "Since i have cleaning most of the data as of now, there are many cases where same words are repeating right after one another. eg. \"Asjad **likes like**s to **eat eat** apple\". \n",
        "\n",
        "**Note:** This won't remove repeating words that are repeated at two diffierent locations in the review."
      ]
    },
    {
      "cell_type": "code",
      "metadata": {
        "id": "G2St7ugerGHt"
      },
      "source": [
        "# using regex for this purpose\n",
        "def remove_repetition(text):\n",
        "  re_output = re.sub(r'\\b(\\w+)( \\1\\b)+', r'\\1', text)\n",
        "  return re_output\n",
        "\n",
        "data[\"reviews_w/o_repetition\"] = data[\"reviews\"].apply(remove_repetition)"
      ],
      "execution_count": null,
      "outputs": []
    },
    {
      "cell_type": "code",
      "metadata": {
        "id": "vjnKgZdDrymq"
      },
      "source": [
        "data.drop('reviews', inplace=True, axis=1)\n",
        "data.rename(columns={\"reviews_w/o_repetition\": \"reviews\"}, inplace=True)"
      ],
      "execution_count": null,
      "outputs": []
    },
    {
      "cell_type": "markdown",
      "metadata": {
        "id": "XFYAB6GdgaTz"
      },
      "source": [
        "#### **Compare the preprocessed and raw version of the data**"
      ]
    },
    {
      "cell_type": "code",
      "metadata": {
        "colab": {
          "base_uri": "https://localhost:8080/"
        },
        "id": "eN4sbDh7AtlZ",
        "outputId": "57de9bb6-a01b-4d23-92f1-00a2b142f893"
      },
      "source": [
        "# Cleaned data\n",
        "for i in range(10):\n",
        "  print(data['reviews'].iloc[i])"
      ],
      "execution_count": null,
      "outputs": [
        {
          "output_type": "stream",
          "text": [
            "absolutely terrible movie don't lure christopher walken michael ironside great actor simply wrong role history great act redeem movie ridiculous storyline movie early ninety propaganda piece pathetic scene columbian rebel make case revolution mare conchita alonso appear phony pseudo love affair walken pathetic emotional plug movie devoid real mean disappoint movie like ruin actor like christopher walken good barely sit\n",
            "know fall asleep film usually combination thing include tire warm comfortable have eat lot occasion fall asleep film rubbish plot development constant constantly slow bore thing happen explanation cause admit miss film watch majority happen accord real concern not recommend film\n",
            "mann photograph alberta rocky mountain superb fashion jimmy stewart walter brennan enjoyable performance come hollywood mountie tell people dawson city yukon elect marshal yes marshal enforce law battle street control town remotely resemble happen canadian border klondike gold rush mr mann company appear mistake dawson city deadwood canadian north american wild viewer prepare reefer madness type enjoyable howl ludicrous plot shake head disgust\n",
            "kind film snowy sunday afternoon rest world ahead business descend big arm chair mellow couple hour wonderful performance cher nicolas cage gently row plot rapid cross dangerous water warm witty paddle new york life well family film sense deserve praise receive\n",
            "mention woman nude film absolutely gorgeous plot ably show hypocrisy female libido man want pursue man pursuer year old boy man fast lucky age get courage pursue true love\n",
            "film see anybody interest effect suffer eat disorder amazingly accurate sensitive portrayal bulimia teenage girl cause symptom girl play brilliant young actress work cinema today alison late spectacular truth lie recommend film show school well subject alison absolutely outstanding marvel ability convey anguish girl suffer compulsive disorder barometer tell air pressure alison tell emotional pressure degree accuracy emotional range precise scene measure microscopically gradation trauma scale rise hysteria desperation reach unbearable intensity mare perfect choice play mother immense sympathy range emotion finely tune pair sensitive emotional oscillator vibrate resonance film astonish achievement director shea proud reason see interest people like nature film well animal behaviour sharp edge bulimia extreme version torment soul destroy body frenzy despair don't sympathise people suffer depth despair dead inside\n",
            "okay penelope keith miss herringbone tweed backbone england kill scene right folk o'toole old colonel cricket war lord lumley lady manor year young colonel year past prime glamourous brit spell toy boy alright col cricket knowledge consent guy come round christmas considerate colonel say toy boy age mccallum say toy boy equally pointlessly glamourous squeeze pilcher couldn't come cover story give hush job finally susan hampshire miss polonia teacup venerable headmistress venerable girl board school serve tea office dash deep poignant advice life outside world graduation well bite advice local stately home england think beautiful real world can't didn't warn susan time character run don't write -PRON- like loss cast set like making brideshead revisit take support role pay act old temp job warn sign lot backlight shoot outdoor hey warn sign lead lady cry lot cry eye moist law romance novel lead lady dewy eye henceforth lead lady shall know warn sign will actually star eye love emily mortimer award have act spotlight eye wonder use lastly warn sign screen female character mrs miss lady say couldn't tell pursue couldn't tell say sum live world war ii happen end will find lose parent japanese prison camp baby sis come home catatonic young guy will crush don't know come home wartime tough spot find live street lady manor street go find war casualty whisk away recover somebody whisk away romance drama\n",
            "film base genuine colin mcinnes write set london novel absolute beginner city spade mr love justice read excellent experiment come mcinnes work highly acclaim rightly musical novelist ultimate nightmare fruit mind turn glitzy badly act soporific dimensional apology film say capture spirit london goodness colin mcinnes alive witness\n",
            "love sexy action sci fi film sixty actress appear find sexy woman film didn't matt act remember candy reason disappoint film nostalgic story european sci fi film call dragonfly director fire producer decide let young aspire filmmaker jeremy davies complete picture real beautiful woman film play dragonfly barely film write direct roman coppola use father exploit early day put script wish film homage early film lot cameo actor appear actor film popular sixty john phillip law gerard depardieu giancarlo giannini dean stockwell appear guess go continue wait director good homage film sixty read sexy wait\n",
            "sure isn't blockbuster target position dieter popular german musician love hate kind act s exactly movie base autobiography dieter write year ago isn't mean accurate movie fill sexual offensive content american standard amuse actor course dumb depend individual kind humor technically speak isn't criticize speak find movie okay movie\n"
          ],
          "name": "stdout"
        }
      ]
    },
    {
      "cell_type": "code",
      "metadata": {
        "colab": {
          "base_uri": "https://localhost:8080/"
        },
        "id": "6vFviggZ1j-e",
        "outputId": "1040aa45-ca59-4a38-c08d-7e799f26a6cf"
      },
      "source": [
        "# Raw data\n",
        "for i in range(10):\n",
        "  print(df_train['reviews'][i])"
      ],
      "execution_count": null,
      "outputs": [
        {
          "output_type": "stream",
          "text": [
            "\"This was an absolutely terrible movie. Don't be lured in by Christopher Walken or Michael Ironside. Both are great actors, but this must simply be their worst role in history. Even their great acting could not redeem this movie's ridiculous storyline. This movie is an early nineties US propaganda piece. The most pathetic scenes were those when the Columbian rebels were making their cases for revolutions. Maria Conchita Alonso appeared phony, and her pseudo-love affair with Walken was nothing but a pathetic emotional plug in a movie that was devoid of any real meaning. I am disappointed that there are movies like this, ruining actor's like Christopher Walken's good name. I could barely sit through it.\"\n",
            "'I have been known to fall asleep during films, but this is usually due to a combination of things including, really tired, being warm and comfortable on the sette and having just eaten a lot. However on this occasion I fell asleep because the film was rubbish. The plot development was constant. Constantly slow and boring. Things seemed to happen, but with no explanation of what was causing them or why. I admit, I may have missed part of the film, but i watched the majority of it and everything just seemed to happen of its own accord without any real concern for anything else. I cant recommend this film at all.'\n",
            "'Mann photographs the Alberta Rocky Mountains in a superb fashion, and Jimmy Stewart and Walter Brennan give enjoyable performances as they always seem to do. <br /><br />But come on Hollywood - a Mountie telling the people of Dawson City, Yukon to elect themselves a marshal (yes a marshal!) and to enforce the law themselves, then gunfighters battling it out on the streets for control of the town? <br /><br />Nothing even remotely resembling that happened on the Canadian side of the border during the Klondike gold rush. Mr. Mann and company appear to have mistaken Dawson City for Deadwood, the Canadian North for the American Wild West.<br /><br />Canadian viewers be prepared for a Reefer Madness type of enjoyable howl with this ludicrous plot, or, to shake your head in disgust.'\n",
            "'This is the kind of film for a snowy Sunday afternoon when the rest of the world can go ahead with its own business as you descend into a big arm-chair and mellow for a couple of hours. Wonderful performances from Cher and Nicolas Cage (as always) gently row the plot along. There are no rapids to cross, no dangerous waters, just a warm and witty paddle through New York life at its best. A family film in every sense and one that deserves the praise it received.'\n",
            "'As others have mentioned, all the women that go nude in this film are mostly absolutely gorgeous. The plot very ably shows the hypocrisy of the female libido. When men are around they want to be pursued, but when no \"men\" are around, they become the pursuers of a 14 year old boy. And the boy becomes a man really fast (we should all be so lucky at this age!). He then gets up the courage to pursue his true love.'\n",
            "\"This is a film which should be seen by anybody interested in, effected by, or suffering from an eating disorder. It is an amazingly accurate and sensitive portrayal of bulimia in a teenage girl, its causes and its symptoms. The girl is played by one of the most brilliant young actresses working in cinema today, Alison Lohman, who was later so spectacular in 'Where the Truth Lies'. I would recommend that this film be shown in all schools, as you will never see a better on this subject. Alison Lohman is absolutely outstanding, and one marvels at her ability to convey the anguish of a girl suffering from this compulsive disorder. If barometers tell us the air pressure, Alison Lohman tells us the emotional pressure with the same degree of accuracy. Her emotional range is so precise, each scene could be measured microscopically for its gradations of trauma, on a scale of rising hysteria and desperation which reaches unbearable intensity. Mare Winningham is the perfect choice to play her mother, and does so with immense sympathy and a range of emotions just as finely tuned as Lohman's. Together, they make a pair of sensitive emotional oscillators vibrating in resonance with one another. This film is really an astonishing achievement, and director Katt Shea should be proud of it. The only reason for not seeing it is if you are not interested in people. But even if you like nature films best, this is after all animal behaviour at the sharp edge. Bulimia is an extreme version of how a tormented soul can destroy her own body in a frenzy of despair. And if we don't sympathise with people suffering from the depths of despair, then we are dead inside.\"\n",
            "'Okay, you have:<br /><br />Penelope Keith as Miss Herringbone-Tweed, B.B.E. (Backbone of England.) She\\'s killed off in the first scene - that\\'s right, folks; this show has no backbone!<br /><br />Peter O\\'Toole as Ol\\' Colonel Cricket from The First War and now the emblazered Lord of the Manor.<br /><br />Joanna Lumley as the ensweatered Lady of the Manor, 20 years younger than the colonel and 20 years past her own prime but still glamourous (Brit spelling, not mine) enough to have a toy-boy on the side. It\\'s alright, they have Col. Cricket\\'s full knowledge and consent (they guy even comes \\'round for Christmas!) Still, she\\'s considerate of the colonel enough to have said toy-boy her own age (what a gal!)<br /><br />David McCallum as said toy-boy, equally as pointlessly glamourous as his squeeze. Pilcher couldn\\'t come up with any cover for him within the story, so she gave him a hush-hush job at the Circus.<br /><br />and finally:<br /><br />Susan Hampshire as Miss Polonia Teacups, Venerable Headmistress of the Venerable Girls\\' Boarding-School, serving tea in her office with a dash of deep, poignant advice for life in the outside world just before graduation. Her best bit of advice: \"I\\'ve only been to Nancherrow (the local Stately Home of England) once. I thought it was very beautiful but, somehow, not part of the real world.\" Well, we can\\'t say they didn\\'t warn us.<br /><br />Ah, Susan - time was, your character would have been running the whole show. They don\\'t write \\'em like that any more. Our loss, not yours.<br /><br />So - with a cast and setting like this, you have the re-makings of \"Brideshead Revisited,\" right?<br /><br />Wrong! They took these 1-dimensional supporting roles because they paid so well. After all, acting is one of the oldest temp-jobs there is (YOU name another!)<br /><br />First warning sign: lots and lots of backlighting. They get around it by shooting outdoors - \"hey, it\\'s just the sunlight!\"<br /><br />Second warning sign: Leading Lady cries a lot. When not crying, her eyes are moist. That\\'s the law of romance novels: Leading Lady is \"dewy-eyed.\"<br /><br />Henceforth, Leading Lady shall be known as L.L.<br /><br />Third warning sign: L.L. actually has stars in her eyes when she\\'s in love. Still, I\\'ll give Emily Mortimer an award just for having to act with that spotlight in her eyes (I wonder . did they use contacts?)<br /><br />And lastly, fourth warning sign: no on-screen female character is \"Mrs.\" She\\'s either \"Miss\" or \"Lady.\"<br /><br />When all was said and done, I still couldn\\'t tell you who was pursuing whom and why. I couldn\\'t even tell you what was said and done.<br /><br />To sum up: they all live through World War II without anything happening to them at all.<br /><br />OK, at the end, L.L. finds she\\'s lost her parents to the Japanese prison camps and baby sis comes home catatonic. Meanwhile (there\\'s always a \"meanwhile,\") some young guy L.L. had a crush on (when, I don\\'t know) comes home from some wartime tough spot and is found living on the street by Lady of the Manor (must be some street if SHE\\'s going to find him there.) Both war casualties are whisked away to recover at Nancherrow (SOMEBODY has to be \"whisked away\" SOMEWHERE in these romance stories!)<br /><br />Great drama.'\n",
            "'The film is based on a genuine 1950s novel.<br /><br />Journalist Colin McInnes wrote a set of three \"London novels\": \"Absolute Beginners\", \"City of Spades\" and \"Mr Love and Justice\". I have read all three. The first two are excellent. The last, perhaps an experiment that did not come off. But McInnes\\'s work is highly acclaimed; and rightly so. This musical is the novelist\\'s ultimate nightmare - to see the fruits of one\\'s mind being turned into a glitzy, badly-acted, soporific one-dimensional apology of a film that says it captures the spirit of 1950s London, and does nothing of the sort.<br /><br />Thank goodness Colin McInnes wasn\\'t alive to witness it.'\n",
            "'I really love the sexy action and sci-fi films of the sixties and its because of the actress\\'s that appeared in them. They found the sexiest women to be in these films and it didn\\'t matter if they could act (Remember \"Candy\"?). The reason I was disappointed by this film was because it wasn\\'t nostalgic enough. The story here has a European sci-fi film called \"Dragonfly\" being made and the director is fired. So the producers decide to let a young aspiring filmmaker (Jeremy Davies) to complete the picture. They\\'re is one real beautiful woman in the film who plays Dragonfly but she\\'s barely in it. Film is written and directed by Roman Coppola who uses some of his fathers exploits from his early days and puts it into the script. I wish the film could have been an homage to those early films. They could have lots of cameos by actors who appeared in them. There is one actor in this film who was popular from the sixties and its John Phillip Law (Barbarella). Gerard Depardieu, Giancarlo Giannini and Dean Stockwell appear as well. I guess I\\'m going to have to continue waiting for a director to make a good homage to the films of the sixties. If any are reading this, \"Make it as sexy as you can\"! I\\'ll be waiting!'\n",
            "'Sure, this one isn\\'t really a blockbuster, nor does it target such a position. \"Dieter\" is the first name of a quite popular German musician, who is either loved or hated for his kind of acting and thats exactly what this movie is about. It is based on the autobiography \"Dieter Bohlen\" wrote a few years ago but isn\\'t meant to be accurate on that. The movie is filled with some sexual offensive content (at least for American standard) which is either amusing (not for the other \"actors\" of course) or dumb - it depends on your individual kind of humor or on you being a \"Bohlen\"-Fan or not. Technically speaking there isn\\'t much to criticize. Speaking of me I find this movie to be an OK-movie.'\n"
          ],
          "name": "stdout"
        }
      ]
    },
    {
      "cell_type": "markdown",
      "metadata": {
        "id": "_HbJSgqGw13z"
      },
      "source": [
        "#### **Divide the data back to train and valid**"
      ]
    },
    {
      "cell_type": "code",
      "metadata": {
        "id": "sroql69xpNgq"
      },
      "source": [
        "# pickel the data so that i don't have to do the preprosessing again.\n",
        "data.to_pickle('/content/drive/MyDrive/data/data')"
      ],
      "execution_count": null,
      "outputs": []
    },
    {
      "cell_type": "code",
      "metadata": {
        "id": "chXAi-dZyuwX"
      },
      "source": [
        "# read the saved data\n",
        "data = pd.read_pickle('/content/drive/MyDrive/data/data')"
      ],
      "execution_count": null,
      "outputs": []
    },
    {
      "cell_type": "markdown",
      "metadata": {
        "id": "7uZ3QNVi-VBl"
      },
      "source": [
        "From now onwards i'll call **'test data'** as **'valid data'** because i'll use test data as for validation purpose."
      ]
    },
    {
      "cell_type": "code",
      "metadata": {
        "colab": {
          "base_uri": "https://localhost:8080/"
        },
        "id": "x5mQaKnzw73q",
        "outputId": "a88a8962-b4bf-4d75-dc44-dde066d52d70"
      },
      "source": [
        "# Split the data back to 50% train and 50% valid\n",
        "train_df = data.iloc[0:25000, 1]\n",
        "y_train = data.iloc[0:25000, 0]\n",
        "valid_df = data.iloc[25000:, 1]\n",
        "y_valid = data.iloc[25000:, 0]\n",
        "print(train_df.shape, valid_df.shape)"
      ],
      "execution_count": null,
      "outputs": [
        {
          "output_type": "stream",
          "text": [
            "(25000,) (25000,)\n"
          ],
          "name": "stdout"
        }
      ]
    },
    {
      "cell_type": "markdown",
      "metadata": {
        "id": "dScJr_sVSqZ2"
      },
      "source": [
        "# **Models**"
      ]
    },
    {
      "cell_type": "markdown",
      "metadata": {
        "id": "xzu3CVE61isk"
      },
      "source": [
        "###**Tokenize for LSTM**"
      ]
    },
    {
      "cell_type": "code",
      "metadata": {
        "id": "Us5u-09b-xX4",
        "colab": {
          "base_uri": "https://localhost:8080/"
        },
        "outputId": "4b945545-f43b-40f6-d0ad-34c48f426426"
      },
      "source": [
        "# find the average review length\n",
        "# just to get an idea of where to sent max_sent_length\n",
        "review_length = []\n",
        "def get_length(text):\n",
        "  rev_length = len(text.split())\n",
        "  review_length.append(rev_length)\n",
        "  return review_length\n",
        "\n",
        "length_of_sentiments= data[\"reviews\"].apply(get_length)\n",
        "avg_seq_length = int(np.ceil(sum(length_of_sentiments.iloc[0])/len(length_of_sentiments.iloc[0])))\n",
        "print(\"Average sentiment length: \" + str(avg_seq_length))"
      ],
      "execution_count": null,
      "outputs": [
        {
          "output_type": "stream",
          "text": [
            "Average sentiment length: 98\n"
          ],
          "name": "stdout"
        }
      ]
    },
    {
      "cell_type": "code",
      "metadata": {
        "id": "DimhWdYq-zo2"
      },
      "source": [
        "max_seq_length = 150\n",
        "# size of word index\n",
        "vocab_size = 31594"
      ],
      "execution_count": null,
      "outputs": []
    },
    {
      "cell_type": "code",
      "metadata": {
        "id": "zsK_-UsJxCPo"
      },
      "source": [
        "# Import Keras Tokenizer and sequence\n",
        "from keras.preprocessing.text import Tokenizer\n",
        "from tensorflow.keras.preprocessing import sequence"
      ],
      "execution_count": null,
      "outputs": []
    },
    {
      "cell_type": "code",
      "metadata": {
        "id": "i2UasPAhvXCX"
      },
      "source": [
        "# This function will tokenize the data using Keras Tokenizer\n",
        "# Padding will also be done so that all reviews are of same length\n",
        "\n",
        "def tokenize_padding_seq(train_df, valid_df, max_features, max_seq_length):\n",
        "   \n",
        "    tokenizer = Tokenizer(num_words=max_features, split=' ', lower=True)\n",
        "\n",
        "    tokenizer.fit_on_texts(train_df)\n",
        "    X_train = tokenizer.texts_to_sequences(train_df)\n",
        "    X_valid  = tokenizer.texts_to_sequences(valid_df)\n",
        "\n",
        "    X_train = sequence.pad_sequences(X_train, maxlen=max_seq_length, padding='post', truncating='post')\n",
        "    X_valid  = sequence.pad_sequences(X_valid,  maxlen=max_seq_length, padding='post', truncating='post')\n",
        "    \n",
        "    # Tokeneizer gives more tokens then that of the actual vocab size\n",
        "    word_index = tokenizer.word_index\n",
        "    print('Found %s unique tokens.' % len(word_index))\n",
        "    return X_train, y_train, X_valid, y_valid"
      ],
      "execution_count": null,
      "outputs": []
    },
    {
      "cell_type": "code",
      "metadata": {
        "id": "fGjcjSpCxmFL",
        "colab": {
          "base_uri": "https://localhost:8080/"
        },
        "outputId": "3416f4b9-e0ff-490c-8740-cfe56b38182d"
      },
      "source": [
        "X_train, y_train, X_valid, y_valid = tokenize_padding_seq(train_df, valid_df, max_features=vocab_size, max_seq_length=max_seq_length)"
      ],
      "execution_count": null,
      "outputs": [
        {
          "output_type": "stream",
          "text": [
            "Found 31594 unique tokens.\n"
          ],
          "name": "stdout"
        }
      ]
    },
    {
      "cell_type": "code",
      "metadata": {
        "colab": {
          "base_uri": "https://localhost:8080/"
        },
        "id": "UOL28RmIytL5",
        "outputId": "65d478c5-d0ec-4095-cd8a-08d99fc0e294"
      },
      "source": [
        "print(X_train.shape, y_train.shape, X_valid.shape, y_valid.shape)"
      ],
      "execution_count": null,
      "outputs": [
        {
          "output_type": "stream",
          "text": [
            "(25000, 150) (25000,) (25000, 150) (25000,)\n"
          ],
          "name": "stdout"
        }
      ]
    },
    {
      "cell_type": "markdown",
      "metadata": {
        "id": "LLuNGGMsAlyL"
      },
      "source": [
        "### **LSTM with Keras Embedding**"
      ]
    },
    {
      "cell_type": "code",
      "metadata": {
        "id": "KPNweLT9LZTV"
      },
      "source": [
        "# Import the necessary libraries\n",
        "from tensorflow.keras.layers import LSTM, Input, Embedding, Dense, Dropout, SpatialDropout1D, Lambda\n",
        "from tensorflow.keras.models import Model\n",
        "from tensorflow.keras import backend as be\n",
        "from tensorflow.keras.optimizers import Adadelta, Adam, SGD\n",
        "from tensorflow.keras.callbacks import ModelCheckpoint\n",
        "from tensorflow.keras.initializers import glorot_normal\n",
        "from tensorflow.keras.models import load_model\n",
        "\n",
        "import tensorflow as tf"
      ],
      "execution_count": null,
      "outputs": []
    },
    {
      "cell_type": "code",
      "metadata": {
        "id": "utjAiEhTzlWz"
      },
      "source": [
        "# Define the embedding size\n",
        "embedding_size = 200\n",
        "LSTM_size = 64\n",
        "dropout_rate = 0.2"
      ],
      "execution_count": null,
      "outputs": []
    },
    {
      "cell_type": "markdown",
      "metadata": {
        "id": "eLelh-TKUqIH"
      },
      "source": [
        "#### **Model**"
      ]
    },
    {
      "cell_type": "code",
      "metadata": {
        "colab": {
          "base_uri": "https://localhost:8080/"
        },
        "id": "2LMBWsHGHXMu",
        "outputId": "7629fb7c-0a56-41fb-ebf9-c1a6e566f1fd"
      },
      "source": [
        "# reset the graph / clear session\n",
        "be.clear_session()\n",
        "tf.compat.v1.reset_default_graph()\n",
        "\n",
        "\n",
        "# Input layer \n",
        "inputs = Input(shape = (max_seq_length, ))\n",
        "\n",
        "# Embedding layer\n",
        "embedding_layer = Embedding(vocab_size+1, embedding_size, input_length=max_seq_length, mask_zero=True)(inputs)\n",
        "\n",
        "# LSTM layer 1\n",
        "LSTM_1 = LSTM(LSTM_size, kernel_initializer=glorot_normal(seed=19), return_sequences = False)(embedding_layer)\n",
        "\n",
        "# Dropout\n",
        "Dropout_1 = Dropout(dropout_rate, seed=19)(LSTM_1)\n",
        "\n",
        "# Output Layer\n",
        "# It's binary classification, one unit with sigmoid activation\n",
        "predictions = Dense(1, activation = 'sigmoid')(Dropout_1)\n",
        "\n",
        "# Instantiate the model\n",
        "model = Model(inputs,predictions)\n",
        "\n",
        "# get the model summary\n",
        "model.summary()"
      ],
      "execution_count": null,
      "outputs": [
        {
          "output_type": "stream",
          "text": [
            "Model: \"functional_1\"\n",
            "_________________________________________________________________\n",
            "Layer (type)                 Output Shape              Param #   \n",
            "=================================================================\n",
            "input_1 (InputLayer)         [(None, 150)]             0         \n",
            "_________________________________________________________________\n",
            "embedding (Embedding)        (None, 150, 200)          6318800   \n",
            "_________________________________________________________________\n",
            "lstm (LSTM)                  (None, 64)                67840     \n",
            "_________________________________________________________________\n",
            "dropout (Dropout)            (None, 64)                0         \n",
            "_________________________________________________________________\n",
            "dense (Dense)                (None, 1)                 65        \n",
            "=================================================================\n",
            "Total params: 6,386,705\n",
            "Trainable params: 6,386,705\n",
            "Non-trainable params: 0\n",
            "_________________________________________________________________\n"
          ],
          "name": "stdout"
        }
      ]
    },
    {
      "cell_type": "markdown",
      "metadata": {
        "id": "4QFSGCX-UwoT"
      },
      "source": [
        "#### **Loss and optimization**"
      ]
    },
    {
      "cell_type": "code",
      "metadata": {
        "id": "IwKdKJVPHXQz"
      },
      "source": [
        "# Loss \n",
        "loss = 'binary_crossentropy'\n",
        "\n",
        "# Optimizer\n",
        "optimizer = Adam(learning_rate=0.0001) \n",
        " \n",
        "# Compilation\n",
        "model.compile(loss=loss, optimizer= optimizer, metrics = ['accuracy'])"
      ],
      "execution_count": null,
      "outputs": []
    },
    {
      "cell_type": "markdown",
      "metadata": {
        "id": "TfHzDaW1U4Cv"
      },
      "source": [
        "#### **Training**"
      ]
    },
    {
      "cell_type": "code",
      "metadata": {
        "colab": {
          "base_uri": "https://localhost:8080/"
        },
        "id": "RXvdqVVuHXKt",
        "outputId": "42121a5b-97a3-4f02-b242-e3a09b8e2eeb"
      },
      "source": [
        "checkpoint_filepath = '/content/drive/MyDrive/checkpoint_lstm/temp'\n",
        "\n",
        "# Save the weights based on min validation loss. \n",
        "# even if model overfits i'll use this checkpoint to get the weights which had min valid loss.\n",
        "model_checkpoint_callback = ModelCheckpoint(filepath=checkpoint_filepath, save_weights_only=True, monitor='val_loss', mode='min', save_best_only=True)\n",
        "\n",
        "# I will use the entire train data for training and use the test data (which i renamed \n",
        "# as valid data) for validation.\n",
        "\n",
        "# Loads the weights (IF NEEDED)\n",
        "#model.load_weights(checkpoint_filepath)\n",
        "with tf.device('/gpu:0' and '/gpu:1'):\n",
        "  history = model.fit(X_train, \n",
        "                      y_train,\n",
        "                      epochs=5,\n",
        "                      validation_data=(X_valid, y_valid),\n",
        "                      batch_size=128,\n",
        "                      verbose=1,\n",
        "                      shuffle=False,\n",
        "                      callbacks=[model_checkpoint_callback])"
      ],
      "execution_count": null,
      "outputs": [
        {
          "output_type": "stream",
          "text": [
            "Epoch 1/5\n",
            "196/196 [==============================] - 102s 523ms/step - loss: 0.6233 - accuracy: 0.6826 - val_loss: 0.4673 - val_accuracy: 0.8203\n",
            "Epoch 2/5\n",
            "196/196 [==============================] - 102s 520ms/step - loss: 0.3492 - accuracy: 0.8694 - val_loss: 0.3548 - val_accuracy: 0.8520\n",
            "Epoch 3/5\n",
            "196/196 [==============================] - 107s 547ms/step - loss: 0.2427 - accuracy: 0.9135 - val_loss: 0.3682 - val_accuracy: 0.8503\n",
            "Epoch 4/5\n",
            "196/196 [==============================] - 102s 521ms/step - loss: 0.1858 - accuracy: 0.9388 - val_loss: 0.3938 - val_accuracy: 0.8452\n",
            "Epoch 5/5\n",
            "196/196 [==============================] - 102s 520ms/step - loss: 0.1488 - accuracy: 0.9550 - val_loss: 0.3889 - val_accuracy: 0.8347\n"
          ],
          "name": "stdout"
        }
      ]
    },
    {
      "cell_type": "code",
      "metadata": {
        "id": "LgXNBvzh7Qva",
        "colab": {
          "base_uri": "https://localhost:8080/"
        },
        "outputId": "0c608fab-3f34-4dca-8a82-a05bd2af08d9"
      },
      "source": [
        "# get the best weights and evaluate on valid set\n",
        "model.load_weights(checkpoint_filepath)\n",
        "scores = model.evaluate(X_valid, y_valid, verbose=1)"
      ],
      "execution_count": null,
      "outputs": [
        {
          "output_type": "stream",
          "text": [
            "782/782 [==============================] - 25s 32ms/step - loss: 0.3548 - accuracy: 0.8520\n"
          ],
          "name": "stdout"
        }
      ]
    },
    {
      "cell_type": "markdown",
      "metadata": {
        "id": "4Zj3ykzvVEv-"
      },
      "source": [
        "Observations:\n",
        "1. Model tends to overfit despite the use of dropout.\n",
        "2. In my opinion, given the data preprocessing that i have done, the Model has reached the generalization capasity.\n",
        "3. Getting more training data may help in this case (Since I have used 50% train and 50% Valid)."
      ]
    },
    {
      "cell_type": "markdown",
      "metadata": {
        "id": "dEf1-hLnWw4a"
      },
      "source": [
        "###  **BERT without Ktrain Wrapper (Using Keras and Tensorflow)**"
      ]
    },
    {
      "cell_type": "markdown",
      "metadata": {
        "id": "tlqvDrkfnR2z"
      },
      "source": [
        "Note: The following code for BERT is generted by watching multiple tutorials on YouTube because I had no clue of how to 'implement' BERT without Ktrain. The brighter side of the story is that now i have an idea about how to implement BERT without wrapper. My understanding of the implementation can be judged by the comments i have made side by side. "
      ]
    },
    {
      "cell_type": "markdown",
      "metadata": {
        "id": "fzL__sNTnYBb"
      },
      "source": [
        "I will train the entire model and won't do the fine tuning. "
      ]
    },
    {
      "cell_type": "code",
      "metadata": {
        "id": "OOa5bApjW1fn"
      },
      "source": [
        "# istall the latest version of tensorflow GPU\n",
        "!pip install tensorflow-gpu >> /dev/null"
      ],
      "execution_count": null,
      "outputs": []
    },
    {
      "cell_type": "code",
      "metadata": {
        "id": "a2toFxJQx-ah"
      },
      "source": [
        "# required for using dependencies\n",
        "!pip install --upgrade grpcio >> /dev/nul l"
      ],
      "execution_count": null,
      "outputs": []
    },
    {
      "cell_type": "code",
      "metadata": {
        "id": "LVrczLPQyQzX"
      },
      "source": [
        "# istall tqdm for the progress bars\n",
        "!pip install tqdm >> /dev/null"
      ],
      "execution_count": null,
      "outputs": []
    },
    {
      "cell_type": "code",
      "metadata": {
        "id": "6FVHQ7d8yQ21"
      },
      "source": [
        "# requried because the original implementation for bert is not campatble with tensorflow 2\n",
        "# this will allow to use pretrained BERT model with tf 2\n",
        "!pip install bert-for-tf2 >> /dev/null"
      ],
      "execution_count": null,
      "outputs": []
    },
    {
      "cell_type": "code",
      "metadata": {
        "id": "yEM-7BU3yQ7x"
      },
      "source": [
        "!pip install sentencepiece >> /dev/null"
      ],
      "execution_count": null,
      "outputs": []
    },
    {
      "cell_type": "code",
      "metadata": {
        "id": "0KYcX6p0yQ-n"
      },
      "source": [
        "# import dependencies \n",
        "import os\n",
        "import math \n",
        "import datetime\n",
        "\n",
        "from tqdm import tqdm\n",
        "\n",
        "import bert\n",
        "from bert import BertModelLayer\n",
        "from bert.loader import StockBertConfig, map_stock_config_to_params, load_stock_weights\n",
        "# Bert also comes with its own tokenizer, i will use this for pre-processing\n",
        "from bert.tokenization.bert_tokenization import FullTokenizer"
      ],
      "execution_count": null,
      "outputs": []
    },
    {
      "cell_type": "markdown",
      "metadata": {
        "id": "JiVeSb4B2Iy2"
      },
      "source": [
        "There are 2 pre-trained version of BERT. I will use base BERT with 12 encoders."
      ]
    },
    {
      "cell_type": "code",
      "metadata": {
        "colab": {
          "base_uri": "https://localhost:8080/"
        },
        "id": "fA-p4xckyRJP",
        "outputId": "764b8101-4ace-491a-f19c-03bc8b912b07"
      },
      "source": [
        "# download the model\n",
        "!wget https://storage.googleapis.com/bert_models/2018_10_18/uncased_L-12_H-768_A-12.zip\n",
        "# L-12 tells the number of encoders (12)\n",
        "# H-786 tell the Hiden size (786)\n",
        "# just the lower case version\n",
        "# zip file stored locally on colab"
      ],
      "execution_count": null,
      "outputs": [
        {
          "output_type": "stream",
          "text": [
            "--2020-12-03 10:17:32--  https://storage.googleapis.com/bert_models/2018_10_18/uncased_L-12_H-768_A-12.zip\n",
            "Resolving storage.googleapis.com (storage.googleapis.com)... 172.217.8.16, 172.253.63.128, 142.250.31.128, ...\n",
            "Connecting to storage.googleapis.com (storage.googleapis.com)|172.217.8.16|:443... connected.\n",
            "HTTP request sent, awaiting response... 200 OK\n",
            "Length: 407727028 (389M) [application/zip]\n",
            "Saving to: ‘uncased_L-12_H-768_A-12.zip’\n",
            "\n",
            "uncased_L-12_H-768_ 100%[===================>] 388.84M   148MB/s    in 2.6s    \n",
            "\n",
            "2020-12-03 10:17:35 (148 MB/s) - ‘uncased_L-12_H-768_A-12.zip’ saved [407727028/407727028]\n",
            "\n"
          ],
          "name": "stdout"
        }
      ]
    },
    {
      "cell_type": "code",
      "metadata": {
        "colab": {
          "base_uri": "https://localhost:8080/"
        },
        "id": "Jezskf5qyRMV",
        "outputId": "9dcb0072-5880-4ca9-bc4f-7d250a93b608"
      },
      "source": [
        "# unzip the file\n",
        "!unzip uncased_L-12_H-768_A-12"
      ],
      "execution_count": null,
      "outputs": [
        {
          "output_type": "stream",
          "text": [
            "Archive:  uncased_L-12_H-768_A-12.zip\n",
            "   creating: uncased_L-12_H-768_A-12/\n",
            "  inflating: uncased_L-12_H-768_A-12/bert_model.ckpt.meta  \n",
            "  inflating: uncased_L-12_H-768_A-12/bert_model.ckpt.data-00000-of-00001  \n",
            "  inflating: uncased_L-12_H-768_A-12/vocab.txt  \n",
            "  inflating: uncased_L-12_H-768_A-12/bert_model.ckpt.index  \n",
            "  inflating: uncased_L-12_H-768_A-12/bert_config.json  \n"
          ],
          "name": "stdout"
        }
      ]
    },
    {
      "cell_type": "markdown",
      "metadata": {
        "id": "Q13pCUlX3lK5"
      },
      "source": [
        "I get a checkpoint and vocab that will be used by the tokenizer that comes with BERT. It also has bert_config.json which contains configuration for importing the model.\n",
        "\n",
        "\n",
        "\n",
        "```\n",
        "# check bert_config.json\n",
        "{\n",
        "  \"attention_probs_dropout_prob\": 0.1,\n",
        "  \"hidden_act\": \"gelu\",\n",
        "  \"hidden_dropout_prob\": 0.1,\n",
        "  \"hidden_size\": 768,\n",
        "  \"initializer_range\": 0.02,\n",
        "  \"intermediate_size\": 3072,\n",
        "  \"max_position_embeddings\": 512,\n",
        "  \"num_attention_heads\": 12,\n",
        "  \"num_hidden_layers\": 12,\n",
        "  \"type_vocab_size\": 2,\n",
        "  \"vocab_size\": 30522\n",
        "}\n",
        "```\n",
        "\n"
      ]
    },
    {
      "cell_type": "code",
      "metadata": {
        "id": "fonfdhP83gUH"
      },
      "source": [
        "# make a folder and move everthing that i downloaded to the folder\n",
        "os.makedirs('model', exist_ok=True)\n",
        "# move it to the folder\n",
        "!mv uncased_L-12_H-768_A-12/ model"
      ],
      "execution_count": null,
      "outputs": []
    },
    {
      "cell_type": "code",
      "metadata": {
        "id": "UbTgK-Yh3gXD"
      },
      "source": [
        "# specify the model name\n",
        "bert_model_name = 'uncased_L-12_H-768_A-12'\n",
        "# specfy the checkpoint directory\n",
        "bert_checkpoint_dir = os.path.join('model/', bert_model_name)\n",
        "# specify the checkpoint file itself\n",
        "bert_checkpoint_file = os.path.join(bert_checkpoint_dir, 'bert_model.ckpt')\n",
        "# specify the config file, the \".json\" file\n",
        "bert_config_file = os.path.join(bert_checkpoint_dir, 'bert_config.json')"
      ],
      "execution_count": null,
      "outputs": []
    },
    {
      "cell_type": "markdown",
      "metadata": {
        "id": "PT1c7E0C8juo"
      },
      "source": [
        "#### **Preprocessing**"
      ]
    },
    {
      "cell_type": "code",
      "metadata": {
        "id": "xMh_JLwi9c8J",
        "colab": {
          "base_uri": "https://localhost:8080/"
        },
        "outputId": "d3cd825b-9056-4d7e-d363-7ea7189cc6b8"
      },
      "source": [
        "# get the training and valid data\n",
        "train_df = data.iloc[0:25000]\n",
        "valid_df = data.iloc[25000:]\n",
        "print(train_df.shape, valid_df.shape)"
      ],
      "execution_count": null,
      "outputs": [
        {
          "output_type": "stream",
          "text": [
            "(25000, 2) (25000, 2)\n"
          ],
          "name": "stdout"
        }
      ]
    },
    {
      "cell_type": "code",
      "metadata": {
        "id": "3i1yiweK3giP"
      },
      "source": [
        " class SentimentClassification:\n",
        "  DATA_COLUMN = \"reviews\" \n",
        "  LABEL_COLUMN = \"label\"\n",
        "\n",
        "  # define a constructor\n",
        "  # type of tokenizer = FullTokenizer\n",
        "  def __init__(self, train, valid, tokenizer: FullTokenizer, labels, max_seq_len):\n",
        "    self.tokenizer = tokenizer\n",
        "\n",
        "    # max_seq_len = 0 because i'll see later on what is the real max_seq_length\n",
        "    self.max_seq_len = 0\n",
        "    self.labels = labels\n",
        "    \n",
        "    # create X_train, y_train, X_valid, y_valid\n",
        "    # map the prepare method that will be created later on, to the train and valid data\n",
        "    #train, valid = map(lambda df: df.reindex(df[SentimentClassification.DATA_COLUMN].str.len().sort_values().index), [train, valid])\n",
        "    ((self.X_train, self.y_train), (self.X_valid, self.y_valid)) = map(self._prepare, [train, valid])\n",
        "    \n",
        "    # see the max_seq_length\n",
        "    # calculated from both training and validation data\n",
        "    print(\"max seq_len\", self.max_seq_len)\n",
        "    self.max_seq_len = min(self.max_seq_len, max_seq_len)\n",
        "\n",
        "    # do the padding by mapping pad method on train and validation data\n",
        "    # pad the sequences in case of mismatch with max_seq_length\n",
        "    self.X_train, self.X_valid = map(self._pad, [self.X_train, self.X_valid])\n",
        "  \n",
        "  # define the prepare method\n",
        "  def _prepare(self, df):\n",
        "    x, y = [], [] # create two lists for reviews 'x' and labels 'y'\n",
        "\n",
        "    # iterate over each row in the dataframe, using tqdm to follow the progress\n",
        "    for _, row in tqdm(df.iterrows()):\n",
        "      review, label = row[SentimentClassification.DATA_COLUMN],row[SentimentClassification.LABEL_COLUMN] # extract review and label\n",
        "      tokens = self.tokenizer.tokenize(review) # tokenize the reviews\n",
        "\n",
        "      # Add two special tokens, 'CLS' and 'SEP'\n",
        "      # CLS means a sequence is starting\n",
        "      # SEP means seperator token, defines a seq has ended\n",
        "      tokens = [\"[CLS]\"] + tokens + [\"[SEP]\"]\n",
        "      token_ids = self.tokenizer.convert_tokens_to_ids(tokens) # convert the tokens into numbers\n",
        "\n",
        "      # calculate the max_seq_length\n",
        "      # max of max_seq_len which is previously defined as 0 and length of token_ids\n",
        "      self.max_seq_len = max(self.max_seq_len, len(token_ids))\n",
        "\n",
        "      # finally append the token_ids and labels\n",
        "      x.append(token_ids)\n",
        "      y.append(self.labels.index(label))\n",
        "\n",
        "    return np.array(x), np.array(y)\n",
        "\n",
        "  # define the pad method\n",
        "  # applied only on token ids that i previosly created\n",
        "  def _pad(self, ids):\n",
        "    x = []\n",
        "    for input_ids in ids:\n",
        "      \n",
        "      # I have to igonre the two tokens that i have previosly created \n",
        "      # hence here i have max_seq_len - 2\n",
        "      cut_point = min(len(input_ids), self.max_seq_len - 2)\n",
        "      input_ids = input_ids[:cut_point]\n",
        "\n",
        "      # if the max_seq_len = 100 and input_ids = 55 then, it will append (post) \n",
        "      # 45 zeros to the sequence \n",
        "      input_ids = input_ids + [0] * (self.max_seq_len - len(input_ids))\n",
        "      x.append(np.array(input_ids))\n",
        "    return np.array(x)"
      ],
      "execution_count": null,
      "outputs": []
    },
    {
      "cell_type": "code",
      "metadata": {
        "id": "EHjk-82D3grZ"
      },
      "source": [
        "# i have to create FullTokenizer\n",
        "# i am using the uncased version of BERT therefore dolowercase=True\n",
        "tokenizer = FullTokenizer(vocab_file = os.path.join(bert_checkpoint_dir, 'vocab.txt'), do_lower_case=True)"
      ],
      "execution_count": null,
      "outputs": []
    },
    {
      "cell_type": "code",
      "metadata": {
        "id": "bAeLezfNSAoA",
        "colab": {
          "base_uri": "https://localhost:8080/"
        },
        "outputId": "7ff51337-c28e-4aac-dc3d-4eea0e31cf67"
      },
      "source": [
        "labels = train_df.label.unique().tolist()\n",
        "data = SentimentClassification(train_df, valid_df, tokenizer, labels, max_seq_len=250)"
      ],
      "execution_count": null,
      "outputs": [
        {
          "output_type": "stream",
          "text": [
            "25000it [00:43, 577.39it/s]\n",
            "25000it [00:42, 595.11it/s]\n"
          ],
          "name": "stderr"
        },
        {
          "output_type": "stream",
          "text": [
            "max seq_len 1366\n"
          ],
          "name": "stdout"
        }
      ]
    },
    {
      "cell_type": "markdown",
      "metadata": {
        "id": "POl-oCLvMhg9"
      },
      "source": [
        "#### **Model**"
      ]
    },
    {
      "cell_type": "code",
      "metadata": {
        "id": "lsP5kBq43gvz"
      },
      "source": [
        "# accepts the max_seq_len & bert_checkpoint_file\n",
        "def create_model(max_seq_len, bert_checkpoint_file, bert_config_file):\n",
        "  \n",
        "  # open the file\n",
        "  with tf.io.gfile.GFile(bert_config_file, \"r\") as reader:\n",
        "      bc = StockBertConfig.from_json_string(reader.read())\n",
        "      bert_params = map_stock_config_to_params(bc)\n",
        "      bert_params.adapter_size = None # I am not fine tuning bert. I set it to None for now.\n",
        "      bert = BertModelLayer.from_params(bert_params, name=\"bert\") # huge Keras BERT layer\n",
        "\n",
        "  # reset the graph\n",
        "  be.clear_session()\n",
        "  tf.compat.v1.reset_default_graph()\n",
        "  \n",
        "  dropout_rate = 0.5\n",
        "  ### Model\n",
        "\n",
        "  # Input shape same as with LSTM\n",
        "  input = Input(shape=(max_seq_len, ), name= 'input') \n",
        "  \n",
        "  # BERT layer\n",
        "  bert_output = bert(input) \n",
        "  print(bert_output.shape)\n",
        "\n",
        "  # flatten bert_output\n",
        "  cls_out = Lambda(lambda seq: seq[:, 0, :])(bert_output)\n",
        "  dropout_1 = Dropout(dropout_rate)(cls_out)\n",
        "\n",
        "  # Now i make a small classifier that takes in the secquences from bert\n",
        "  # number of units is equal to hidden units of bert\n",
        "  dense_1 = Dense(units=768, activation=\"relu\")(dropout_1)\n",
        "  dropout_2 = Dropout(dropout_rate)(dense_1)\n",
        "\n",
        "  # output layer\n",
        "  predictions = Dense(1, activation=\"sigmoid\")(dropout_2)\n",
        "\n",
        "  model = Model(inputs=input, outputs=predictions)\n",
        "  #model.build(input_shape=(None, max_seq_len))\n",
        "  \n",
        "  # load the pre_trained weights\n",
        "  load_stock_weights(bert, bert_checkpoint_file)\n",
        "      \n",
        "  return model"
      ],
      "execution_count": null,
      "outputs": []
    },
    {
      "cell_type": "code",
      "metadata": {
        "id": "ZZy608_I3gzE",
        "colab": {
          "base_uri": "https://localhost:8080/"
        },
        "outputId": "a8d8223a-c855-4c48-d247-a17c0d72fca1"
      },
      "source": [
        "# call the create_model function\n",
        "model = create_model(data.max_seq_len, bert_checkpoint_file, bert_config_file)\n",
        "model.summary() "
      ],
      "execution_count": null,
      "outputs": [
        {
          "output_type": "stream",
          "text": [
            "(None, 250, 768)\n",
            "Done loading 196 BERT weights from: model/uncased_L-12_H-768_A-12/bert_model.ckpt into <bert.model.BertModelLayer object at 0x7fc995609ba8> (prefix:bert). Count of weights not found in the checkpoint was: [0]. Count of weights with mismatched shape: [0]\n",
            "Unused weights from checkpoint: \n",
            "\tbert/embeddings/token_type_embeddings\n",
            "\tbert/pooler/dense/bias\n",
            "\tbert/pooler/dense/kernel\n",
            "\tcls/predictions/output_bias\n",
            "\tcls/predictions/transform/LayerNorm/beta\n",
            "\tcls/predictions/transform/LayerNorm/gamma\n",
            "\tcls/predictions/transform/dense/bias\n",
            "\tcls/predictions/transform/dense/kernel\n",
            "\tcls/seq_relationship/output_bias\n",
            "\tcls/seq_relationship/output_weights\n",
            "Model: \"functional_1\"\n",
            "_________________________________________________________________\n",
            "Layer (type)                 Output Shape              Param #   \n",
            "=================================================================\n",
            "input (InputLayer)           [(None, 250)]             0         \n",
            "_________________________________________________________________\n",
            "bert (BertModelLayer)        (None, 250, 768)          108890112 \n",
            "_________________________________________________________________\n",
            "lambda (Lambda)              (None, 768)               0         \n",
            "_________________________________________________________________\n",
            "dropout (Dropout)            (None, 768)               0         \n",
            "_________________________________________________________________\n",
            "dense (Dense)                (None, 768)               590592    \n",
            "_________________________________________________________________\n",
            "dropout_1 (Dropout)          (None, 768)               0         \n",
            "_________________________________________________________________\n",
            "dense_1 (Dense)              (None, 1)                 769       \n",
            "=================================================================\n",
            "Total params: 109,481,473\n",
            "Trainable params: 109,481,473\n",
            "Non-trainable params: 0\n",
            "_________________________________________________________________\n"
          ],
          "name": "stdout"
        }
      ]
    },
    {
      "cell_type": "markdown",
      "metadata": {
        "id": "wlhwIVsGWKP1"
      },
      "source": [
        "#### **Loss and Optimization**"
      ]
    },
    {
      "cell_type": "code",
      "metadata": {
        "id": "SW0VNm293go5"
      },
      "source": [
        "# Loss \n",
        "loss = 'binary_crossentropy'\n",
        "\n",
        "# Optimizer\n",
        "optimizer = Adam(learning_rate=1e-5) \n",
        " \n",
        "# Compilation\n",
        "model.compile(loss=loss, optimizer= optimizer, metrics = ['accuracy'])"
      ],
      "execution_count": null,
      "outputs": []
    },
    {
      "cell_type": "markdown",
      "metadata": {
        "id": "GqIYki0yWNeR"
      },
      "source": [
        "#### **Training**"
      ]
    },
    {
      "cell_type": "code",
      "metadata": {
        "id": "H8lGch3Z3gm5",
        "colab": {
          "base_uri": "https://localhost:8080/"
        },
        "outputId": "37fb45d0-9a0c-4165-cac7-bfb23b90b97c"
      },
      "source": [
        "checkpoint_filepath = '/content/drive/MyDrive/bert_chk/checkpoint'\n",
        "# Save the weights based on min validation loss. \n",
        "# even if model overfits i'll use this checkpoint to get the weights which had min valid loss.\n",
        "model_checkpoint_callback = ModelCheckpoint(filepath=checkpoint_filepath, save_weights_only=True, monitor='val_loss', mode='min', save_best_only=True)\n",
        "\n",
        "# Loads the weights (IF NEEDED)\n",
        "#model.load_weights(checkpoint_filepath)\n",
        "history = model.fit(data.X_train, \n",
        "                    data.y_train,\n",
        "                    epochs=3,\n",
        "                    validation_data=(data.X_valid, data.y_valid),\n",
        "                    batch_size=6,\n",
        "                    verbose=1,\n",
        "                    shuffle=True,\n",
        "                    callbacks=[model_checkpoint_callback])"
      ],
      "execution_count": null,
      "outputs": [
        {
          "output_type": "stream",
          "text": [
            "Epoch 1/3\n",
            "4167/4167 [==============================] - 2848s 683ms/step - loss: 0.4625 - accuracy: 0.7565 - val_loss: 0.3020 - val_accuracy: 0.8684\n",
            "Epoch 2/3\n",
            "4167/4167 [==============================] - 2885s 692ms/step - loss: 0.2722 - accuracy: 0.8918 - val_loss: 0.2803 - val_accuracy: 0.8826\n",
            "Epoch 3/3\n",
            "4167/4167 [==============================] - 2871s 689ms/step - loss: 0.1835 - accuracy: 0.9320 - val_loss: 0.3099 - val_accuracy: 0.8831\n"
          ],
          "name": "stdout"
        }
      ]
    },
    {
      "cell_type": "markdown",
      "metadata": {
        "id": "6qgtmInm-UGP"
      },
      "source": [
        "Observartions:\n",
        "1. Difficult to handle overfitting despite the use of dropout.\n",
        "2. This implementation is not allowing me to use max_seq_length greater than 250. This could be a potential reason for low validation accuracy as generated embedding by BERT may provide poor summary of the sentiments.\n",
        "3. Better validation accuracy than LSTMs, logictic Regression and FastText.\n",
        "\n",
        "Next Steps:\n",
        "1. Diagnose the problem of limited sequence length, overfitting and poor accuracy. \n",
        "2. If time allows i will use the wrapper Ktrain for BERT and compare the results with this implementation. Otherwise, that would a part of next step.\n",
        "3. learn from mistakes.  "
      ]
    },
    {
      "cell_type": "markdown",
      "metadata": {
        "id": "v0TeCM53cm13"
      },
      "source": [
        "# **BERT with Ktrain**"
      ]
    },
    {
      "cell_type": "markdown",
      "metadata": {
        "id": "Ov17L3vPgwW2"
      },
      "source": [
        "Finally i will now implement BERT using Ktrain. \n",
        "\n",
        "\n"
      ]
    },
    {
      "cell_type": "markdown",
      "metadata": {
        "id": "pOq4Fn0BlZeR"
      },
      "source": [
        "By now i am thinking that maybe i went way to far with Data cleaning that's why the Models are not able to generalize properly. To be sure about this i will first train on less preprocessed data and then use the preprocessed data that i used for all the other models (BERT w/o wrapper, LSTMs, Logistic Regression, FastText). \n",
        "\n",
        "This time i am only going to do the following Data preprocessing:\n",
        "1. Lower Casing\n",
        "2. Removal of URLs\n",
        "3. Removal of HTML tags\n",
        "4. Removal of Puntuations"
      ]
    },
    {
      "cell_type": "code",
      "metadata": {
        "colab": {
          "base_uri": "https://localhost:8080/"
        },
        "id": "kwaAmY7Mmtyg",
        "outputId": "24b30bd7-423e-44fc-a1c9-4b23949b5e26"
      },
      "source": [
        "# less cleaned data\n",
        "for i in range(10):\n",
        "  print(data['reviews'].iloc[i])"
      ],
      "execution_count": null,
      "outputs": [
        {
          "output_type": "stream",
          "text": [
            "this was an absolutely terrible movie don't be lured in by christopher walken or michael ironside both are great actors but this must simply be their worst role in history even their great acting could not redeem this movie ridiculous storyline this movie is an early nineties us propaganda piece the most pathetic scenes were those when the columbian rebels were making their cases for revolutions maria conchita alonso appeared phony and her pseudo love affair with walken was nothing but a pathetic emotional plug in a movie that was devoid of any real meaning i am disappointed that there are movies like this ruining actor like christopher walken good name i could barely sit through it\n",
            "i have been known to fall asleep during films but this is usually due to a combination of things including really tired being warm and comfortable on the sette and having just eaten a lot however on this occasion i fell asleep because the film was rubbish the plot development was constant constantly slow and boring things seemed to happen but with no explanation of what was causing them or why i admit i may have missed part of the film but i watched the majority of it and everything just seemed to happen of its own accord without any real concern for anything else i ca nt recommend this film at all\n",
            "mann photographs the alberta rocky mountains in a superb fashion and jimmy stewart and walter brennan give enjoyable performances as they always seem to do but come on hollywood a mountie telling the people of dawson city yukon to elect themselves a marshal yes a marshal and to enforce the law themselves then gunfighters battling it out on the streets for control of the town nothing even remotely resembling that happened on the canadian side of the border during the klondike gold rush mr mann and company appear to have mistaken dawson city for deadwood the canadian north for the american wild westcanadian viewers be prepared for a reefer madness type of enjoyable howl with this ludicrous plot or to shake your head in disgust\n",
            "this is the kind of film for a snowy sunday afternoon when the rest of the world can go ahead with its own business as you descend into a big arm chair and mellow for a couple of hours wonderful performances from cher and nicolas cage as always gently row the plot along there are no rapids to cross no dangerous waters just a warm and witty paddle through new york life at its best a family film in every sense and one that deserves the praise it received\n",
            "as others have mentioned all the women that go nude in this film are mostly absolutely gorgeous the plot very ably shows the hypocrisy of the female libido when men are around they want to be pursued but when no men are around they become the pursuers of a 14 year old boy and the boy becomes a man really fast we should all be so lucky at this age he then gets up the courage to pursue his true love\n",
            "this is a film which should be seen by anybody interested in effected by or suffering from an eating disorder it is an amazingly accurate and sensitive portrayal of bulimia in a teenage girl its causes and its symptoms the girl is played by one of the most brilliant young actresses working in cinema today alison lohman who was later so spectacular in where the truth lies i would recommend that this film be shown in all schools as you will never see a better on this subject alison lohman is absolutely outstanding and one marvels at her ability to convey the anguish of a girl suffering from this compulsive disorder if barometers tell us the air pressure alison lohman tells us the emotional pressure with the same degree of accuracy her emotional range is so precise each scene could be measured microscopically for its gradations of trauma on a scale of rising hysteria and desperation which reaches unbearable intensity mare winningham is the perfect choice to play her mother and does so with immense sympathy and a range of emotions just as finely tuned as lohman together they make a pair of sensitive emotional oscillators vibrating in resonance with one another this film is really an astonishing achievement and director katt shea should be proud of it the only reason for not seeing it is if you are not interested in people but even if you like nature films best this is after all animal behaviour at the sharp edge bulimia is an extreme version of how a tormented soul can destroy her own body in a frenzy of despair and if we don't sympathise with people suffering from the depths of despair then we are dead inside\n",
            "okay you have penelope keith as miss herringbone tweed bbe backbone of england she killed off in the first scene that right folks this show has no backbonepeter o'toole as ol colonel cricket from the first war and now the emblazered lord of the manorjoanna lumley as the ensweatered lady of the manor 20 years younger than the colonel and 20 years past her own prime but still glamourous brit spelling not mine enough to have a toy boy on the side it alright they have col cricket full knowledge and consent they guy even comes round for christmas still she considerate of the colonel enough to have said toy boy her own age what a galdavid mccallum as said toy boy equally as pointlessly glamourous as his squeeze pilcher couldn't come up with any cover for him within the story so she gave him a hush hush job at the circusand finally susan hampshire as miss polonia teacups venerable headmistress of the venerable girls boarding school serving tea in her office with a dash of deep poignant advice for life in the outside world just before graduation her best bit of advice i've only been to nancherrow the local stately home of england once i thought it was very beautiful but somehow not part of the real world well we can't say they didn't warn usah susan time was your character would have been running the whole show they don't write em like that any more our loss not yoursso with a cast and setting like this you have the re makings of brideshead revisited rightwrong they took these 1dimensional supporting roles because they paid so well after all acting is one of the oldest temp jobs there is you name anotherfirst warning sign lots and lots of backlighting they get around it by shooting outdoors hey it just the sunlightsecond warning sign leading lady cries a lot when not crying her eyes are moist that the law of romance novels leading lady is dewy eyed henceforth leading lady shall be known as llthird warning sign ll actually has stars in her eyes when she in love still i'll give emily mortimer an award just for having to act with that spotlight in her eyes i wonder did they use contactsand lastly fourth warning sign no on screen female character is mrs she either miss or lady when all was said and done i still couldn't tell you who was pursuing whom and why i couldn't even tell you what was said and doneto sum up they all live through world war ii without anything happening to them at allok at the end ll finds she lost her parents to the japanese prison camps and baby sis comes home catatonic meanwhile there always a meanwhile some young guy ll had a crush on when i don't know comes home from some wartime tough spot and is found living on the street by lady of the manor must be some street if she going to find him there both war casualties are whisked away to recover at nancherrow somebody has to be whisked away somewhere in these romance storiesgreat drama\n",
            "the film is based on a genuine 1950s noveljournalist colin mcinnes wrote a set of three london novels absolute beginners city of spades and mr love and justice i have read all three the first two are excellent the last perhaps an experiment that did not come off but mcinnes work is highly acclaimed and rightly so this musical is the novelist ultimate nightmare to see the fruits of one mind being turned into a glitzy badly acted soporific one dimensional apology of a film that says it captures the spirit of 1950s london and does nothing of the sortthank goodness colin mcinnes wasn't alive to witness it\n",
            "i really love the sexy action and sci fi films of the sixties and its because of the actress that appeared in them they found the sexiest women to be in these films and it didn't matter if they could act remember candy the reason i was disappointed by this film was because it wasn't nostalgic enough the story here has a european sci fi film called dragonfly being made and the director is fired so the producers decide to let a young aspiring filmmaker jeremy davies to complete the picture they're is one real beautiful woman in the film who plays dragonfly but she barely in it film is written and directed by roman coppola who uses some of his fathers exploits from his early days and puts it into the script i wish the film could have been an homage to those early films they could have lots of cameos by actors who appeared in them there is one actor in this film who was popular from the sixties and its john phillip law barbarella gerard depardieu giancarlo giannini and dean stockwell appear as well i guess i'm going to have to continue waiting for a director to make a good homage to the films of the sixties if any are reading this make it as sexy as you can i'll be waiting\n",
            "sure this one isn't really a blockbuster nor does it target such a position dieter is the first name of a quite popular german musician who is either loved or hated for his kind of acting and that s exactly what this movie is about it is based on the autobiography dieter bohlen wrote a few years ago but isn't meant to be accurate on that the movie is filled with some sexual offensive content at least for american standard which is either amusing not for the other actors of course or dumb it depends on your individual kind of humor or on you being a bohlenfan or not technically speaking there isn't much to criticize speaking of me i find this movie to be an ok movie\n"
          ],
          "name": "stdout"
        }
      ]
    },
    {
      "cell_type": "code",
      "metadata": {
        "id": "zSOUuaqEcvqF"
      },
      "source": [
        "# install Ktrain\n",
        "#!pip install Ktrain"
      ],
      "execution_count": null,
      "outputs": []
    },
    {
      "cell_type": "code",
      "metadata": {
        "id": "BnalTjzrdDqF"
      },
      "source": [
        "# import necessary Libraries\n",
        "import ktrain\n",
        "from ktrain import text as txt"
      ],
      "execution_count": null,
      "outputs": []
    },
    {
      "cell_type": "code",
      "metadata": {
        "colab": {
          "base_uri": "https://localhost:8080/"
        },
        "id": "rzqKeBhDd2jQ",
        "outputId": "302bedf8-c5fd-4620-ae7c-26d77823d34a"
      },
      "source": [
        "# Do the splitting\n",
        "train_df = data.iloc[0:25000, ]\n",
        "valid_df = data.iloc[25000:, ]\n",
        "print(train_df.shape, valid_df.shape)"
      ],
      "execution_count": null,
      "outputs": [
        {
          "output_type": "stream",
          "text": [
            "(25000, 2) (25000, 2)\n"
          ],
          "name": "stdout"
        }
      ]
    },
    {
      "cell_type": "code",
      "metadata": {
        "id": "cQDtaoG6e_in"
      },
      "source": [
        "import warnings\n",
        "warnings.filterwarnings('ignore')\n",
        "\n",
        "# convert the labels from float to positive and negative labels as Ktrain expects\n",
        "train_df['label'] = train_df['label'].map({1.0: 'positive', 0.0: 'negative'})\n",
        "valid_df['label'] = valid_df['label'].map({1.0: 'positive', 0.0: 'negative'})"
      ],
      "execution_count": null,
      "outputs": []
    },
    {
      "cell_type": "markdown",
      "metadata": {
        "id": "bNM2HMw8qDq-"
      },
      "source": [
        "#### **Load/preprocess data**"
      ]
    },
    {
      "cell_type": "code",
      "metadata": {
        "colab": {
          "base_uri": "https://localhost:8080/",
          "height": 269
        },
        "id": "rP73TozOc__w",
        "outputId": "5e7cb644-fae4-41d4-f577-b9fdce75f95e"
      },
      "source": [
        "# trying a with a bigger size of max_len hyperparameter\n",
        "(x_train, y_train), (x_test, y_test), preproc = txt.texts_from_df(train_df=train_df, \n",
        "                                                                  text_column='reviews', \n",
        "                                                                  label_columns='label', \n",
        "                                                                  val_df=valid_df, \n",
        "                                                                  maxlen=500, \n",
        "                                                                  ngram_range=1, \n",
        "                                                                  preprocess_mode='bert',\n",
        "                                                                  random_state=None,\n",
        "                                                                  verbose=1)"
      ],
      "execution_count": null,
      "outputs": [
        {
          "output_type": "stream",
          "text": [
            "downloading pretrained BERT model (uncased_L-12_H-768_A-12.zip)...\n",
            "[██████████████████████████████████████████████████]\n",
            "extracting pretrained BERT model...\n",
            "done.\n",
            "\n",
            "cleanup downloaded zip...\n",
            "done.\n",
            "\n",
            "preprocessing train...\n",
            "language: en\n"
          ],
          "name": "stdout"
        },
        {
          "output_type": "display_data",
          "data": {
            "text/html": [
              "done."
            ],
            "text/plain": [
              "<IPython.core.display.HTML object>"
            ]
          },
          "metadata": {
            "tags": []
          }
        },
        {
          "output_type": "stream",
          "text": [
            "Is Multi-Label? False\n",
            "preprocessing test...\n",
            "language: en\n"
          ],
          "name": "stdout"
        },
        {
          "output_type": "display_data",
          "data": {
            "text/html": [
              "done."
            ],
            "text/plain": [
              "<IPython.core.display.HTML object>"
            ]
          },
          "metadata": {
            "tags": []
          }
        }
      ]
    },
    {
      "cell_type": "markdown",
      "metadata": {
        "id": "-NtO0iS4qHmj"
      },
      "source": [
        "#### **Load Model**"
      ]
    },
    {
      "cell_type": "code",
      "metadata": {
        "colab": {
          "base_uri": "https://localhost:8080/"
        },
        "id": "nhW4woyEebdq",
        "outputId": "c392cf2f-bf1e-411c-9674-6b9555446236"
      },
      "source": [
        "model = txt.text_classifier('bert', (x_train, y_train), preproc=preproc)"
      ],
      "execution_count": null,
      "outputs": [
        {
          "output_type": "stream",
          "text": [
            "Is Multi-Label? False\n",
            "maxlen is 500\n",
            "done.\n"
          ],
          "name": "stdout"
        }
      ]
    },
    {
      "cell_type": "markdown",
      "metadata": {
        "id": "SWR6UQrVvX97"
      },
      "source": [
        "#### **Saving and reloading**"
      ]
    },
    {
      "cell_type": "code",
      "metadata": {
        "id": "1nZBol8Ywl46"
      },
      "source": [
        "# save model and Preprocessor instance after partially training (checkpoints)\n",
        "# So that i don't have train again\n",
        "ktrain.get_predictor(model, preproc).save('/content/drive/MyDrive/bertKtrainChk/checkpoint')\n",
        "\n",
        "# reload Predictor and extract model\n",
        "#model = ktrain.load_predictor('/content/drive/MyDrive/bertKtrainChk/checkpoint').model"
      ],
      "execution_count": null,
      "outputs": []
    },
    {
      "cell_type": "markdown",
      "metadata": {
        "id": "370Stxrrv9WE"
      },
      "source": [
        "#### **Wrapping**"
      ]
    },
    {
      "cell_type": "code",
      "metadata": {
        "id": "fxHu7HdlfoPv"
      },
      "source": [
        "# wrap model and data in ktrain.Learner object\n",
        "learner = ktrain.get_learner(model, \n",
        "                             train_data=(x_train, y_train), \n",
        "                             val_data=(x_test, y_test), \n",
        "                             batch_size=6)"
      ],
      "execution_count": null,
      "outputs": []
    },
    {
      "cell_type": "markdown",
      "metadata": {
        "id": "w0Ql9Zrqo_iL"
      },
      "source": [
        "#### **Training**"
      ]
    },
    {
      "cell_type": "code",
      "metadata": {
        "colab": {
          "base_uri": "https://localhost:8080/"
        },
        "id": "P8ANbxlPf2pJ",
        "outputId": "bb8c1a37-df52-4a6c-f90a-0264ef7af96b"
      },
      "source": [
        "# using 1cycle learning rate schedule for 1 epoch\n",
        "learner.fit_onecycle(2e-5, 1) "
      ],
      "execution_count": null,
      "outputs": [
        {
          "output_type": "stream",
          "text": [
            "\n",
            "\n",
            "begin training using onecycle policy with max lr of 2e-05...\n",
            "4167/4167 [==============================] - 3477s 835ms/step - loss: 0.2514 - accuracy: 0.8955 - val_loss: 0.1623 - val_accuracy: 0.9388\n"
          ],
          "name": "stdout"
        },
        {
          "output_type": "execute_result",
          "data": {
            "text/plain": [
              "<tensorflow.python.keras.callbacks.History at 0x7f116e58afd0>"
            ]
          },
          "metadata": {
            "tags": []
          },
          "execution_count": 46
        }
      ]
    },
    {
      "cell_type": "markdown",
      "metadata": {
        "id": "qXQZAF0I70Hx"
      },
      "source": [
        "After this i will train BERT on Fully preprocessd data that i used for other models (LSTMs, logistic Regression, FastText)"
      ]
    },
    {
      "cell_type": "markdown",
      "metadata": {
        "id": "8dT41suD6FaR"
      },
      "source": [
        "### **Training BERT on Fully preprocessed data**"
      ]
    },
    {
      "cell_type": "code",
      "metadata": {
        "colab": {
          "base_uri": "https://localhost:8080/"
        },
        "id": "PY6uiXjJ6xS_",
        "outputId": "f3e64ed7-f23a-4153-9414-0362dbef691a"
      },
      "source": [
        "# Extreme cleaned data\n",
        "for i in range(10):\n",
        "  print(data['reviews'].iloc[i])"
      ],
      "execution_count": null,
      "outputs": [
        {
          "output_type": "stream",
          "text": [
            "absolutely terrible movie don't lure christopher walken michael ironside great actor simply wrong role history great act redeem movie ridiculous storyline movie early ninety propaganda piece pathetic scene columbian rebel make case revolution mare conchita alonso appear phony pseudo love affair walken pathetic emotional plug movie devoid real mean disappoint movie like ruin actor like christopher walken good barely sit\n",
            "know fall asleep film usually combination thing include tire warm comfortable have eat lot occasion fall asleep film rubbish plot development constant constantly slow bore thing happen explanation cause admit miss film watch majority happen accord real concern not recommend film\n",
            "mann photograph alberta rocky mountain superb fashion jimmy stewart walter brennan enjoyable performance come hollywood mountie tell people dawson city yukon elect marshal yes marshal enforce law battle street control town remotely resemble happen canadian border klondike gold rush mr mann company appear mistake dawson city deadwood canadian north american wild viewer prepare reefer madness type enjoyable howl ludicrous plot shake head disgust\n",
            "kind film snowy sunday afternoon rest world ahead business descend big arm chair mellow couple hour wonderful performance cher nicolas cage gently row plot rapid cross dangerous water warm witty paddle new york life well family film sense deserve praise receive\n",
            "mention woman nude film absolutely gorgeous plot ably show hypocrisy female libido man want pursue man pursuer year old boy man fast lucky age get courage pursue true love\n",
            "film see anybody interest effect suffer eat disorder amazingly accurate sensitive portrayal bulimia teenage girl cause symptom girl play brilliant young actress work cinema today alison late spectacular truth lie recommend film show school well subject alison absolutely outstanding marvel ability convey anguish girl suffer compulsive disorder barometer tell air pressure alison tell emotional pressure degree accuracy emotional range precise scene measure microscopically gradation trauma scale rise hysteria desperation reach unbearable intensity mare perfect choice play mother immense sympathy range emotion finely tune pair sensitive emotional oscillator vibrate resonance film astonish achievement director shea proud reason see interest people like nature film well animal behaviour sharp edge bulimia extreme version torment soul destroy body frenzy despair don't sympathise people suffer depth despair dead inside\n",
            "okay penelope keith miss herringbone tweed backbone england kill scene right folk o'toole old colonel cricket war lord lumley lady manor year young colonel year past prime glamourous brit spell toy boy alright col cricket knowledge consent guy come round christmas considerate colonel say toy boy age mccallum say toy boy equally pointlessly glamourous squeeze pilcher couldn't come cover story give hush job finally susan hampshire miss polonia teacup venerable headmistress venerable girl board school serve tea office dash deep poignant advice life outside world graduation well bite advice local stately home england think beautiful real world can't didn't warn susan time character run don't write -PRON- like loss cast set like making brideshead revisit take support role pay act old temp job warn sign lot backlight shoot outdoor hey warn sign lead lady cry lot cry eye moist law romance novel lead lady dewy eye henceforth lead lady shall know warn sign will actually star eye love emily mortimer award have act spotlight eye wonder use lastly warn sign screen female character mrs miss lady say couldn't tell pursue couldn't tell say sum live world war ii happen end will find lose parent japanese prison camp baby sis come home catatonic young guy will crush don't know come home wartime tough spot find live street lady manor street go find war casualty whisk away recover somebody whisk away romance drama\n",
            "film base genuine colin mcinnes write set london novel absolute beginner city spade mr love justice read excellent experiment come mcinnes work highly acclaim rightly musical novelist ultimate nightmare fruit mind turn glitzy badly act soporific dimensional apology film say capture spirit london goodness colin mcinnes alive witness\n",
            "love sexy action sci fi film sixty actress appear find sexy woman film didn't matt act remember candy reason disappoint film nostalgic story european sci fi film call dragonfly director fire producer decide let young aspire filmmaker jeremy davies complete picture real beautiful woman film play dragonfly barely film write direct roman coppola use father exploit early day put script wish film homage early film lot cameo actor appear actor film popular sixty john phillip law gerard depardieu giancarlo giannini dean stockwell appear guess go continue wait director good homage film sixty read sexy wait\n",
            "sure isn't blockbuster target position dieter popular german musician love hate kind act s exactly movie base autobiography dieter write year ago isn't mean accurate movie fill sexual offensive content american standard amuse actor course dumb depend individual kind humor technically speak isn't criticize speak find movie okay movie\n"
          ],
          "name": "stdout"
        }
      ]
    },
    {
      "cell_type": "code",
      "metadata": {
        "colab": {
          "base_uri": "https://localhost:8080/",
          "height": 269
        },
        "id": "dKvQy-Jy5yNP",
        "outputId": "e7c908da-79c6-40b5-8837-200abf67bfbe"
      },
      "source": [
        "(x_train, y_train), (x_test, y_test), preproc = txt.texts_from_df(train_df=train_df, \n",
        "                                                                  text_column='reviews', \n",
        "                                                                  label_columns='label', \n",
        "                                                                  val_df=valid_df, \n",
        "                                                                  maxlen=500, \n",
        "                                                                  ngram_range=1, \n",
        "                                                                  preprocess_mode='bert',\n",
        "                                                                  random_state=None,\n",
        "                                                                  verbose=1)"
      ],
      "execution_count": null,
      "outputs": [
        {
          "output_type": "stream",
          "text": [
            "downloading pretrained BERT model (uncased_L-12_H-768_A-12.zip)...\n",
            "[██████████████████████████████████████████████████]\n",
            "extracting pretrained BERT model...\n",
            "done.\n",
            "\n",
            "cleanup downloaded zip...\n",
            "done.\n",
            "\n",
            "preprocessing train...\n",
            "language: en\n"
          ],
          "name": "stdout"
        },
        {
          "output_type": "display_data",
          "data": {
            "text/html": [
              "done."
            ],
            "text/plain": [
              "<IPython.core.display.HTML object>"
            ]
          },
          "metadata": {
            "tags": []
          }
        },
        {
          "output_type": "stream",
          "text": [
            "Is Multi-Label? False\n",
            "preprocessing test...\n",
            "language: en\n"
          ],
          "name": "stdout"
        },
        {
          "output_type": "display_data",
          "data": {
            "text/html": [
              "done."
            ],
            "text/plain": [
              "<IPython.core.display.HTML object>"
            ]
          },
          "metadata": {
            "tags": []
          }
        }
      ]
    },
    {
      "cell_type": "code",
      "metadata": {
        "colab": {
          "base_uri": "https://localhost:8080/"
        },
        "id": "3odRU-q-5yT7",
        "outputId": "1acac972-3870-41c1-fb83-bd7dbce4ff16"
      },
      "source": [
        "model = txt.text_classifier('bert', (x_train, y_train), preproc=preproc)"
      ],
      "execution_count": null,
      "outputs": [
        {
          "output_type": "stream",
          "text": [
            "Is Multi-Label? False\n",
            "maxlen is 500\n",
            "done.\n"
          ],
          "name": "stdout"
        }
      ]
    },
    {
      "cell_type": "code",
      "metadata": {
        "id": "xIjFZdMN6AB7"
      },
      "source": [
        "# wrap model and data in ktrain.Learner object\n",
        "learner = ktrain.get_learner(model, \n",
        "                             train_data=(x_train, y_train), \n",
        "                             val_data=(x_test, y_test), \n",
        "                             batch_size=6)"
      ],
      "execution_count": null,
      "outputs": []
    },
    {
      "cell_type": "code",
      "metadata": {
        "colab": {
          "base_uri": "https://localhost:8080/"
        },
        "id": "UJljXm4S6DU3",
        "outputId": "823d6f8b-89d2-44ae-c5d3-9ce2bc138c10"
      },
      "source": [
        "# using 1cycle learning rate schedule for 1 epoch\n",
        "learner.fit_onecycle(2e-5, 1) "
      ],
      "execution_count": null,
      "outputs": [
        {
          "output_type": "stream",
          "text": [
            "\n",
            "\n",
            "begin training using onecycle policy with max lr of 2e-05...\n",
            "4167/4167 [==============================] - 5398s 1s/step - loss: 0.3543 - accuracy: 0.8430 - val_loss: 0.2541 - val_accuracy: 0.8931\n"
          ],
          "name": "stdout"
        },
        {
          "output_type": "execute_result",
          "data": {
            "text/plain": [
              "<tensorflow.python.keras.callbacks.History at 0x7f4f1011cf28>"
            ]
          },
          "metadata": {
            "tags": []
          },
          "execution_count": 16
        }
      ]
    },
    {
      "cell_type": "markdown",
      "metadata": {
        "id": "1k46m-fkWXz3"
      },
      "source": [
        "Observations:\n",
        "1. Using Ktrain was 100 times easier than with manual implementation.\n",
        "2. With less amount of data cleaning i managed to achieve Decent validation accuracy.\n",
        "3. In my opinion BERT is a data hungry algorithm. Intensive data cleaning will hurt the model performance as it reduces the data accordingly (eg. lemmatization, removal of stopwords etc.).\n",
        "4. A better approach would be to try out deep learning algorithms (LSTMs, BERT etc.) with and without intensive data cleaning and compare the results. "
      ]
    }
  ]
}